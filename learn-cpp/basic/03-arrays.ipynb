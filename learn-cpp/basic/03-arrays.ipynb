{
 "cells": [
  {
   "cell_type": "markdown",
   "id": "ac3a2c8d",
   "metadata": {},
   "source": [
    "# Arrays\n",
    "\n",
    "### What is an array\n",
    "\n",
    "An array is a group of same type of variables clubbed together. Declaration syntax:\n",
    "\n",
    "```cpp\n",
    "<type> Name[number_of_elements];\n",
    "```\n",
    "\n",
    "Example:\n",
    "\n",
    "```cpp\n",
    "int marks[5];\n",
    "marks[0] = 96;\n",
    "marks[1] = 92;\n",
    "// ... or in one line:\n",
    "int marks[] = { 96, 92, 78, 54, 86};\n",
    "```\n",
    "\n",
    "Arrays are 0-indexed, so the first element is `marks[0]`."
   ]
  },
  {
   "cell_type": "code",
   "execution_count": 3,
   "id": "2f98a537",
   "metadata": {
    "vscode": {
     "languageId": "cpp"
    }
   },
   "outputs": [
    {
     "name": "stdout",
     "output_type": "stream",
     "text": [
      "Marks: \n",
      "96\n",
      "92\n",
      "78\n",
      "54\n",
      "86\n",
      "96\n",
      "92\n",
      "78\n",
      "54\n",
      "86\n"
     ]
    }
   ],
   "source": [
    "#include <iostream>\n",
    "using namespace std;\n",
    "\n",
    "// Declare and initialize array\n",
    "int marks[] = { 96, 92, 78, 54, 86};\n",
    "\n",
    "// Print array elements using a loop\n",
    "cout << \"Marks: \" << endl;\n",
    "for(int i = 0; i < 5; i++) {\n",
    "    cout << marks[i] << endl;\n",
    "}"
   ]
  },
  {
   "cell_type": "markdown",
   "id": "62a04cc3",
   "metadata": {},
   "source": [
    "## Exercise\n",
    "\n",
    "Initialize a keys array with values 'b', 'c', 'd', 'a', 'b', 'b' and print the third element."
   ]
  },
  {
   "cell_type": "code",
   "execution_count": 4,
   "id": "fbb55bc0",
   "metadata": {
    "vscode": {
     "languageId": "cpp"
    }
   },
   "outputs": [
    {
     "name": "stdout",
     "output_type": "stream",
     "text": [
      "Third element: d\n"
     ]
    }
   ],
   "source": [
    "#include <iostream>\n",
    "using namespace std;\n",
    "\n",
    "char keys[6] = {'b', 'c', 'd', 'a', 'b', 'b'};\n",
    "\n",
    "cout << \"Third element: \" << keys[2] << endl;"
   ]
  }
 ],
 "metadata": {
  "kernelspec": {
   "display_name": "C++17",
   "language": "C++17",
   "name": "xcpp17"
  },
  "language_info": {
   "codemirror_mode": "text/x-c++src",
   "file_extension": ".cpp",
   "mimetype": "text/x-c++src",
   "name": "c++",
   "version": "17"
  }
 },
 "nbformat": 4,
 "nbformat_minor": 5
}
