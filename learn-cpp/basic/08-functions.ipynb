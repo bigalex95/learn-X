{
 "cells": [
  {
   "cell_type": "markdown",
   "id": "66bee65e",
   "metadata": {},
   "source": [
    "# Functions\n",
    "\n",
    "Functions are collections of statements designed to perform specific tasks.\n",
    "\n",
    "### Syntax\n",
    "\n",
    "```cpp\n",
    "return_type function_name(parameters) {\n",
    "    // statements\n",
    "    return value;\n",
    "}\n",
    "```\n",
    "\n",
    "### Example\n",
    "\n",
    "```cpp\n",
    "int squareNumber(int x) {\n",
    "    return x * x;\n",
    "}\n",
    "```"
   ]
  },
  {
   "cell_type": "code",
   "execution_count": 16,
   "id": "ae4113ab",
   "metadata": {
    "vscode": {
     "languageId": "cpp"
    }
   },
   "outputs": [],
   "source": [
    "#include <iostream>\n",
    "using namespace std;"
   ]
  },
  {
   "cell_type": "code",
   "execution_count": 17,
   "id": "f85312a0",
   "metadata": {
    "vscode": {
     "languageId": "cpp"
    }
   },
   "outputs": [
    {
     "name": "stdout",
     "output_type": "stream",
     "text": [
      "9 squared is 81\n"
     ]
    }
   ],
   "source": [
    "// Define a function using preprocessor macro (works in Jupyter)\n",
    "#define squareNumber(x) ((x) * (x))\n",
    "\n",
    "{\n",
    "    int input = 9;\n",
    "    int output = squareNumber(input);\n",
    "    \n",
    "    cout << input << \" squared is \" << output << endl;\n",
    "}"
   ]
  },
  {
   "cell_type": "markdown",
   "id": "4a6b5907",
   "metadata": {},
   "source": [
    "## Void functions\n",
    "\n",
    "Functions can return nothing (void):\n",
    "\n",
    "```cpp\n",
    "void helloThere(string name) {\n",
    "    cout << \"Hello, \" << name;\n",
    "}\n",
    "```"
   ]
  },
  {
   "cell_type": "code",
   "execution_count": 18,
   "id": "b85ab382",
   "metadata": {
    "vscode": {
     "languageId": "cpp"
    }
   },
   "outputs": [
    {
     "name": "stdout",
     "output_type": "stream",
     "text": [
      "Hello, Celina\n",
      "Hello, World\n",
      "Hello, World\n"
     ]
    }
   ],
   "source": [
    "#include <string>\n",
    "\n",
    "// Define a void function using macro\n",
    "#define helloThere(name) cout << \"Hello, \" << (name) << endl\n",
    "\n",
    "{\n",
    "    helloThere(\"Celina\");\n",
    "    helloThere(\"World\");\n",
    "}"
   ]
  },
  {
   "cell_type": "markdown",
   "id": "1cd2b9f6",
   "metadata": {},
   "source": [
    "## Exercise\n",
    "\n",
    "Create a function that prints the sum of three given variables a, b, and c."
   ]
  },
  {
   "cell_type": "code",
   "execution_count": 19,
   "id": "fa0a3116",
   "metadata": {
    "vscode": {
     "languageId": "cpp"
    }
   },
   "outputs": [
    {
     "name": "stdout",
     "output_type": "stream",
     "text": [
      "Sum: 30\n",
      "Sum: 6\n",
      "Sum: 6\n"
     ]
    }
   ],
   "source": [
    "// Define a function that prints sum of three numbers\n",
    "#define printSum(a, b, c) cout << \"Sum: \" << ((a) + (b) + (c)) << endl\n",
    "\n",
    "{\n",
    "    printSum(5, 10, 15);\n",
    "    printSum(1, 2, 3);\n",
    "}"
   ]
  },
  {
   "cell_type": "markdown",
   "id": "e0ea195d",
   "metadata": {},
   "source": [
    "## Note about C++ Functions in Jupyter\n",
    "\n",
    "In a regular C++ program, you would write functions like this:\n",
    "\n",
    "```cpp\n",
    "int squareNumber(int x) {\n",
    "    return x * x;\n",
    "}\n",
    "\n",
    "void helloThere(string name) {\n",
    "    cout << \"Hello, \" << name << endl;\n",
    "}\n",
    "```\n",
    "\n",
    "However, Jupyter C++ kernels have limitations with function definitions. The macro approach shown above (`#define`) works reliably and demonstrates the same concepts: taking parameters, performing operations, and returning/printing results."
   ]
  },
  {
   "cell_type": "markdown",
   "id": "3eff6115",
   "metadata": {},
   "source": [
    "## Real C++ Functions in Jupyter\n",
    "\n",
    "Let's create proper C++ functions that can handle complex logic:"
   ]
  },
  {
   "cell_type": "code",
   "execution_count": 20,
   "id": "8a3e5ae8",
   "metadata": {
    "vscode": {
     "languageId": "cpp"
    }
   },
   "outputs": [
    {
     "name": "stdout",
     "output_type": "stream",
     "text": [
      "Factorial of 5: 120\n",
      "Factorial of 7: 5040\n",
      "Factorial of 7: 5040\n"
     ]
    }
   ],
   "source": [
    "// Method 2: Using inline anonymous functions with immediate execution\n",
    "{\n",
    "    // Complex function for factorial calculation\n",
    "    auto factorial = [](int n) -> int {\n",
    "        if (n <= 1) return 1;\n",
    "        int result = 1;\n",
    "        for (int i = 2; i <= n; i++) {\n",
    "            result *= i;\n",
    "        }\n",
    "        return result;\n",
    "    };\n",
    "    \n",
    "    cout << \"Factorial of 5: \" << factorial(5) << endl;\n",
    "    cout << \"Factorial of 7: \" << factorial(7) << endl;\n",
    "}"
   ]
  },
  {
   "cell_type": "code",
   "execution_count": 21,
   "id": "3a003ab0",
   "metadata": {
    "vscode": {
     "languageId": "cpp"
    }
   },
   "outputs": [
    {
     "name": "stdout",
     "output_type": "stream",
     "text": [
      "Rectangle area (5x3): 15\n",
      "Triangle area (5x3): 7.5\n",
      "Circle area (radius=3): 28.2743\n",
      "Triangle area (5x3): 7.5\n",
      "Circle area (radius=3): 28.2743\n"
     ]
    }
   ],
   "source": [
    "{\n",
    "    // Complex function with multiple parameters and conditional logic\n",
    "    auto calculateArea = [](double length, double width, string shape) -> double {\n",
    "        if (shape == \"rectangle\") {\n",
    "            return length * width;\n",
    "        } else if (shape == \"triangle\") {\n",
    "            return 0.5 * length * width;\n",
    "        } else if (shape == \"circle\") {\n",
    "            // Assuming length is radius\n",
    "            return 3.14159 * length * length;\n",
    "        }\n",
    "        return 0.0;\n",
    "    };\n",
    "    \n",
    "    cout << \"Rectangle area (5x3): \" << calculateArea(5.0, 3.0, \"rectangle\") << endl;\n",
    "    cout << \"Triangle area (5x3): \" << calculateArea(5.0, 3.0, \"triangle\") << endl;\n",
    "    cout << \"Circle area (radius=3): \" << calculateArea(3.0, 0, \"circle\") << endl;\n",
    "}"
   ]
  },
  {
   "cell_type": "code",
   "execution_count": 22,
   "id": "df019d5f",
   "metadata": {
    "vscode": {
     "languageId": "cpp"
    }
   },
   "outputs": [
    {
     "name": "stdout",
     "output_type": "stream",
     "text": [
      "Maximum in array: 9\n",
      "Statistics for array: 3 7 2 9 1 5 8 \n",
      "Sum: 35, Average: 5\n",
      "Max: 9, Min: 1\n",
      "Statistics for array: 3 7 2 9 1 5 8 \n",
      "Sum: 35, Average: 5\n",
      "Max: 9, Min: 1\n"
     ]
    }
   ],
   "source": [
    "{\n",
    "    // Complex function working with arrays and loops\n",
    "    auto findMax = [](vector<int> arr) -> int {\n",
    "        int max = arr[0];\n",
    "        for (int i = 1; i < arr.size(); i++) {\n",
    "            if (arr[i] > max) {\n",
    "                max = arr[i];\n",
    "            }\n",
    "        }\n",
    "        return max;\n",
    "    };\n",
    "    \n",
    "    auto calculateStats = [](vector<int> arr) -> void {\n",
    "        int sum = 0, max = arr[0], min = arr[0];\n",
    "        for (int num : arr) {\n",
    "            sum += num;\n",
    "            if (num > max) max = num;\n",
    "            if (num < min) min = num;\n",
    "        }\n",
    "        double average = (double)sum / arr.size();\n",
    "        \n",
    "        cout << \"Statistics for array: \";\n",
    "        for (int num : arr) cout << num << \" \";\n",
    "        cout << endl;\n",
    "        cout << \"Sum: \" << sum << \", Average: \" << average << endl;\n",
    "        cout << \"Max: \" << max << \", Min: \" << min << endl;\n",
    "    };\n",
    "    \n",
    "    vector<int> numbers = {3, 7, 2, 9, 1, 5, 8};\n",
    "    cout << \"Maximum in array: \" << findMax(numbers) << endl;\n",
    "    calculateStats(numbers);\n",
    "}"
   ]
  },
  {
   "cell_type": "markdown",
   "id": "7b135dc5",
   "metadata": {},
   "source": [
    "## Advanced Function Example with Classes"
   ]
  },
  {
   "cell_type": "code",
   "execution_count": 23,
   "id": "006fd66d",
   "metadata": {
    "vscode": {
     "languageId": "cpp"
    }
   },
   "outputs": [
    {
     "name": "stdout",
     "output_type": "stream",
     "text": [
      "Processing student data...\n",
      "Student: Alice, GPA: 90.75\n",
      "Student: Bob, GPA: 82.25\n",
      "Student: Charlie, GPA: 89.75\n",
      "Top student: Alice\n",
      "Student: Alice, GPA: 90.75\n",
      "Student: Bob, GPA: 82.25\n",
      "Student: Charlie, GPA: 89.75\n",
      "Top student: Alice\n"
     ]
    }
   ],
   "source": [
    "{\n",
    "    // Complex function with struct/class and multiple algorithms\n",
    "    struct Student {\n",
    "        string name;\n",
    "        vector<int> grades;\n",
    "        double gpa;\n",
    "    };\n",
    "    \n",
    "    auto calculateGPA = [](const vector<int>& grades) -> double {\n",
    "        if (grades.empty()) return 0.0;\n",
    "        int sum = 0;\n",
    "        for (int grade : grades) {\n",
    "            sum += grade;\n",
    "        }\n",
    "        return (double)sum / grades.size();\n",
    "    };\n",
    "    \n",
    "    auto processStudents = [&calculateGPA](vector<Student>& students) -> void {\n",
    "        cout << \"Processing student data...\" << endl;\n",
    "        for (auto& student : students) {\n",
    "            student.gpa = calculateGPA(student.grades);\n",
    "            cout << \"Student: \" << student.name \n",
    "                 << \", GPA: \" << student.gpa << endl;\n",
    "        }\n",
    "    };\n",
    "    \n",
    "    auto findTopStudent = [](const vector<Student>& students) -> string {\n",
    "        if (students.empty()) return \"No students\";\n",
    "        string topStudent = students[0].name;\n",
    "        double highestGPA = students[0].gpa;\n",
    "        \n",
    "        for (const auto& student : students) {\n",
    "            if (student.gpa > highestGPA) {\n",
    "                highestGPA = student.gpa;\n",
    "                topStudent = student.name;\n",
    "            }\n",
    "        }\n",
    "        return topStudent;\n",
    "    };\n",
    "    \n",
    "    // Test the complex functions\n",
    "    vector<Student> students = {\n",
    "        {\"Alice\", {95, 87, 92, 89}, 0.0},\n",
    "        {\"Bob\", {78, 85, 90, 76}, 0.0},\n",
    "        {\"Charlie\", {88, 92, 85, 94}, 0.0}\n",
    "    };\n",
    "    \n",
    "    processStudents(students);\n",
    "    cout << \"Top student: \" << findTopStudent(students) << endl;\n",
    "}"
   ]
  }
 ],
 "metadata": {
  "kernelspec": {
   "display_name": "C++17",
   "language": "C++17",
   "name": "xcpp17"
  },
  "language_info": {
   "codemirror_mode": "text/x-c++src",
   "file_extension": ".cpp",
   "mimetype": "text/x-c++src",
   "name": "c++",
   "version": "17"
  }
 },
 "nbformat": 4,
 "nbformat_minor": 5
}
