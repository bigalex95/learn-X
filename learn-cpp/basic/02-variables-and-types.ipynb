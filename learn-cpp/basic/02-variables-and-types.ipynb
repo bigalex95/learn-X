{
 "cells": [
  {
   "cell_type": "markdown",
   "id": "b973f302",
   "metadata": {},
   "source": [
    "# Variables and Types\n",
    "\n",
    "### Data types\n",
    "\n",
    "C++ provides a rich set of built-in data types:\n",
    "\n",
    "- **Boolean** - `bool` - either `true` or `false`\n",
    "- **Characters** - `char` - alphabets and symbols\n",
    "- **Integers** - `int`, `short`, `long` - whole numbers\n",
    "- **Floating point** - `float`, `double` - real numbers\n",
    "- **Void** - `void` - valueless\n",
    "\n",
    "### Defining variables\n",
    "\n",
    "For numbers, we use type `int` for integers. To define variables:\n",
    "\n",
    "```cpp\n",
    "int foo;\n",
    "int bar = 1;\n",
    "```"
   ]
  },
  {
   "cell_type": "code",
   "execution_count": 3,
   "id": "92e798a9",
   "metadata": {
    "vscode": {
     "languageId": "cpp"
    }
   },
   "outputs": [
    {
     "name": "stdout",
     "output_type": "stream",
     "text": [
      "Result: 11\n"
     ]
    },
    {
     "data": {
      "text/plain": [
       "@0x7f6153dfcde0"
      ]
     },
     "execution_count": 3,
     "metadata": {},
     "output_type": "execute_result"
    }
   ],
   "source": [
    "#include <iostream>\n",
    "using namespace std;\n",
    "\n",
    "// Define and initialize variables\n",
    "int a = 0, b = 1, c = 2, d = 3, e = 4;\n",
    "\n",
    "// Perform arithmetic\n",
    "a = b - c + d * e;\n",
    "\n",
    "cout << \"Result: \" << a << endl; // will print 1-2+3*4 = 11"
   ]
  },
  {
   "cell_type": "markdown",
   "id": "18a01230",
   "metadata": {},
   "source": [
    "## Exercise\n",
    "\n",
    "Create a program which prints out the sum of numbers a, b, and c."
   ]
  },
  {
   "cell_type": "code",
   "execution_count": 4,
   "id": "21d48ab0",
   "metadata": {
    "vscode": {
     "languageId": "cpp"
    }
   },
   "outputs": [
    {
     "name": "stdout",
     "output_type": "stream",
     "text": [
      "Sum: 30\n"
     ]
    }
   ],
   "source": [
    "#include <iostream>\n",
    "using namespace std;\n",
    "\n",
    "int a = 5, b = 10, c = 15;\n",
    "int sum = a + b + c;\n",
    "\n",
    "cout << \"Sum: \" << sum << endl;"
   ]
  }
 ],
 "metadata": {
  "kernelspec": {
   "display_name": "C++17",
   "language": "C++17",
   "name": "xcpp17"
  },
  "language_info": {
   "codemirror_mode": "text/x-c++src",
   "file_extension": ".cpp",
   "mimetype": "text/x-c++src",
   "name": "c++",
   "version": "17"
  }
 },
 "nbformat": 4,
 "nbformat_minor": 5
}
