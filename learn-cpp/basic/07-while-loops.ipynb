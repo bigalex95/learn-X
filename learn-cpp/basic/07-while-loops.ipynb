{
 "cells": [
  {
   "cell_type": "markdown",
   "id": "1b71958a",
   "metadata": {},
   "source": [
    "# While loops\n",
    "\n",
    "A **while loop** repeats statements while a condition is true.\n",
    "\n",
    "### Syntax\n",
    "\n",
    "```cpp\n",
    "while (condition) {\n",
    "    // body of the loop\n",
    "}\n",
    "```\n",
    "\n",
    "### Control keywords\n",
    "\n",
    "- `break` - terminates the loop\n",
    "- `continue` - skips to next iteration"
   ]
  },
  {
   "cell_type": "code",
   "execution_count": 4,
   "id": "9fd3f8de",
   "metadata": {
    "vscode": {
     "languageId": "cpp"
    }
   },
   "outputs": [
    {
     "name": "stdout",
     "output_type": "stream",
     "text": [
      "Counting from 1 to 5:\n",
      "1\n",
      "2\n",
      "3\n",
      "4\n",
      "5\n",
      "1\n",
      "2\n",
      "3\n",
      "4\n",
      "5\n"
     ]
    }
   ],
   "source": [
    "#include <iostream>\n",
    "using namespace std;\n",
    "\n",
    "int count = 1;\n",
    "\n",
    "cout << \"Counting from 1 to 5:\" << endl;\n",
    "while(count <= 5) {\n",
    "    cout << count << endl;\n",
    "    count++;\n",
    "}"
   ]
  },
  {
   "cell_type": "markdown",
   "id": "471ad0a2",
   "metadata": {},
   "source": [
    "## Example with break and continue"
   ]
  },
  {
   "cell_type": "code",
   "execution_count": 5,
   "id": "c8d10245",
   "metadata": {
    "vscode": {
     "languageId": "cpp"
    }
   },
   "outputs": [
    {
     "name": "stdout",
     "output_type": "stream",
     "text": [
      "199\n",
      "198\n",
      "197\n",
      "196\n",
      "195\n",
      "194\n",
      "193\n",
      "192\n",
      "191\n",
      "Skipped 190...\n",
      "189\n",
      "188\n",
      "187\n",
      "186\n",
      "185\n",
      "184\n",
      "183\n",
      "182\n",
      "181\n",
      "180\n",
      "Aborted at 179\n",
      "198\n",
      "197\n",
      "196\n",
      "195\n",
      "194\n",
      "193\n",
      "192\n",
      "191\n",
      "Skipped 190...\n",
      "189\n",
      "188\n",
      "187\n",
      "186\n",
      "185\n",
      "184\n",
      "183\n",
      "182\n",
      "181\n",
      "180\n",
      "Aborted at 179\n"
     ]
    }
   ],
   "source": [
    "#include <iostream>\n",
    "using namespace std;\n",
    "\n",
    "int count = 200;\n",
    "int destination = 0;\n",
    "\n",
    "while(count > destination) {\n",
    "    count--;\n",
    "    \n",
    "    if(count == 190) {\n",
    "        cout << \"Skipped 190...\" << endl;\n",
    "        continue;\n",
    "    }\n",
    "    \n",
    "    if(count < 180) {\n",
    "        cout << \"Aborted at \" << count << endl;\n",
    "        break;\n",
    "    }\n",
    "    \n",
    "    cout << count << endl;\n",
    "}"
   ]
  },
  {
   "cell_type": "markdown",
   "id": "b88898c5",
   "metadata": {},
   "source": [
    "## Exercise\n",
    "\n",
    "Print all numbers from 1 to 20 in ascending order using a while loop."
   ]
  },
  {
   "cell_type": "code",
   "execution_count": 6,
   "id": "ec21e495",
   "metadata": {
    "vscode": {
     "languageId": "cpp"
    }
   },
   "outputs": [
    {
     "name": "stdout",
     "output_type": "stream",
     "text": [
      "1 2 3 4 5 6 7 8 9 10 11 12 13 14 15 16 17 18 19 20 \n"
     ]
    }
   ],
   "source": [
    "#include <iostream>\n",
    "using namespace std;\n",
    "\n",
    "int i = 1;\n",
    "\n",
    "while(i <= 20) {\n",
    "    cout << i << \" \";\n",
    "    i++;\n",
    "}\n",
    "cout << endl;"
   ]
  }
 ],
 "metadata": {
  "kernelspec": {
   "display_name": "C++17",
   "language": "C++17",
   "name": "xcpp17"
  },
  "language_info": {
   "codemirror_mode": "text/x-c++src",
   "file_extension": ".cpp",
   "mimetype": "text/x-c++src",
   "name": "c++",
   "version": "17"
  }
 },
 "nbformat": 4,
 "nbformat_minor": 5
}
