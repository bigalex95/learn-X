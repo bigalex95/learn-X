{
 "cells": [
  {
   "cell_type": "markdown",
   "id": "0b04a777",
   "metadata": {},
   "source": [
    "# if-else\n",
    "\n",
    "We use if-else statements to run code blocks conditionally.\n",
    "\n",
    "### if statement\n",
    "\n",
    "```cpp\n",
    "if(condition) {\n",
    "    // code runs if condition is true\n",
    "}\n",
    "```\n",
    "\n",
    "### else statement\n",
    "\n",
    "```cpp\n",
    "if(condition) {\n",
    "    // code if true\n",
    "} else {\n",
    "    // code if false\n",
    "}\n",
    "```\n",
    "\n",
    "### else if\n",
    "\n",
    "```cpp\n",
    "if(condition1) {\n",
    "    // code\n",
    "} else if(condition2) {\n",
    "    // code\n",
    "} else {\n",
    "    // code\n",
    "}\n",
    "```"
   ]
  },
  {
   "cell_type": "code",
   "execution_count": 3,
   "id": "77e100b3",
   "metadata": {
    "vscode": {
     "languageId": "cpp"
    }
   },
   "outputs": [
    {
     "name": "stdout",
     "output_type": "stream",
     "text": [
      "Number is Even\n"
     ]
    }
   ],
   "source": [
    "#include <iostream>\n",
    "using namespace std;\n",
    "\n",
    "int num = 10;\n",
    "\n",
    "if(num % 2 == 0) {\n",
    "    cout << \"Number is Even\" << endl;\n",
    "} else {\n",
    "    cout << \"Number is Odd\" << endl;\n",
    "}"
   ]
  },
  {
   "cell_type": "markdown",
   "id": "1c31fa1a",
   "metadata": {},
   "source": [
    "## Exercise\n",
    "\n",
    "Print age groups: Child (< 20), Adult (>= 20 and < 60), Retired (>= 60)."
   ]
  },
  {
   "cell_type": "code",
   "execution_count": 4,
   "id": "6eccff17",
   "metadata": {
    "vscode": {
     "languageId": "cpp"
    }
   },
   "outputs": [
    {
     "name": "stdout",
     "output_type": "stream",
     "text": [
      "Adult\n"
     ]
    }
   ],
   "source": [
    "#include <iostream>\n",
    "using namespace std;\n",
    "\n",
    "int age = 25;\n",
    "\n",
    "if(age < 20) {\n",
    "    cout << \"Child\" << endl;\n",
    "} else if(age >= 20 && age < 60) {\n",
    "    cout << \"Adult\" << endl;\n",
    "} else {\n",
    "    cout << \"Retired\" << endl;\n",
    "}"
   ]
  }
 ],
 "metadata": {
  "kernelspec": {
   "display_name": "C++17",
   "language": "C++17",
   "name": "xcpp17"
  },
  "language_info": {
   "codemirror_mode": "text/x-c++src",
   "file_extension": ".cpp",
   "mimetype": "text/x-c++src",
   "name": "c++",
   "version": "17"
  }
 },
 "nbformat": 4,
 "nbformat_minor": 5
}
