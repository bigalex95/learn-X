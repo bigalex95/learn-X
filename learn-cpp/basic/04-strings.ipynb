{
 "cells": [
  {
   "cell_type": "markdown",
   "id": "7bedce8b",
   "metadata": {},
   "source": [
    "# Strings\n",
    "\n",
    "### What is a string\n",
    "\n",
    "In C++, strings are represented as objects using `std::string` from the standard library.\n",
    "\n",
    "```cpp\n",
    "#include <string>\n",
    "```\n",
    "\n",
    "Strings can store text values such as words or sentences."
   ]
  },
  {
   "cell_type": "code",
   "execution_count": 5,
   "id": "e1d38e42",
   "metadata": {
    "vscode": {
     "languageId": "cpp"
    }
   },
   "outputs": [
    {
     "name": "stdout",
     "output_type": "stream",
     "text": [
      "Initial value: This is a new text\n"
     ]
    }
   ],
   "source": [
    "#include <iostream>\n",
    "#include <string>\n",
    "using namespace std;\n",
    "\n",
    "// Declaring and initializing a string\n",
    "string sometext = \"This is a new text\";\n",
    "\n",
    "cout << \"Initial value: \" << sometext << endl;"
   ]
  },
  {
   "cell_type": "markdown",
   "id": "4e9f5ff4",
   "metadata": {},
   "source": [
    "## Exercise\n",
    "\n",
    "Declare and initialize a string variable that outputs \"I just learned something about strings\"."
   ]
  },
  {
   "cell_type": "code",
   "execution_count": 6,
   "id": "14df6912",
   "metadata": {
    "vscode": {
     "languageId": "cpp"
    }
   },
   "outputs": [
    {
     "name": "stdout",
     "output_type": "stream",
     "text": [
      "I just learned something about strings\n"
     ]
    }
   ],
   "source": [
    "#include <iostream>\n",
    "#include <string>\n",
    "using namespace std;\n",
    "\n",
    "string message = \"I just learned something about strings\";\n",
    "\n",
    "cout << message << endl;"
   ]
  }
 ],
 "metadata": {
  "kernelspec": {
   "display_name": "C++17",
   "language": "C++17",
   "name": "xcpp17"
  },
  "language_info": {
   "codemirror_mode": "text/x-c++src",
   "file_extension": ".cpp",
   "mimetype": "text/x-c++src",
   "name": "c++",
   "version": "17"
  }
 },
 "nbformat": 4,
 "nbformat_minor": 5
}
