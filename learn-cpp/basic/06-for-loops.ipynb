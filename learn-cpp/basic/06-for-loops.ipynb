{
 "cells": [
  {
   "cell_type": "markdown",
   "id": "80a073c7",
   "metadata": {},
   "source": [
    "# For loops\n",
    "\n",
    "Loops repeat execution of code blocks. The **for loop** is used when we know the exact number of iterations.\n",
    "\n",
    "### Syntax\n",
    "\n",
    "```cpp\n",
    "for (initialization; test_condition; update) {\n",
    "    // body of the loop\n",
    "}\n",
    "```\n",
    "\n",
    "### Example\n",
    "\n",
    "```cpp\n",
    "for(int i = 0; i < 10; i++) {\n",
    "    cout << \"Hello C++\" << endl;\n",
    "}\n",
    "```"
   ]
  },
  {
   "cell_type": "code",
   "execution_count": 4,
   "id": "b07e7818",
   "metadata": {
    "vscode": {
     "languageId": "cpp"
    }
   },
   "outputs": [
    {
     "name": "stdout",
     "output_type": "stream",
     "text": [
      "0\n",
      "1\n",
      "2\n",
      "3\n",
      "4\n",
      "5\n",
      "6\n",
      "7\n",
      "8\n",
      "9\n",
      "1\n",
      "2\n",
      "3\n",
      "4\n",
      "5\n",
      "6\n",
      "7\n",
      "8\n",
      "9\n"
     ]
    }
   ],
   "source": [
    "#include <iostream>\n",
    "using namespace std;\n",
    "\n",
    "// Print numbers 0 to 9\n",
    "for(int i = 0; i < 10; i++) {\n",
    "    cout << i << endl;\n",
    "}"
   ]
  },
  {
   "cell_type": "markdown",
   "id": "3fa9ab17",
   "metadata": {},
   "source": [
    "## Modern C++ foreach loop\n",
    "\n",
    "```cpp\n",
    "int arr[] = {1,2,3,4,5,6};\n",
    "for(const int& n : arr) {\n",
    "    cout << n << endl;\n",
    "}\n",
    "```"
   ]
  },
  {
   "cell_type": "code",
   "execution_count": 5,
   "id": "095cf4a3",
   "metadata": {
    "vscode": {
     "languageId": "cpp"
    }
   },
   "outputs": [
    {
     "name": "stdout",
     "output_type": "stream",
     "text": [
      "Array elements: \n",
      "1 2 3 4 5 6 \n",
      "1 2 3 4 5 6 \n"
     ]
    }
   ],
   "source": [
    "#include <iostream>\n",
    "using namespace std;\n",
    "\n",
    "int arr[] = {1,2,3,4,5,6};\n",
    "\n",
    "cout << \"Array elements: \" << endl;\n",
    "for(const int& n : arr) {\n",
    "    cout << n << \" \";\n",
    "}\n",
    "cout << endl;"
   ]
  },
  {
   "cell_type": "markdown",
   "id": "1b13dd86",
   "metadata": {},
   "source": [
    "## Exercise\n",
    "\n",
    "Print all even numbers below 20 in ascending order."
   ]
  },
  {
   "cell_type": "code",
   "execution_count": 6,
   "id": "701b6da2",
   "metadata": {
    "vscode": {
     "languageId": "cpp"
    }
   },
   "outputs": [
    {
     "name": "stdout",
     "output_type": "stream",
     "text": [
      "Even numbers below 20:\n",
      "0 2 4 6 8 10 12 14 16 18 \n",
      "0 2 4 6 8 10 12 14 16 18 \n"
     ]
    }
   ],
   "source": [
    "#include <iostream>\n",
    "using namespace std;\n",
    "\n",
    "cout << \"Even numbers below 20:\" << endl;\n",
    "for(int i = 0; i < 20; i += 2) {\n",
    "    cout << i << \" \";\n",
    "}\n",
    "cout << endl;"
   ]
  }
 ],
 "metadata": {
  "kernelspec": {
   "display_name": "C++17",
   "language": "C++17",
   "name": "xcpp17"
  },
  "language_info": {
   "codemirror_mode": "text/x-c++src",
   "file_extension": ".cpp",
   "mimetype": "text/x-c++src",
   "name": "c++",
   "version": "17"
  }
 },
 "nbformat": 4,
 "nbformat_minor": 5
}
