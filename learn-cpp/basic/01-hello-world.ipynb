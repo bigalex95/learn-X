{
 "cells": [
  {
   "cell_type": "markdown",
   "id": "0bd0ba62",
   "metadata": {},
   "source": [
    "# Hello, World!\n",
    "\n",
    "### Introduction\n",
    "\n",
    "C++ (pronounced see plus plus) is a general purpose programming language that is free-form and compiled. It is regarded as an intermediate-level language, as it comprises both high-level and low-level language features.\n",
    "\n",
    "Every C++ program uses libraries, which give the ability to execute necessary functions. For example, the most basic function called 'cout', which prints to the screen, is defined in the `iostream` header file."
   ]
  },
  {
   "cell_type": "code",
   "execution_count": 7,
   "id": "5a57cbb5",
   "metadata": {
    "vscode": {
     "languageId": "cpp"
    }
   },
   "outputs": [
    {
     "name": "stdout",
     "output_type": "stream",
     "text": [
      "Hello, world!\n"
     ]
    }
   ],
   "source": [
    "#include <iostream>\n",
    "using namespace std;\n",
    "\n",
    "cout << \"Hello, world!\" << endl;"
   ]
  },
  {
   "cell_type": "markdown",
   "id": "6288006a",
   "metadata": {},
   "source": [
    "## Exercise\n",
    "\n",
    "The program above prints \"Hello, world!\" to the console. Try modifying it to print other messages."
   ]
  }
 ],
 "metadata": {
  "kernelspec": {
   "display_name": "C++17",
   "language": "C++17",
   "name": "xcpp17"
  },
  "language_info": {
   "codemirror_mode": "text/x-c++src",
   "file_extension": ".cpp",
   "mimetype": "text/x-c++src",
   "name": "c++",
   "version": "17"
  }
 },
 "nbformat": 4,
 "nbformat_minor": 5
}
