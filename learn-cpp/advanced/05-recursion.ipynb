{
 "cells": [
  {
   "cell_type": "markdown",
   "id": "ab66b67f",
   "metadata": {},
   "source": [
    "# Recursion\n",
    "\n",
    "Recursion is when a function calls itself. Every recursive function needs:\n",
    "1. **Base case** - condition to stop recursion\n",
    "2. **Recursive case** - function calls itself with modified parameters\n",
    "\n",
    "### Example: Factorial\n",
    "\n",
    "```cpp\n",
    "int factorial(int n) {\n",
    "    if (n <= 1) return 1;  // base case\n",
    "    return n * factorial(n - 1);  // recursive case\n",
    "}\n",
    "```"
   ]
  },
  {
   "cell_type": "code",
   "execution_count": 1,
   "id": "a96c7881",
   "metadata": {
    "vscode": {
     "languageId": "cpp"
    }
   },
   "outputs": [
    {
     "name": "stdout",
     "output_type": "stream",
     "text": [
      "Factorial of 5: 120\n",
      "Factorial of 7: 5040\n",
      "Factorial of 7: 5040\n"
     ]
    }
   ],
   "source": [
    "#include <iostream>\n",
    "using namespace std;\n",
    "\n",
    "{\n",
    "    auto factorial = [](int n) -> int {\n",
    "        function<int(int)> fact = [&](int n) -> int {\n",
    "            if (n <= 1) return 1;\n",
    "            return n * fact(n - 1);\n",
    "        };\n",
    "        return fact(n);\n",
    "    };\n",
    "    \n",
    "    cout << \"Factorial of 5: \" << factorial(5) << endl;\n",
    "    cout << \"Factorial of 7: \" << factorial(7) << endl;\n",
    "}"
   ]
  },
  {
   "cell_type": "markdown",
   "id": "2e9dd062",
   "metadata": {},
   "source": [
    "## Fibonacci example"
   ]
  },
  {
   "cell_type": "code",
   "execution_count": 2,
   "id": "3130b2e4",
   "metadata": {
    "vscode": {
     "languageId": "cpp"
    }
   },
   "outputs": [
    {
     "name": "stdout",
     "output_type": "stream",
     "text": [
      "First 10 Fibonacci numbers:\n",
      "0 1 1 2 3 5 8 13 21 34 \n",
      "0 1 1 2 3 5 8 13 21 34 \n"
     ]
    }
   ],
   "source": [
    "#include <iostream>\n",
    "#include <functional>\n",
    "using namespace std;\n",
    "\n",
    "{\n",
    "    auto fibonacci = [](int n) -> int {\n",
    "        function<int(int)> fib = [&](int n) -> int {\n",
    "            if (n <= 1) return n;\n",
    "            return fib(n - 1) + fib(n - 2);\n",
    "        };\n",
    "        return fib(n);\n",
    "    };\n",
    "    \n",
    "    cout << \"First 10 Fibonacci numbers:\" << endl;\n",
    "    for (int i = 0; i < 10; i++) {\n",
    "        cout << fibonacci(i) << \" \";\n",
    "    }\n",
    "    cout << endl;\n",
    "}"
   ]
  },
  {
   "cell_type": "markdown",
   "id": "2f499659",
   "metadata": {},
   "source": [
    "## Exercise\n",
    "\n",
    "Try implementing recursive functions for:\n",
    "- Sum of numbers from 1 to n\n",
    "- Power function (x^n)\n",
    "- Greatest common divisor (GCD)"
   ]
  },
  {
   "cell_type": "code",
   "execution_count": 3,
   "id": "82019da9",
   "metadata": {
    "vscode": {
     "languageId": "cpp"
    }
   },
   "outputs": [
    {
     "name": "stdout",
     "output_type": "stream",
     "text": [
      "Sum 1 to 10: 55\n",
      "2^8: 256\n",
      "GCD(48, 18): 6\n",
      "2^8: 256\n",
      "GCD(48, 18): 6\n"
     ]
    }
   ],
   "source": [
    "#include <iostream>\n",
    "#include <functional>\n",
    "using namespace std;\n",
    "\n",
    "{\n",
    "    auto sum = [](int n) -> int {\n",
    "        function<int(int)> sumFunc = [&](int n) -> int {\n",
    "            if (n <= 0) return 0;\n",
    "            return n + sumFunc(n - 1);\n",
    "        };\n",
    "        return sumFunc(n);\n",
    "    };\n",
    "    \n",
    "    auto power = [](int x, int n) -> int {\n",
    "        function<int(int, int)> powerFunc = [&](int x, int n) -> int {\n",
    "            if (n == 0) return 1;\n",
    "            return x * powerFunc(x, n - 1);\n",
    "        };\n",
    "        return powerFunc(x, n);\n",
    "    };\n",
    "    \n",
    "    auto gcd = [](int a, int b) -> int {\n",
    "        function<int(int, int)> gcdFunc = [&](int a, int b) -> int {\n",
    "            if (b == 0) return a;\n",
    "            return gcdFunc(b, a % b);\n",
    "        };\n",
    "        return gcdFunc(a, b);\n",
    "    };\n",
    "    \n",
    "    cout << \"Sum 1 to 10: \" << sum(10) << endl;\n",
    "    cout << \"2^8: \" << power(2, 8) << endl;\n",
    "    cout << \"GCD(48, 18): \" << gcd(48, 18) << endl;\n",
    "}"
   ]
  }
 ],
 "metadata": {
  "kernelspec": {
   "display_name": "C++17",
   "language": "C++17",
   "name": "xcpp17"
  },
  "language_info": {
   "codemirror_mode": "text/x-c++src",
   "file_extension": ".cpp",
   "mimetype": "text/x-c++src",
   "name": "c++",
   "version": "17"
  }
 },
 "nbformat": 4,
 "nbformat_minor": 5
}
