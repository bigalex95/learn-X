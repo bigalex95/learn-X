{
 "cells": [
  {
   "cell_type": "markdown",
   "id": "ba85a431",
   "metadata": {},
   "source": [
    "# Structures\n",
    "\n",
    "### What is a structure\n",
    "\n",
    "A structure is a user-defined datatype that consists of other datatypes bundled together.\n",
    "\n",
    "### Defining a structure\n",
    "\n",
    "```cpp\n",
    "struct MyOwnStructure {\n",
    "    int property_one;\n",
    "    int property_two;\n",
    "    char property_three;\n",
    "    bool property_four;\n",
    "};\n",
    "```"
   ]
  },
  {
   "cell_type": "markdown",
   "id": "ed1fb12e",
   "metadata": {},
   "source": [
    "## Exercise\n",
    "\n",
    "Create a structure named \"person\" with fields: name (string), age (int), do_programming (bool).\n",
    "Create two objects p1 and p2 and print their information in format \"name (age)\"."
   ]
  },
  {
   "cell_type": "code",
   "execution_count": 1,
   "id": "a00734f6",
   "metadata": {
    "vscode": {
     "languageId": "cpp"
    }
   },
   "outputs": [
    {
     "name": "stdout",
     "output_type": "stream",
     "text": [
      "alice (20)\n",
      "bob (18)\n",
      "bob (18)\n"
     ]
    }
   ],
   "source": [
    "#include <iostream>\n",
    "#include <string>\n",
    "using namespace std;\n",
    "\n",
    "struct person {\n",
    "    string name;\n",
    "    int age;\n",
    "    bool do_programming;\n",
    "};\n",
    "\n",
    "person p1, p2;\n",
    "\n",
    "p1.name = \"alice\";\n",
    "p1.age = 20;\n",
    "p1.do_programming = true;\n",
    "\n",
    "p2.name = \"bob\";\n",
    "p2.age = 18;\n",
    "p2.do_programming = false;\n",
    "\n",
    "cout << p1.name << \" (\" << p1.age << \")\" << endl;\n",
    "cout << p2.name << \" (\" << p2.age << \")\" << endl;"
   ]
  },
  {
   "cell_type": "markdown",
   "id": "3235cc04",
   "metadata": {},
   "source": [
    "# Structures\n",
    "\n",
    "### What is a structure\n",
    "\n",
    "A structure is a user-defined datatype that consists of other datatypes bundled together.\n",
    "\n",
    "### Defining a structure\n",
    "\n",
    "```cpp\n",
    "struct MyOwnStructure {\n",
    "    int property_one;\n",
    "    int property_two;\n",
    "    char property_three;\n",
    "    bool property_four;\n",
    "};\n",
    "```"
   ]
  }
 ],
 "metadata": {
  "kernelspec": {
   "display_name": "C++17",
   "language": "C++17",
   "name": "xcpp17"
  },
  "language_info": {
   "codemirror_mode": "text/x-c++src",
   "file_extension": ".cpp",
   "mimetype": "text/x-c++src",
   "name": "c++",
   "version": "17"
  }
 },
 "nbformat": 4,
 "nbformat_minor": 5
}
