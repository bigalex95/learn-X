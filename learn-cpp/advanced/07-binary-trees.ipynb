{
 "cells": [
  {
   "cell_type": "markdown",
   "id": "95555ded",
   "metadata": {},
   "source": [
    "# Binary trees\n",
    "\n",
    "A Binary Search Tree (BST) stores keys such that left subtree < node < right subtree.\n",
    "\n",
    "### Key operations\n",
    "- **Insert** - add nodes maintaining BST property\n",
    "- **Inorder traversal** - visits nodes in sorted order\n",
    "- **Search** - find if a value exists"
   ]
  },
  {
   "cell_type": "code",
   "execution_count": null,
   "id": "e612085f",
   "metadata": {
    "vscode": {
     "languageId": "cpp"
    }
   },
   "outputs": [],
   "source": [
    "#include <iostream>\n",
    "using namespace std;\n",
    "\n",
    "struct Node {\n",
    "    int value;\n",
    "    Node* left;\n",
    "    Node* right;\n",
    "    Node(int v) : value(v), left(nullptr), right(nullptr) {}\n",
    "};\n",
    "\n",
    "Node* insert(Node* root, int value) {\n",
    "    if (!root) return new Node(value);\n",
    "    if (value < root->value) \n",
    "        root->left = insert(root->left, value);\n",
    "    else \n",
    "        root->right = insert(root->right, value);\n",
    "    return root;\n",
    "}\n",
    "\n",
    "void inorder_print(Node* root) {\n",
    "    if (!root) return;\n",
    "    inorder_print(root->left);\n",
    "    cout << root->value << ' ';\n",
    "    inorder_print(root->right);\n",
    "}\n",
    "\n",
    "void destroy(Node* root) {\n",
    "    if (!root) return;\n",
    "    destroy(root->left);\n",
    "    destroy(root->right);\n",
    "    delete root;\n",
    "}\n",
    "\n",
    "int values[] = {4,2,6,1,3,5,7};\n",
    "Node* root = nullptr;\n",
    "\n",
    "for (int v : values) \n",
    "    root = insert(root, v);\n",
    "\n",
    "cout << \"Inorder traversal (sorted): \";\n",
    "inorder_print(root);\n",
    "cout << endl;\n",
    "\n",
    "destroy(root);"
   ]
  },
  {
   "cell_type": "markdown",
   "id": "3cffd398",
   "metadata": {},
   "source": [
    "## Exercise\n",
    "\n",
    "The output shows values in sorted order: 1 2 3 4 5 6 7\n",
    "\n",
    "Try extending with:\n",
    "- `bool find(Node* root, int value)` - search for a value\n",
    "- `Node* findMin(Node* root)` - find minimum value\n",
    "- `Node* remove(Node* root, int value)` - delete a node"
   ]
  }
 ],
 "metadata": {
  "language_info": {
   "name": "python"
  }
 },
 "nbformat": 4,
 "nbformat_minor": 5
}
