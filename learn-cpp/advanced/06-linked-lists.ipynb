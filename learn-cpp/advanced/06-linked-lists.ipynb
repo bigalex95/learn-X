{
 "cells": [
  {
   "cell_type": "markdown",
   "id": "6abeb4d6",
   "metadata": {},
   "source": [
    "# Linked lists\n",
    "\n",
    "A dynamic data structure using pointers. Each node contains a value and a pointer to the next node.\n",
    "\n",
    "### Advantages\n",
    "- Items can be added/removed from any position\n",
    "- No need to define initial size\n",
    "\n",
    "### Disadvantages\n",
    "- No random access\n",
    "- Requires dynamic memory management\n",
    "- Higher memory overhead than arrays"
   ]
  },
  {
   "cell_type": "markdown",
   "id": "67e85369",
   "metadata": {},
   "source": [
    "## Exercise\n",
    "\n",
    "The example above demonstrates basic linked list operations. Try implementing:\n",
    "- `removeByValue(int value)` - removes first node with given value\n",
    "- `insertAt(int pos, int value)` - inserts at specific position\n",
    "- `size()` - returns number of nodes"
   ]
  },
  {
   "cell_type": "markdown",
   "id": "1de30315",
   "metadata": {},
   "source": [
    "# Linked lists\n",
    "\n",
    "A dynamic data structure using pointers. Each node contains a value and a pointer to the next node.\n",
    "\n",
    "### Advantages\n",
    "- Items can be added/removed from any position\n",
    "- No need to define initial size\n",
    "\n",
    "### Disadvantages\n",
    "- No random access\n",
    "- Requires dynamic memory management\n",
    "- Higher memory overhead than arrays"
   ]
  }
 ],
 "metadata": {
  "language_info": {
   "name": "python"
  }
 },
 "nbformat": 4,
 "nbformat_minor": 5
}
