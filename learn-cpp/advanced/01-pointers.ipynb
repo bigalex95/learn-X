{
 "cells": [
  {
   "cell_type": "markdown",
   "id": "2ea4c70b",
   "metadata": {},
   "source": [
    "# Pointers\n",
    "\n",
    "Pointers are references to variables in memory. They point to memory addresses where variables are stored.\n",
    "\n",
    "## Datatype\n",
    "\n",
    "A pointer needs a datatype matching the referenced variable. Special case: `void*` pointers can hold addresses of any type.\n",
    "\n",
    "### Syntax\n",
    "\n",
    "```cpp\n",
    "int *b = 0;  // pointer to int, initialized to nullptr\n",
    "```"
   ]
  },
  {
   "cell_type": "code",
   "execution_count": 1,
   "id": "72d5d957",
   "metadata": {
    "vscode": {
     "languageId": "cpp"
    }
   },
   "outputs": [
    {
     "name": "stdout",
     "output_type": "stream",
     "text": [
      "b initially points to: 0\n",
      "\n",
      "a is stored at: 0x7f70750d5028\n",
      "b is stored at: 0x7f70750d5030\n",
      "b points to: 0x7f70750d5028\n",
      "\n",
      "Value of a: 5\n",
      "Value at address b points to: 5\n",
      "\n",
      "After modification:\n",
      "Value of a: 10\n",
      "Value at address b points to: 10\n",
      "\n",
      "a is stored at: 0x7f70750d5028\n",
      "b is stored at: 0x7f70750d5030\n",
      "b points to: 0x7f70750d5028\n",
      "\n",
      "Value of a: 5\n",
      "Value at address b points to: 5\n",
      "\n",
      "After modification:\n",
      "Value of a: 10\n",
      "Value at address b points to: 10\n"
     ]
    }
   ],
   "source": [
    "#include <iostream>\n",
    "using namespace std;\n",
    "\n",
    "int a = 5;  // Declare and initialize a variable\n",
    "int *b = 0; // Create a pointer and initialize with 0\n",
    "\n",
    "cout << \"b initially points to: \" << b << endl << endl;\n",
    "\n",
    "b = &a; // b now points to the address of a\n",
    "\n",
    "cout << \"a is stored at: \" << &a << endl;\n",
    "cout << \"b is stored at: \" << &b << endl;\n",
    "cout << \"b points to: \" << b << endl << endl;\n",
    "\n",
    "cout << \"Value of a: \" << a << endl;\n",
    "cout << \"Value at address b points to: \" << *b << endl << endl;\n",
    "\n",
    "// Modify value through pointer\n",
    "*b = 10;\n",
    "\n",
    "cout << \"After modification:\" << endl;\n",
    "cout << \"Value of a: \" << a << endl;\n",
    "cout << \"Value at address b points to: \" << *b << endl;"
   ]
  },
  {
   "cell_type": "markdown",
   "id": "93035be1",
   "metadata": {},
   "source": [
    "## Exercise\n",
    "\n",
    "Indirectly access and modify the value of n:\n",
    "- Create void pointer p1 and int pointer p2\n",
    "- Assign p1 to p2 with proper typecast\n",
    "- Increase n's value by 1 indirectly"
   ]
  },
  {
   "cell_type": "code",
   "execution_count": 2,
   "id": "d60a310a",
   "metadata": {
    "vscode": {
     "languageId": "cpp"
    }
   },
   "outputs": [
    {
     "name": "stdout",
     "output_type": "stream",
     "text": [
      "Value of n: 11\n"
     ]
    }
   ],
   "source": [
    "#include <iostream>\n",
    "using namespace std;\n",
    "\n",
    "int n = 10;\n",
    "void* p1;\n",
    "int* p2;\n",
    "\n",
    "p1 = &n;\n",
    "p2 = (int*)p1;  // C++ requires explicit typecast\n",
    "\n",
    "(*p2)++;  // Increase value indirectly\n",
    "\n",
    "cout << \"Value of n: \" << n << endl;"
   ]
  }
 ],
 "metadata": {
  "kernelspec": {
   "display_name": "C++17",
   "language": "C++17",
   "name": "xcpp17"
  },
  "language_info": {
   "codemirror_mode": "text/x-c++src",
   "file_extension": ".cpp",
   "mimetype": "text/x-c++src",
   "name": "c++",
   "version": "17"
  }
 },
 "nbformat": 4,
 "nbformat_minor": 5
}
