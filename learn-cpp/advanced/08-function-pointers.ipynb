{
 "cells": [
  {
   "cell_type": "markdown",
   "id": "f04d1824",
   "metadata": {},
   "source": [
    "# Function Pointers\n",
    "\n",
    "Function pointers store addresses of functions, enabling callbacks and dispatch tables.\n",
    "\n",
    "### Syntax\n",
    "\n",
    "```cpp\n",
    "return_type (*pointer_name)(arg_types);\n",
    "```\n",
    "\n",
    "### Example\n",
    "\n",
    "```cpp\n",
    "int (*func_ptr)(int) = &add_one;\n",
    "int result = func_ptr(5);  // calls add_one(5)\n",
    "```"
   ]
  },
  {
   "cell_type": "code",
   "execution_count": 3,
   "id": "5230d882",
   "metadata": {
    "vscode": {
     "languageId": "cpp"
    }
   },
   "outputs": [
    {
     "name": "stdout",
     "output_type": "stream",
     "text": [
      "6\n",
      "10\n",
      "10\n"
     ]
    }
   ],
   "source": [
    "#include <iostream>\n",
    "#include <functional>\n",
    "using namespace std;\n",
    "\n",
    "{\n",
    "    auto add_one = [](int x) { return x + 1; };\n",
    "    auto times_two = [](int x) { return x * 2; };\n",
    "    \n",
    "    auto apply_and_print = [](function<int(int)> f, int value) {\n",
    "        cout << f(value) << endl;\n",
    "    };\n",
    "    \n",
    "    apply_and_print(add_one, 5);     // prints 6\n",
    "    apply_and_print(times_two, 5);   // prints 10\n",
    "}"
   ]
  },
  {
   "cell_type": "markdown",
   "id": "54f840e7",
   "metadata": {},
   "source": [
    "## Array of function pointers"
   ]
  },
  {
   "cell_type": "code",
   "execution_count": 4,
   "id": "0cd35235",
   "metadata": {
    "vscode": {
     "languageId": "cpp"
    }
   },
   "outputs": [
    {
     "name": "stdout",
     "output_type": "stream",
     "text": [
      "Add: 15\n",
      "Subtract: 5\n",
      "Multiply: 50\n",
      "Subtract: 5\n",
      "Multiply: 50\n"
     ]
    }
   ],
   "source": [
    "#include <iostream>\n",
    "#include <functional>\n",
    "#include <vector>\n",
    "using namespace std;\n",
    "\n",
    "{\n",
    "    auto add = [](int a, int b) { return a + b; };\n",
    "    auto subtract = [](int a, int b) { return a - b; };\n",
    "    auto multiply = [](int a, int b) { return a * b; };\n",
    "    \n",
    "    // Array of function objects\n",
    "    vector<function<int(int, int)>> operations = {add, subtract, multiply};\n",
    "    \n",
    "    int a = 10, b = 5;\n",
    "    \n",
    "    cout << \"Add: \" << operations[0](a, b) << endl;\n",
    "    cout << \"Subtract: \" << operations[1](a, b) << endl;\n",
    "    cout << \"Multiply: \" << operations[2](a, b) << endl;\n",
    "}"
   ]
  },
  {
   "cell_type": "markdown",
   "id": "496e53cc",
   "metadata": {},
   "source": [
    "## Exercise\n",
    "\n",
    "Try creating:\n",
    "- A calculator using function pointers for operations\n",
    "- A sorting function that takes a comparison function pointer\n",
    "- Replace function pointers with `std::function` for more flexibility"
   ]
  }
 ],
 "metadata": {
  "kernelspec": {
   "display_name": "C++17",
   "language": "C++17",
   "name": "xcpp17"
  },
  "language_info": {
   "codemirror_mode": "text/x-c++src",
   "file_extension": ".cpp",
   "mimetype": "text/x-c++src",
   "name": "c++",
   "version": "17"
  }
 },
 "nbformat": 4,
 "nbformat_minor": 5
}
