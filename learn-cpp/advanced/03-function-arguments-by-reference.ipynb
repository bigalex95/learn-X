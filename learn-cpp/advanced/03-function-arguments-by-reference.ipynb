{
 "cells": [
  {
   "cell_type": "markdown",
   "id": "446c26b5",
   "metadata": {},
   "source": [
    "# Function arguments by reference\n",
    "\n",
    "In C++, function arguments are passed by value (copied). Passing pointers allows functions to modify the original variables.\n",
    "\n",
    "### Example that doesn't work\n",
    "\n",
    "```cpp\n",
    "void addone(int n) {\n",
    "    n++;  // Only modifies local copy\n",
    "}\n",
    "```\n",
    "\n",
    "### Example that works\n",
    "\n",
    "```cpp\n",
    "void addone(int *n) {\n",
    "    (*n)++;  // Modifies original value\n",
    "}\n",
    "```"
   ]
  },
  {
   "cell_type": "code",
   "execution_count": 4,
   "id": "305bb818",
   "metadata": {
    "vscode": {
     "languageId": "cpp"
    }
   },
   "outputs": [
    {
     "name": "stdout",
     "output_type": "stream",
     "text": [
      "Before: 5\n",
      "After: 6\n",
      "After: 6\n"
     ]
    }
   ],
   "source": [
    "#include <iostream>\n",
    "using namespace std;\n",
    "\n",
    "{\n",
    "    auto addone = [](int *n) {\n",
    "        (*n)++;\n",
    "    };\n",
    "    \n",
    "    int n = 5;\n",
    "    \n",
    "    cout << \"Before: \" << n << endl;\n",
    "    addone(&n);\n",
    "    cout << \"After: \" << n << endl;\n",
    "}"
   ]
  },
  {
   "cell_type": "markdown",
   "id": "62e65c17",
   "metadata": {},
   "source": [
    "## Pointers to structures\n",
    "\n",
    "Using the arrow operator `->` for dereferencing structure pointers:\n",
    "\n",
    "```cpp\n",
    "void move(point *p) {\n",
    "    p->x++;\n",
    "    p->y++;\n",
    "}\n",
    "```"
   ]
  },
  {
   "cell_type": "code",
   "execution_count": 5,
   "id": "3b9abc5e",
   "metadata": {
    "vscode": {
     "languageId": "cpp"
    }
   },
   "outputs": [
    {
     "name": "stdout",
     "output_type": "stream",
     "text": [
      "Before: (5, 10)\n",
      "After: (6, 11)\n",
      "After: (6, 11)\n"
     ]
    }
   ],
   "source": [
    "#include <iostream>\n",
    "using namespace std;\n",
    "\n",
    "{\n",
    "    struct point {\n",
    "        int x;\n",
    "        int y;\n",
    "    };\n",
    "    \n",
    "    auto move = [](point *p) {\n",
    "        p->x++;\n",
    "        p->y++;\n",
    "    };\n",
    "    \n",
    "    point p = {5, 10};\n",
    "    \n",
    "    cout << \"Before: (\" << p.x << \", \" << p.y << \")\" << endl;\n",
    "    move(&p);\n",
    "    cout << \"After: (\" << p.x << \", \" << p.y << \")\" << endl;\n",
    "}"
   ]
  },
  {
   "cell_type": "markdown",
   "id": "47c66aab",
   "metadata": {},
   "source": [
    "## Exercise\n",
    "\n",
    "Write a function called `birthday` that adds one to the `age` of a `person`."
   ]
  },
  {
   "cell_type": "code",
   "execution_count": 6,
   "id": "d282cbb5",
   "metadata": {
    "vscode": {
     "languageId": "cpp"
    }
   },
   "outputs": [
    {
     "name": "stdout",
     "output_type": "stream",
     "text": [
      "Alice is 25 years old\n",
      "After birthday: Alice is 26 years old\n",
      "After birthday: Alice is 26 years old\n"
     ]
    }
   ],
   "source": [
    "#include <iostream>\n",
    "#include <string>\n",
    "using namespace std;\n",
    "\n",
    "{\n",
    "    struct person {\n",
    "        string name;\n",
    "        int age;\n",
    "    };\n",
    "    \n",
    "    auto birthday = [](person *p) {\n",
    "        p->age++;\n",
    "    };\n",
    "    \n",
    "    person alice = {\"Alice\", 25};\n",
    "    \n",
    "    cout << alice.name << \" is \" << alice.age << \" years old\" << endl;\n",
    "    birthday(&alice);\n",
    "    cout << \"After birthday: \" << alice.name << \" is \" << alice.age << \" years old\" << endl;\n",
    "}"
   ]
  }
 ],
 "metadata": {
  "kernelspec": {
   "display_name": "C++17",
   "language": "C++17",
   "name": "xcpp17"
  },
  "language_info": {
   "codemirror_mode": "text/x-c++src",
   "file_extension": ".cpp",
   "mimetype": "text/x-c++src",
   "name": "c++",
   "version": "17"
  }
 },
 "nbformat": 4,
 "nbformat_minor": 5
}
