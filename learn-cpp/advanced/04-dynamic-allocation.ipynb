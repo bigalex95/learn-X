{
 "cells": [
  {
   "cell_type": "markdown",
   "id": "cf748dd2",
   "metadata": {},
   "source": [
    "# Dynamic allocation\n",
    "\n",
    "Dynamic memory allocation using `new` and `delete`, plus modern alternatives with smart pointers.\n",
    "\n",
    "### Key points\n",
    "- `new` allocates memory, `delete` frees it\n",
    "- `new[]` / `delete[]` for arrays\n",
    "- Prefer RAII (`std::unique_ptr`, `std::vector`) to avoid leaks"
   ]
  },
  {
   "cell_type": "code",
   "execution_count": 2,
   "id": "5b2965b5",
   "metadata": {
    "vscode": {
     "languageId": "cpp"
    }
   },
   "outputs": [
    {
     "name": "stderr",
     "output_type": "stream",
     "text": [
      "input_line_10:3:30: error: function definition is not allowed here\n",
      "int* create_array_raw(int n) {\n",
      "                             ^\n",
      "input_line_10:8:45: error: function definition is not allowed here\n",
      "unique_ptr<int[]> create_array_smart(int n) {\n",
      "                                            ^\n",
      "input_line_10:13:38: error: function definition is not allowed here\n",
      "int sum_array(const int* arr, int n) {\n",
      "                                     ^\n",
      ":3:30: error: function definition is not allowed here\n",
      "int* create_array_raw(int n) {\n",
      "                             ^\n",
      "input_line_10:8:45: error: function definition is not allowed here\n",
      "unique_ptr<int[]> create_array_smart(int n) {\n",
      "                                            ^\n",
      "input_line_10:13:38: error: function definition is not allowed here\n",
      "int sum_array(const int* arr, int n) {\n",
      "                                     ^\n",
      "input_line_10:19:12: error: use of undeclared identifier 'create_array_raw'\n",
      "int* raw = create_array_raw(n);\n",
      "           ^\n",
      "input_line_10:19:12: error: use of undeclared identifier 'create_array_raw'\n",
      "int* raw = create_array_raw(n);\n",
      "           ^\n",
      "input_line_10:20:24: error: use of undeclared identifier 'sum_array'\n",
      "cout << \"sum raw: \" << sum_array(raw, n) << endl;\n",
      "                       ^\n",
      "input_line_10:20:24: error: use of undeclared identifier 'sum_array'\n",
      "cout << \"sum raw: \" << sum_array(raw, n) << endl;\n",
      "                       ^\n",
      "input_line_10:22:14: error: use of undeclared identifier 'create_array_smart'\n",
      "auto smart = create_array_smart(n);\n",
      "             ^\n",
      "In file included from input_line_5:1:\n",
      "input_line_10:22:14: error: use of undeclared identifier 'create_array_smart'\n",
      "auto smart = create_array_smart(n);\n",
      "             ^\n",
      "In file included from input_line_5:1:\n",
      "In file included from /opt/conda/include/xeus/xinterpreter.hpp:17:\n",
      "In file included from /opt/conda/include/xeus/xcomm.hpp:19:\n",
      "In file included from /opt/conda/include/nlohmann/json.hpp:34:\n",
      "In file included from /opt/conda/include/nlohmann/adl_serializer.hpp:14:\n",
      "In file included from /opt/conda/include/nlohmann/detail/conversions/from_json.hpp:27:\n",
      "In file included from /opt/conda/include/nlohmann/detail/meta/std_fs.hpp:22:\n",
      "In file included from /opt/conda/bin/../lib/gcc/x86_64-conda-linux-gnu/13.2.0/include/c++/filesystem:49:\n",
      "In file included from /opt/conda/bin/../lib/gcc/x86_64-conda-linux-gnu/13.2.0/include/c++/bits/fs_path.h:38:\n",
      "In file included from /opt/conda/bin/../lib/gcc/x86_64-conda-linux-gnu/13.2.0/include/c++/iomanip:47:\n",
      "In file included from /opt/conda/bin/../lib/gcc/x86_64-conda-linux-gnu/13.2.0/include/c++/bits/quoted_string.h:38:\n",
      "In file included from /opt/conda/bin/../lib/gcc/x86_64-conda-linux-gnu/13.2.0/include/c++/sstream:40:\n",
      "In file included from /opt/conda/bin/../lib/gcc/x86_64-conda-linux-gnu/13.2.0/include/c++/istream:41:\n",
      "/opt/conda/bin/../lib/gcc/x86_64-conda-linux-gnu/13.2.0/include/c++/ostream:665:8: error: no member named 'setstate' in 'std::basic_ostream<char>'\n",
      "        __out.setstate(ios_base::badbit);\n",
      "        ~~~~~ ^\n",
      "input_line_10:20:6: note: in instantiation of function template specialization 'std::operator<<<std::char_traits<char> >' requested here\n",
      "cout << \"sum raw: \" << sum_array(raw, n) << endl;\n",
      "     ^\n",
      "In file included from /opt/conda/include/xeus/xinterpreter.hpp:17:\n",
      "In file included from /opt/conda/include/xeus/xcomm.hpp:19:\n",
      "In file included from /opt/conda/include/nlohmann/json.hpp:34:\n",
      "In file included from /opt/conda/include/nlohmann/adl_serializer.hpp:14:\n",
      "In file included from /opt/conda/include/nlohmann/detail/conversions/from_json.hpp:27:\n",
      "In file included from /opt/conda/include/nlohmann/detail/meta/std_fs.hpp:22:\n",
      "In file included from /opt/conda/bin/../lib/gcc/x86_64-conda-linux-gnu/13.2.0/include/c++/filesystem:49:\n",
      "In file included from /opt/conda/bin/../lib/gcc/x86_64-conda-linux-gnu/13.2.0/include/c++/bits/fs_path.h:38:\n",
      "In file included from /opt/conda/bin/../lib/gcc/x86_64-conda-linux-gnu/13.2.0/include/c++/iomanip:47:\n",
      "In file included from /opt/conda/bin/../lib/gcc/x86_64-conda-linux-gnu/13.2.0/include/c++/bits/quoted_string.h:38:\n",
      "In file included from /opt/conda/bin/../lib/gcc/x86_64-conda-linux-gnu/13.2.0/include/c++/sstream:40:\n",
      "In file included from /opt/conda/bin/../lib/gcc/x86_64-conda-linux-gnu/13.2.0/include/c++/istream:41:\n",
      "/opt/conda/bin/../lib/gcc/x86_64-conda-linux-gnu/13.2.0/include/c++/ostream:665:8: error: no member named 'setstate' in 'std::basic_ostream<char>'\n",
      "        __out.setstate(ios_base::badbit);\n",
      "        ~~~~~ ^\n",
      "input_line_10:20:6: note: in instantiation of function template specialization 'std::operator<<<std::char_traits<char> >' requested here\n",
      "cout << \"sum raw: \" << sum_array(raw, n) << endl;\n",
      "     ^\n"
     ]
    },
    {
     "ename": "Interpreter Error",
     "evalue": "",
     "output_type": "error",
     "traceback": [
      "Interpreter Error: "
     ]
    }
   ],
   "source": [
    "#include <iostream>\n",
    "#include <memory>\n",
    "using namespace std;\n",
    "\n",
    "int* create_array_raw(int n) {\n",
    "    int* a = new int[n];\n",
    "    for (int i = 0; i < n; ++i) a[i] = i;\n",
    "    return a;\n",
    "}\n",
    "\n",
    "unique_ptr<int[]> create_array_smart(int n) {\n",
    "    unique_ptr<int[]> a(new int[n]);\n",
    "    for (int i = 0; i < n; ++i) a[i] = i;\n",
    "    return a;\n",
    "}\n",
    "\n",
    "int sum_array(const int* arr, int n) {\n",
    "    int s = 0;\n",
    "    for (int i = 0; i < n; ++i) s += arr[i];\n",
    "    return s;\n",
    "}\n",
    "\n",
    "const int n = 10;\n",
    "\n",
    "int* raw = create_array_raw(n);\n",
    "cout << \"sum raw: \" << sum_array(raw, n) << endl;\n",
    "delete[] raw;  // Must free manually\n",
    "\n",
    "auto smart = create_array_smart(n);\n",
    "cout << \"sum smart: \" << sum_array(smart.get(), n) << endl;\n",
    "// Automatically freed when smart goes out of scope"
   ]
  },
  {
   "cell_type": "markdown",
   "id": "2441d15b",
   "metadata": {},
   "source": [
    "## Exercise\n",
    "\n",
    "The example above demonstrates dynamic allocation with raw and smart pointers. The sum of 0..9 is 45.\n",
    "\n",
    "Always match `new[]` with `delete[]` and prefer smart pointers for automatic memory management."
   ]
  }
 ],
 "metadata": {
  "kernelspec": {
   "display_name": "C++17",
   "language": "C++17",
   "name": "xcpp17"
  },
  "language_info": {
   "codemirror_mode": "text/x-c++src",
   "file_extension": ".cpp",
   "mimetype": "text/x-c++src",
   "name": "c++",
   "version": "17"
  }
 },
 "nbformat": 4,
 "nbformat_minor": 5
}
