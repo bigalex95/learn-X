{
 "cells": [
  {
   "cell_type": "markdown",
   "id": "65d00d12",
   "metadata": {},
   "source": [
    "# Template Metaprogramming\n",
    "\n",
    "Template metaprogramming (TMP) uses templates to generate code at compile-time.\n",
    "\n",
    "### Compile-time vs Runtime\n",
    "\n",
    "**Runtime factorial:**\n",
    "```cpp\n",
    "unsigned int factorial(unsigned int n) {\n",
    "    return n == 0 ? 1 : n * factorial(n - 1);\n",
    "}\n",
    "```\n",
    "\n",
    "**Compile-time factorial:**\n",
    "```cpp\n",
    "template <unsigned int n>\n",
    "struct factorial {\n",
    "    enum { value = n * factorial<n - 1>::value };\n",
    "};\n",
    "```"
   ]
  },
  {
   "cell_type": "code",
   "execution_count": 2,
   "id": "e88de476",
   "metadata": {
    "vscode": {
     "languageId": "cpp"
    }
   },
   "outputs": [
    {
     "name": "stderr",
     "output_type": "stream",
     "text": [
      "input_line_10:4:1: error: expected expression\n",
      "template <unsigned int n>\n",
      "^\n",
      "input_line_10:9:1: error: expected expression\n",
      "template <>\n",
      "^\n",
      ":4:1: error: expected expression\n",
      "template <unsigned int n>\n",
      "^\n",
      "input_line_10:9:1: error: expected expression\n",
      "template <>\n",
      "^\n",
      "input_line_10:14:29: error: no template named 'factorial'\n",
      "cout << \"factorial<0>: \" << factorial<0>::value << endl;\n",
      "                            ^\n",
      "input_line_10:14:29: error: no template named 'factorial'\n",
      "cout << \"factorial<0>: \" << factorial<0>::value << endl;\n",
      "                            ^\n",
      "input_line_10:15:29: error: no template named 'factorial'\n",
      "cout << \"factorial<5>: \" << factorial<5>::value << endl;\n",
      "                            ^\n",
      "input_line_10:15:29: error: no template named 'factorial'\n",
      "cout << \"factorial<5>: \" << factorial<5>::value << endl;\n",
      "                            ^\n",
      "input_line_10:16:30: error: no template named 'factorial'\n",
      "cout << \"factorial<10>: \" << factorial<10>::value << endl;\n",
      "                             ^\n",
      "In file included from input_line_5:1:\n",
      "In file included from /opt/conda/include/xeus/xinterpreter.hpp:17input_line_10:16:30: error: no template named 'factorial'\n",
      "cout << \"factorial<10>: \" << factorial<10>::value << endl;\n",
      "                             ^\n",
      "In file included from input_line_5:1:\n",
      "In file included from /opt/conda/include/xeus/xinterpreter.hpp:17:\n",
      "In file included from /opt/conda/include/xeus/xcomm.hpp:19:\n",
      "In file included from /opt/conda/include/nlohmann/json.hpp:34:\n",
      "In file included from /opt/conda/include/nlohmann/adl_serializer.hpp:14:\n",
      "In file included from /opt/conda/include/nlohmann/detail/conversions/from_json.hpp:27:\n",
      "In file included from /opt/conda/include/nlohmann/detail/meta/std_fs.hpp:22:\n",
      "In file included from /opt/conda/bin/../lib/gcc/x86_64-conda-linux-gnu/13.2.0/include/c++/filesystem:49:\n",
      "In file included from /opt/conda/bin/../lib/gcc/x86_64-conda-linux-gnu/13.2.0/include/c++/bits/fs_path.h:38:\n",
      "In file included from /opt/conda/bin/../lib/gcc/x86_64-conda-linux-gnu/13.2.0/include/c++/iomanip:47:\n",
      "In file included from /opt/conda/bin/../lib/gcc/x86_64-conda-linux-gnu/13.2.0/include/c++/bits/quoted_string.h:38:\n",
      "In file included from /opt/conda/bin/../lib/gcc/x86_64-conda-linux-gnu/13.2.0/include/c++/sstream:40:\n",
      "In file included from /opt/conda/bin/../lib/gcc/x86_64-conda-linux-gnu/13.2.0/include/c++/istream:41:\n",
      "/opt/conda/bin/../lib/gcc/x86_64-conda-linux-gnu/13.2.0/include/c++/ostream:665:8: error: no member named 'setstate' in 'std::basic_ostream<char>'\n",
      "        __out.setstate(ios_base::badbit);\n",
      "        ~~~~~ ^\n",
      "input_line_10:14:6: note: in instantiation of function template specialization 'std::operator<<<std::char_traits<char> >' requested here\n",
      "cout << \"factorial<0>: \" << factorial<0>::value << endl;\n",
      "     ^\n",
      ":\n",
      "In file included from /opt/conda/include/xeus/xcomm.hpp:19:\n",
      "In file included from /opt/conda/include/nlohmann/json.hpp:34:\n",
      "In file included from /opt/conda/include/nlohmann/adl_serializer.hpp:14:\n",
      "In file included from /opt/conda/include/nlohmann/detail/conversions/from_json.hpp:27:\n",
      "In file included from /opt/conda/include/nlohmann/detail/meta/std_fs.hpp:22:\n",
      "In file included from /opt/conda/bin/../lib/gcc/x86_64-conda-linux-gnu/13.2.0/include/c++/filesystem:49:\n",
      "In file included from /opt/conda/bin/../lib/gcc/x86_64-conda-linux-gnu/13.2.0/include/c++/bits/fs_path.h:38:\n",
      "In file included from /opt/conda/bin/../lib/gcc/x86_64-conda-linux-gnu/13.2.0/include/c++/iomanip:47:\n",
      "In file included from /opt/conda/bin/../lib/gcc/x86_64-conda-linux-gnu/13.2.0/include/c++/bits/quoted_string.h:38:\n",
      "In file included from /opt/conda/bin/../lib/gcc/x86_64-conda-linux-gnu/13.2.0/include/c++/sstream:40:\n",
      "In file included from /opt/conda/bin/../lib/gcc/x86_64-conda-linux-gnu/13.2.0/include/c++/istream:41:\n",
      "/opt/conda/bin/../lib/gcc/x86_64-conda-linux-gnu/13.2.0/include/c++/ostream:665:8: error: no member named 'setstate' in 'std::basic_ostream<char>'\n",
      "        __out.setstate(ios_base::badbit);\n",
      "        ~~~~~ ^\n",
      "input_line_10:14:6: note: in instantiation of function template specialization 'std::operator<<<std::char_traits<char> >' requested here\n",
      "cout << \"factorial<0>: \" << factorial<0>::value << endl;\n",
      "     ^\n"
     ]
    },
    {
     "ename": "Interpreter Error",
     "evalue": "",
     "output_type": "error",
     "traceback": [
      "Interpreter Error: "
     ]
    }
   ],
   "source": [
    "#include <iostream>\n",
    "using namespace std;\n",
    "\n",
    "// Template metaprogramming factorial\n",
    "template <unsigned int n>\n",
    "struct factorial {\n",
    "    enum { value = n * factorial<n - 1>::value };\n",
    "};\n",
    "\n",
    "// Template specialization for base case\n",
    "template <>\n",
    "struct factorial<0> {\n",
    "    enum { value = 1 };\n",
    "};\n",
    "\n",
    "// These values are calculated at compile time!\n",
    "cout << \"factorial<0>: \" << factorial<0>::value << endl;\n",
    "cout << \"factorial<5>: \" << factorial<5>::value << endl;\n",
    "cout << \"factorial<10>: \" << factorial<10>::value << endl;"
   ]
  },
  {
   "cell_type": "markdown",
   "id": "bc5e6f9c",
   "metadata": {},
   "source": [
    "## Exercise: Powers of 2\n",
    "\n",
    "Calculate powers of 2 at compile-time using template metaprogramming."
   ]
  },
  {
   "cell_type": "code",
   "execution_count": null,
   "id": "976af8c0",
   "metadata": {
    "vscode": {
     "languageId": "cpp"
    }
   },
   "outputs": [],
   "source": [
    "#include <iostream>\n",
    "using namespace std;\n",
    "\n",
    "// Template for computing 2^n at compile time\n",
    "template <unsigned int n>\n",
    "struct power_of_2 {\n",
    "    enum { value = 2 * power_of_2<n - 1>::value };\n",
    "};\n",
    "\n",
    "// Base case: 2^0 = 1\n",
    "template <>\n",
    "struct power_of_2<0> {\n",
    "    enum { value = 1 };\n",
    "};\n",
    "\n",
    "cout << \"2^0 = \" << power_of_2<0>::value << endl;\n",
    "cout << \"2^5 = \" << power_of_2<5>::value << endl;\n",
    "cout << \"2^10 = \" << power_of_2<10>::value << endl;\n",
    "cout << \"2^16 = \" << power_of_2<16>::value << endl;"
   ]
  },
  {
   "cell_type": "markdown",
   "id": "978ad552",
   "metadata": {},
   "source": [
    "## Benefits\n",
    "\n",
    "- Calculations done at compile-time = zero runtime overhead\n",
    "- Type-safe generic programming\n",
    "- Can catch errors at compile-time\n",
    "\n",
    "Modern C++ (C++11+) offers `constexpr` as a simpler alternative for many use cases."
   ]
  }
 ],
 "metadata": {
  "kernelspec": {
   "display_name": "C++17",
   "language": "C++17",
   "name": "xcpp17"
  },
  "language_info": {
   "codemirror_mode": "text/x-c++src",
   "file_extension": ".cpp",
   "mimetype": "text/x-c++src",
   "name": "c++",
   "version": "17"
  }
 },
 "nbformat": 4,
 "nbformat_minor": 5
}
