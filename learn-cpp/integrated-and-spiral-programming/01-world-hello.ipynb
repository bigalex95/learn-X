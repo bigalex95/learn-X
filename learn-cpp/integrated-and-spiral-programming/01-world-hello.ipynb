{
 "cells": [
  {
   "cell_type": "markdown",
   "id": "afa268bd",
   "metadata": {},
   "source": [
    "# World!, Hello - Templates and Swap\n",
    "\n",
    "This tutorial demonstrates using templates to create generic functions that work with multiple types.\n",
    "\n",
    "### Template syntax\n",
    "\n",
    "```cpp\n",
    "template<typename T>\n",
    "void swap_values(T& a, T& b) {\n",
    "    T tmp = a;\n",
    "    a = b;\n",
    "    b = tmp;\n",
    "}\n",
    "```\n",
    "\n",
    "The template works for any copyable type: integers, strings, custom classes, etc."
   ]
  },
  {
   "cell_type": "code",
   "execution_count": 5,
   "id": "ff83f52d",
   "metadata": {
    "vscode": {
     "languageId": "cpp"
    }
   },
   "outputs": [
    {
     "name": "stderr",
     "output_type": "stream",
     "text": [
      "input_line_15:3:1: error: expected expression\n",
      "template<typename T>\n",
      "^\n",
      ":3:1: error: expected expression\n",
      "template<typename T>\n",
      "^\n"
     ]
    },
    {
     "ename": "Interpreter Error",
     "evalue": "",
     "output_type": "error",
     "traceback": [
      "Interpreter Error: "
     ]
    }
   ],
   "source": [
    "#include <iostream>\n",
    "#include <string>\n",
    "using namespace std;\n",
    "\n",
    "template<typename T>\n",
    "void swap_values(T& a, T& b) {\n",
    "    T tmp = a;\n",
    "    a = b;\n",
    "    b = tmp;\n",
    "}\n"
   ]
  },
  {
   "cell_type": "code",
   "execution_count": null,
   "id": "d5c1d5bb",
   "metadata": {
    "vscode": {
     "languageId": "cpp"
    }
   },
   "outputs": [
    {
     "name": "stderr",
     "output_type": "stream",
     "text": [
      "input_line_11:2:2: error: unknown type name 'string'; did you mean 'std::string'?\n",
      " string s1 = \"Hello\";\n",
      " ^~~~~~\n",
      " std::string\n",
      "/opt/conda/bin/../lib/gcc/x86_64-conda-linux-gnu/13.2.0/include/c++/bits/stringfwd.h:77:33: note: 'std::string' declared here\n",
      "  typedef basic_string<char>    string;   \n",
      "                                ^\n",
      "input_line_11:3:1: error: unknown type name 'string'; did you mean 'std::string'?\n",
      "string s2 = \"world!\";\n",
      "^~~~~~\n",
      "std::string\n",
      "/opt/conda/bin/../lib/gcc/x86_64-conda-linux-gnu/13.2.0/include/c++/bits/stringfwd.h:77:33: note: 'std::string' declared here\n",
      "  typedef basic_string<char>    string;   \n",
      "                                ^\n",
      "input_line_11:4:1: error: use of undeclared identifier 'swap_values'\n",
      "swap_values(s1, s2);\n",
      "^\n",
      "input_line_11:6:1: error: use of undeclared identifier 'cout'; did you mean 'std::cout'?\n",
      "cout << s2 << \", \" << s1 << endl;\n",
      "^~~~\n",
      "std::cout\n",
      "/opt/conda/bin/../lib/gcc/x86_64-conda-linux-gnu/13.2.0/include/c++/iostream:63:18: note: 'std::cout' declared here\n",
      "  extern ostream cout;          ///< Linked to standard output\n",
      "                 ^\n",
      "input_line_11:6:29: error: use of undeclared identifier 'endl'; did you mean 'std::endl'?\n",
      "cout << s2 << \", \" << s1 << endl;\n",
      "                            ^~~~\n",
      "                            std::endl\n",
      "/opt/conda/bin/../lib/gcc/x86_64-conda-linux-gnu/13.2.0/include/c++/ostream:735:5: note: 'std::endl' declared here\n",
      "    endl(basic_ostream<_CharT, _Traits>& __os)\n",
      "    ^\n",
      "/opt/conda/bin/../lib/gcc/x86_64-conda-linux-gnu/13.2.0/include/c++/ostream:665:8: error: no member named 'setstate' in 'std::basic_ostream<char>'\n",
      "        __out.setstate(ios_base::badbit);\n",
      "        ~~~~~ ^\n",
      "input_line_11:6:12: note: in instantiation of function template specialization 'std::operator<<<std::char_traits<char> >' requested here\n",
      "cout << s2 << \", \" << s1 << endl;\n",
      "           ^\n"
     ]
    },
    {
     "ename": "Interpreter Error",
     "evalue": "",
     "output_type": "error",
     "traceback": [
      "Interpreter Error: "
     ]
    }
   ],
   "source": [
    "string s1 = \"Hello\";\n",
    "string s2 = \"world!\";\n",
    "\n",
    "swap_values(s1, s2);\n",
    "\n",
    "// Print in the required order to get \"world!, Hello\"\n",
    "cout << s2 << \", \" << s1 << endl;"
   ]
  },
  {
   "cell_type": "markdown",
   "id": "e1efa2ac",
   "metadata": {},
   "source": [
    "## Template with integers"
   ]
  },
  {
   "cell_type": "code",
   "execution_count": null,
   "id": "03c764fa",
   "metadata": {
    "vscode": {
     "languageId": "cpp"
    }
   },
   "outputs": [],
   "source": [
    "#include <iostream>\n",
    "using namespace std;\n",
    "\n",
    "template<typename T>\n",
    "void swap_values(T& a, T& b) {\n",
    "    T tmp = a;\n",
    "    a = b;\n",
    "    b = tmp;\n",
    "}\n",
    "\n",
    "int a = 5, b = 11;\n",
    "\n",
    "cout << \"Before: a=\" << a << \" b=\" << b << endl;\n",
    "swap_values(a, b);\n",
    "cout << \"After: a=\" << a << \" b=\" << b << endl;"
   ]
  },
  {
   "cell_type": "markdown",
   "id": "005726d3",
   "metadata": {},
   "source": [
    "## Exercise\n",
    "\n",
    "The template `swap_values` is generic and works with any type. \n",
    "\n",
    "**Note:** For production code, prefer `std::swap` from `<utility>` which is optimized for standard types and supports move semantics."
   ]
  }
 ],
 "metadata": {
  "kernelspec": {
   "display_name": "C++17",
   "language": "C++17",
   "name": "xcpp17"
  },
  "language_info": {
   "codemirror_mode": "text/x-c++src",
   "file_extension": ".cpp",
   "mimetype": "text/x-c++src",
   "name": "c++",
   "version": "17"
  }
 },
 "nbformat": 4,
 "nbformat_minor": 5
}
