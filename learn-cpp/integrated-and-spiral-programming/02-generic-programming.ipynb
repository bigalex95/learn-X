{
 "cells": [
  {
   "cell_type": "markdown",
   "id": "7363b44b",
   "metadata": {},
   "source": [
    "# Generic Programming\n",
    "\n",
    "Templates enable generic programming in C++. The `Swap` function can work with any copyable data type.\n",
    "\n",
    "### Benefits of templates\n",
    "- Write code once, use with multiple types\n",
    "- Type-safe (checked at compile-time)\n",
    "- No runtime overhead\n",
    "\n",
    "### Example with built-in types"
   ]
  },
  {
   "cell_type": "code",
   "execution_count": 1,
   "id": "51668be2",
   "metadata": {
    "vscode": {
     "languageId": "cpp"
    }
   },
   "outputs": [
    {
     "name": "stderr",
     "output_type": "stream",
     "text": [
      "input_line_8:3:1: error: expected expression\n",
      "template<typename T>\n",
      "^\n",
      ":3:1: error: expected expression\n",
      "template<typename T>\n",
      "^\n",
      "input_line_8:10:6: error: use of undeclared identifier 'world'\n",
      "Swap(world, hello);\n",
      "     ^\n",
      "input_line_8:10:13: error: use of undeclared identifier 'hello'\n",
      "Swap(world, hello);\n",
      "            ^\n",
      "input_line_8:10:6: error: use of undeclared identifier 'world'\n",
      "Swap(world, hello);\n",
      "     ^\n",
      "input_line_8:10:13: error: use of undeclared identifier 'hello'\n",
      "Swap(world, hello);\n",
      "            ^\n",
      "input_line_8:11:9: error: use of undeclared identifier 'hello'\n",
      "cout << hello << world << endl;\n",
      "        ^\n",
      "input_line_8:11:18: error: use of undeclared identifier 'world'\n",
      "cout << hello << world << endl;\n",
      "                 ^\n",
      "input_line_8:11:9: error: use of undeclared identifier 'hello'\n",
      "cout << hello << world << endl;\n",
      "        ^\n",
      "input_line_8:11:18: error: use of undeclared identifier 'world'\n",
      "cout << hello << world << endl;\n",
      "                 ^\n",
      "input_line_8:13:1: error: use of undeclared identifier 'Swap'; did you mean 'swap'?\n",
      "Swap(a, b);\n",
      "^~~~\n",
      "swap\n",
      "/opt/conda/bin/../lib/gcc/x86_64-conda-linux-gnu/13.2.0/include/c++/bits/move.h:189:5: note: 'swap' declared here\n",
      "    swap(_Tp& __a, _Tp& __b)\n",
      "    ^\n",
      "input_line_8:13:1: error: use of undeclared identifier 'Swap'; did you mean 'swap'?\n",
      "Swap(a, b);\n",
      "^~~~\n",
      "swap\n",
      "/opt/conda/bin/../lib/gcc/x86_64-conda-linux-gnu/13.2.0/include/c++/bits/move.h:189:5: note: 'swap' declared here\n",
      "    swap(_Tp& __a, _Tp& __b)\n",
      "    ^\n"
     ]
    },
    {
     "ename": "Interpreter Error",
     "evalue": "",
     "output_type": "error",
     "traceback": [
      "Interpreter Error: "
     ]
    }
   ],
   "source": [
    "#include <iostream>\n",
    "#include <string>\n",
    "using namespace std;\n",
    "\n",
    "template<typename T>\n",
    "void Swap(T &a, T &b) {\n",
    "    T temp = a;\n",
    "    a = b;\n",
    "    b = temp;\n",
    "}\n",
    "\n",
    "string hello = \"world!\", world = \"Hello, \";\n",
    "Swap(world, hello);\n",
    "cout << hello << world << endl;\n",
    "\n",
    "int a = 5, b = 11;\n",
    "Swap(a, b);\n",
    "cout << \"a:\" << a << \" b:\" << b << endl;"
   ]
  },
  {
   "cell_type": "markdown",
   "id": "ced866f4",
   "metadata": {},
   "source": [
    "## Exercise: Templates with custom classes\n",
    "\n",
    "Implement a `Point` class with coordinates x and y. Create two Point objects, swap them using the template Swap function, and implement operator= for assignment."
   ]
  },
  {
   "cell_type": "code",
   "execution_count": null,
   "id": "346d3a84",
   "metadata": {
    "vscode": {
     "languageId": "cpp"
    }
   },
   "outputs": [],
   "source": [
    "#include <iostream>\n",
    "using namespace std;\n",
    "\n",
    "template<typename T>\n",
    "void Swap(T &a, T &b) {\n",
    "    T temp = a;\n",
    "    a = b;\n",
    "    b = temp;\n",
    "}\n",
    "\n",
    "class Point {\n",
    "public:\n",
    "    int x, y;\n",
    "    \n",
    "    Point(int x_val = 0, int y_val = 0) : x(x_val), y(y_val) {}\n",
    "    \n",
    "    // Operator overloading for assignment\n",
    "    Point& operator=(const Point& rhs) {\n",
    "        x = rhs.x;\n",
    "        y = rhs.y;\n",
    "        return *this;\n",
    "    }\n",
    "    \n",
    "    void print() const {\n",
    "        cout << \"(\" << x << \", \" << y << \")\";\n",
    "    }\n",
    "};\n",
    "\n",
    "Point p1(10, 20), p2(30, 40);\n",
    "\n",
    "cout << \"Before swap: \";\n",
    "p1.print(); cout << \" and \"; p2.print(); cout << endl;\n",
    "\n",
    "Swap(p1, p2);\n",
    "\n",
    "cout << \"After swap: \";\n",
    "p1.print(); cout << \" and \"; p2.print(); cout << endl;"
   ]
  },
  {
   "cell_type": "markdown",
   "id": "eb05c12d",
   "metadata": {},
   "source": [
    "## Key takeaways\n",
    "\n",
    "- Templates work with user-defined types\n",
    "- Need to implement necessary operators (like `=`)\n",
    "- Template instantiation happens at compile-time"
   ]
  }
 ],
 "metadata": {
  "kernelspec": {
   "display_name": "C++17",
   "language": "C++17",
   "name": "xcpp17"
  },
  "language_info": {
   "codemirror_mode": "text/x-c++src",
   "file_extension": ".cpp",
   "mimetype": "text/x-c++src",
   "name": "c++",
   "version": "17"
  }
 },
 "nbformat": 4,
 "nbformat_minor": 5
}
