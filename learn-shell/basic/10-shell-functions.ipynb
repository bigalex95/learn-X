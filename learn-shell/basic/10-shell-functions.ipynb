{
 "cells": [
  {
   "cell_type": "markdown",
   "id": "f8a4b0fe",
   "metadata": {},
   "source": [
    "# Shell Functions\n",
    "\n",
    "---\n",
    "\n",
    "Like other programming languages, the shell may have functions. A function is a subroutine that implements a set of commands and operations. It is useful for repeated tasks.\n",
    "\n",
    "```bash\n",
    "# basic construct\n",
    "function function_name {\n",
    "  command...\n",
    "}\n",
    "```\n",
    "\n",
    "Functions are called simply by writing their names. A function call is equivalent to a command. Parameters may be passed to a function, by specifying them after the function name. The first parameter is referred to in the function as $1, the second as $2 etc."
   ]
  },
  {
   "cell_type": "code",
   "execution_count": 1,
   "id": "7407dc6e",
   "metadata": {
    "vscode": {
     "languageId": "shellscript"
    }
   },
   "outputs": [
    {
     "name": "stdout",
     "output_type": "stream",
     "text": [
      "Function A.\n",
      "Function B.\n",
      "Function B.\n",
      "68\n",
      "68\n"
     ]
    }
   ],
   "source": [
    "function function_B {\n",
    "  echo \"Function B.\"\n",
    "}\n",
    "\n",
    "function function_A {\n",
    "  echo \"$1\"\n",
    "}\n",
    "\n",
    "function adder {\n",
    "  echo \"$(($1 + $2))\"\n",
    "}\n",
    "\n",
    "# FUNCTION CALLS\n",
    "# Pass parameter to function A\n",
    "function_A \"Function A.\"     # Function A.\n",
    "function_B                   # Function B.\n",
    "# Pass two parameters to function adder\n",
    "adder 12 56                  # 68"
   ]
  },
  {
   "cell_type": "markdown",
   "id": "9a07e3ac",
   "metadata": {},
   "source": [
    "## Exercise\n",
    "\n",
    "In this exercise, you will need to write a function called ENGLISH_CALC which can process sentences such as:\n",
    "\n",
    "'3 plus 5', '5 minus 1' or '4 times 6' and print the results as: '3 + 5 = 8', '5 - 1 = 4' or '4 * 6 = 24' respectively."
   ]
  },
  {
   "cell_type": "code",
   "execution_count": 2,
   "id": "d9b32cee",
   "metadata": {
    "vscode": {
     "languageId": "shellscript"
    }
   },
   "outputs": [
    {
     "name": "stdout",
     "output_type": "stream",
     "text": [
      "3 + 5 = 8\n",
      "5 - 1 = 4\n",
      "5 - 1 = 4\n",
      "4 * 6 = 24\n",
      "4 * 6 = 24\n"
     ]
    }
   ],
   "source": [
    "# Your code here\n",
    "function ENGLISH_CALC {\n",
    "  a=$1\n",
    "  op=$2\n",
    "  b=$3\n",
    "  \n",
    "  case $op in\n",
    "    \"plus\")\n",
    "      result=$(($a + $b))\n",
    "      echo \"$a + $b = $result\"\n",
    "      ;;\n",
    "    \"minus\")\n",
    "      result=$(($a - $b))\n",
    "      echo \"$a - $b = $result\"\n",
    "      ;;\n",
    "    \"times\")\n",
    "      result=$(($a * $b))\n",
    "      echo \"$a * $b = $result\"\n",
    "      ;;\n",
    "  esac\n",
    "}\n",
    "\n",
    "# Test the function\n",
    "ENGLISH_CALC 3 plus 5\n",
    "ENGLISH_CALC 5 minus 1\n",
    "ENGLISH_CALC 4 times 6"
   ]
  }
 ],
 "metadata": {
  "kernelspec": {
   "display_name": "Bash",
   "language": "bash",
   "name": "bash"
  },
  "language_info": {
   "codemirror_mode": "shell",
   "file_extension": ".sh",
   "mimetype": "text/x-sh",
   "name": "bash"
  }
 },
 "nbformat": 4,
 "nbformat_minor": 5
}
