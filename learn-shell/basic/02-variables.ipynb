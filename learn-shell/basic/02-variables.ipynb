{
 "cells": [
  {
   "cell_type": "markdown",
   "id": "00941dad",
   "metadata": {},
   "source": [
    "# Variables\n",
    "\n",
    "---\n",
    "\n",
    "Shell variables are created once they are assigned a value. A variable can contain a number, a character or a string of characters. Variable name is case sensitive and can consist of a combination of letters and the underscore \"\\_\". Value assignment is done using the \"=\" sign. Note that no space permitted on either side of = sign when initializing variables."
   ]
  },
  {
   "cell_type": "code",
   "execution_count": 1,
   "id": "ef61501d",
   "metadata": {
    "vscode": {
     "languageId": "shellscript"
    }
   },
   "outputs": [
    {
     "name": "stdout",
     "output_type": "stream",
     "text": [
      "PRICE_PER_APPLE: 5\n",
      "MyFirstLetters: ABC\n",
      "MyFirstLetters: ABC\n",
      "greeting: Hello        world!\n",
      "greeting: Hello        world!\n"
     ]
    }
   ],
   "source": [
    "PRICE_PER_APPLE=5\n",
    "MyFirstLetters=ABC\n",
    "greeting='Hello        world!'\n",
    "\n",
    "echo \"PRICE_PER_APPLE: $PRICE_PER_APPLE\"\n",
    "echo \"MyFirstLetters: $MyFirstLetters\"\n",
    "echo \"greeting: $greeting\""
   ]
  },
  {
   "cell_type": "markdown",
   "id": "c9270ae7",
   "metadata": {},
   "source": [
    "## Referencing the variables\n",
    "\n",
    "A backslash \"\\\" is used to escape special character meaning"
   ]
  },
  {
   "cell_type": "code",
   "execution_count": 2,
   "id": "e187627c",
   "metadata": {
    "vscode": {
     "languageId": "shellscript"
    }
   },
   "outputs": [
    {
     "name": "stdout",
     "output_type": "stream",
     "text": [
      "The price of an Apple today is: $HK 5\n"
     ]
    }
   ],
   "source": [
    "PRICE_PER_APPLE=5\n",
    "echo \"The price of an Apple today is: \\$HK $PRICE_PER_APPLE\""
   ]
  },
  {
   "cell_type": "markdown",
   "id": "b0682825",
   "metadata": {},
   "source": [
    "Encapsulating the variable name with ${} is used to avoid ambiguity"
   ]
  },
  {
   "cell_type": "code",
   "execution_count": 3,
   "id": "fbd0424d",
   "metadata": {
    "vscode": {
     "languageId": "shellscript"
    }
   },
   "outputs": [
    {
     "name": "stdout",
     "output_type": "stream",
     "text": [
      "The first 10 letters in the alphabet are: ABCDEFGHIJ\n"
     ]
    }
   ],
   "source": [
    "MyFirstLetters=ABC\n",
    "echo \"The first 10 letters in the alphabet are: ${MyFirstLetters}DEFGHIJ\""
   ]
  },
  {
   "cell_type": "markdown",
   "id": "7557ffa4",
   "metadata": {},
   "source": [
    "Encapsulating the variable name with \"\" will preserve any white space values"
   ]
  },
  {
   "cell_type": "code",
   "execution_count": 4,
   "id": "da2d731e",
   "metadata": {
    "vscode": {
     "languageId": "shellscript"
    }
   },
   "outputs": [
    {
     "name": "stdout",
     "output_type": "stream",
     "text": [
      "Hello world! now with spaces: Hello        world!\n"
     ]
    }
   ],
   "source": [
    "greeting='Hello        world!'\n",
    "echo $greeting\" now with spaces: $greeting\""
   ]
  },
  {
   "cell_type": "markdown",
   "id": "6ff43331",
   "metadata": {},
   "source": [
    "Variables can be assigned with the value of a command output. This is referred to as substitution. Substitution can be done by encapsulating the command with `` (known as back-ticks) or with $()"
   ]
  },
  {
   "cell_type": "code",
   "execution_count": 5,
   "id": "90f3e854",
   "metadata": {
    "vscode": {
     "languageId": "shellscript"
    }
   },
   "outputs": [
    {
     "name": "stdout",
     "output_type": "stream",
     "text": [
      "FILELIST: 01-hello-world.ipynb\n",
      "01-hello-world.md\n",
      "02-variables.ipynb\n",
      "02-variables.md\n",
      "03-passing-arguments.ipynb\n",
      "03-passing-arguments.md\n",
      "04-arrays.ipynb\n",
      "04-arrays.md\n",
      "05-basic-operators.ipynb\n",
      "05-basic-operators.md\n",
      "06-basic-string-operations.ipynb\n",
      "06-basic-string-operations.md\n",
      "07-decision-making.ipynb\n",
      "07-decision-making.md\n",
      "08-loops.ipynb\n",
      "08-loops.md\n",
      "09-array-comparison.ipynb\n",
      "09-array-comparison.md\n",
      "10-shell-functions.ipynb\n",
      "10-shell-functions.md\n",
      "01-hello-world.md\n",
      "02-variables.ipynb\n",
      "02-variables.md\n",
      "03-passing-arguments.ipynb\n",
      "03-passing-arguments.md\n",
      "04-arrays.ipynb\n",
      "04-arrays.md\n",
      "05-basic-operators.ipynb\n",
      "05-basic-operators.md\n",
      "06-basic-string-operations.ipynb\n",
      "06-basic-string-operations.md\n",
      "07-decision-making.ipynb\n",
      "07-decision-making.md\n",
      "08-loops.ipynb\n",
      "08-loops.md\n",
      "09-array-comparison.ipynb\n",
      "09-array-comparison.md\n",
      "10-shell-functions.ipynb\n",
      "10-shell-functions.md\n",
      "FileWithTimeStamp: /tmp/my-dir/file_2025-10-26.txt\n",
      "FileWithTimeStamp: /tmp/my-dir/file_2025-10-26.txt\n"
     ]
    }
   ],
   "source": [
    "FILELIST=`ls`\n",
    "FileWithTimeStamp=/tmp/my-dir/file_$(/bin/date +%Y-%m-%d).txt\n",
    "\n",
    "echo \"FILELIST: $FILELIST\"\n",
    "echo \"FileWithTimeStamp: $FileWithTimeStamp\""
   ]
  },
  {
   "cell_type": "markdown",
   "id": "c3e6cf62",
   "metadata": {},
   "source": [
    "Note that when the script runs, it will run the command inside the $() parenthesis and capture its output.\n",
    "\n",
    "## Exercise\n",
    "\n",
    "The target of this exercise is to create a string, an integer, and a complex variable using command substitution. The string should be named BIRTHDATE and should contain the text \"Jan 1, 2000\". The integer should be named Presents and should contain the number 10. The complex variable should be named BIRTHDAY and should contain the full weekday name of the day matching the date in variable BIRTHDATE e.g. Saturday. Note that the 'date' command can be used to convert a date format into a different date format. For example, to convert date value, $date1, to day of the week of date1, use:\n",
    "\n",
    "```bash\n",
    "date -d \"$date1\" +%A\n",
    "```"
   ]
  },
  {
   "cell_type": "code",
   "execution_count": 6,
   "id": "f26e79b0",
   "metadata": {
    "vscode": {
     "languageId": "shellscript"
    }
   },
   "outputs": [
    {
     "name": "stdout",
     "output_type": "stream",
     "text": [
      "BIRTHDATE: Jan 1, 2000\n",
      "Presents: 10\n",
      "Presents: 10\n",
      "BIRTHDAY: Cumartesi\n",
      "BIRTHDAY: Cumartesi\n"
     ]
    }
   ],
   "source": [
    "# Exercise solution: create a string, an integer, and a complex variable using command substitution\n",
    "BIRTHDATE=\"Jan 1, 2000\"\n",
    "Presents=10\n",
    "BIRTHDAY=$(date -d \"$BIRTHDATE\" +%A)\n",
    "\n",
    "echo \"BIRTHDATE: $BIRTHDATE\"\n",
    "echo \"Presents: $Presents\"\n",
    "echo \"BIRTHDAY: $BIRTHDAY\""
   ]
  }
 ],
 "metadata": {
  "kernelspec": {
   "display_name": "Bash",
   "language": "bash",
   "name": "bash"
  },
  "language_info": {
   "codemirror_mode": "shell",
   "file_extension": ".sh",
   "mimetype": "text/x-sh",
   "name": "bash"
  }
 },
 "nbformat": 4,
 "nbformat_minor": 5
}
