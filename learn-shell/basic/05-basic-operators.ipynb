{
 "cells": [
  {
   "cell_type": "markdown",
   "id": "7983115d",
   "metadata": {},
   "source": [
    "# Basic Operators\n",
    "\n",
    "---\n",
    "\n",
    "Arithmetic Operators\n",
    "\n",
    "Simple arithmetics on variables can be done using the arithmetic expression: $((expression))"
   ]
  },
  {
   "cell_type": "code",
   "execution_count": 1,
   "id": "54123182",
   "metadata": {
    "vscode": {
     "languageId": "shellscript"
    }
   },
   "outputs": [
    {
     "name": "stdout",
     "output_type": "stream",
     "text": [
      "A = 3\n",
      "B = 305\n",
      "B = 305\n"
     ]
    }
   ],
   "source": [
    "A=3\n",
    "B=$((100 * $A + 5)) # 305\n",
    "echo \"A = $A\"\n",
    "echo \"B = $B\""
   ]
  },
  {
   "cell_type": "markdown",
   "id": "7f5c9f38",
   "metadata": {},
   "source": [
    "The basic operators are:\n",
    "\n",
    "- **a + b** addition (a plus b)\n",
    "- **a - b** substraction (a minus b)\n",
    "- **a \\* b** multiplication (a times b)\n",
    "- **a / b** division (integer) (a divided by b)\n",
    "- **a % b** modulo (the integer remainder of a divided by b)\n",
    "- **a \\*\\* b** exponentiation (a to the power of b)"
   ]
  },
  {
   "cell_type": "code",
   "execution_count": 2,
   "id": "60fcbb1a",
   "metadata": {
    "vscode": {
     "languageId": "shellscript"
    }
   },
   "outputs": [
    {
     "name": "stdout",
     "output_type": "stream",
     "text": [
      "a = 10, b = 3\n",
      "a + b = 13\n",
      "a + b = 13\n",
      "a - b = 7\n",
      "a - b = 7\n",
      "a * b = 30\n",
      "a * b = 30\n",
      "a / b = 3\n",
      "a / b = 3\n",
      "a % b = 1\n",
      "a % b = 1\n",
      "a ** b = 1000\n",
      "a ** b = 1000\n"
     ]
    }
   ],
   "source": [
    "# Examples of all operators\n",
    "a=10\n",
    "b=3\n",
    "\n",
    "echo \"a = $a, b = $b\"\n",
    "echo \"a + b = $((a + b))\"\n",
    "echo \"a - b = $((a - b))\"\n",
    "echo \"a * b = $((a * b))\"\n",
    "echo \"a / b = $((a / b))\"\n",
    "echo \"a % b = $((a % b))\"\n",
    "echo \"a ** b = $((a ** b))\""
   ]
  },
  {
   "cell_type": "markdown",
   "id": "daf7abb7",
   "metadata": {},
   "source": [
    "## Exercise\n",
    "\n",
    "In this exercise, you will need to calculate to total cost (variable TOTAL) of a fruit basket, which contains 1 pineapple, 2 bananas and 3 watermelons. Don't forget to include the cost of the basket...."
   ]
  },
  {
   "cell_type": "code",
   "execution_count": 3,
   "id": "ecbbff70",
   "metadata": {
    "vscode": {
     "languageId": "shellscript"
    }
   },
   "outputs": [
    {
     "name": "stdout",
     "output_type": "stream",
     "text": [
      "Total cost: 128\n"
     ]
    }
   ],
   "source": [
    "# Your code here\n",
    "COST_PINEAPPLE=50\n",
    "COST_BANANA=4\n",
    "COST_WATERMELON=23\n",
    "COST_BASKET=1\n",
    "\n",
    "TOTAL=$((1 * COST_PINEAPPLE + 2 * COST_BANANA + 3 * COST_WATERMELON + COST_BASKET))\n",
    "\n",
    "echo \"Total cost: $TOTAL\""
   ]
  }
 ],
 "metadata": {
  "kernelspec": {
   "display_name": "Bash",
   "language": "bash",
   "name": "bash"
  },
  "language_info": {
   "codemirror_mode": "shell",
   "file_extension": ".sh",
   "mimetype": "text/x-sh",
   "name": "bash"
  }
 },
 "nbformat": 4,
 "nbformat_minor": 5
}
