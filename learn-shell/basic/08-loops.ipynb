{
 "cells": [
  {
   "cell_type": "markdown",
   "id": "272bf513",
   "metadata": {},
   "source": [
    "# Loops\n",
    "\n",
    "---\n",
    "\n",
    "### bash for loop\n",
    "\n",
    "```bash\n",
    "# basic construct\n",
    "for arg in [list]\n",
    "do\n",
    " command(s)...\n",
    "done\n",
    "```\n",
    "\n",
    "For each pass through the loop, arg takes on the value of each successive value in the list. Then the command(s) are executed."
   ]
  },
  {
   "cell_type": "code",
   "execution_count": 1,
   "id": "2a997215",
   "metadata": {
    "vscode": {
     "languageId": "shellscript"
    }
   },
   "outputs": [
    {
     "name": "stdout",
     "output_type": "stream",
     "text": [
      "My name is Joe\n",
      "My name is Jenny\n",
      "My name is Sara\n",
      "My name is Tony\n",
      "My name is Jenny\n",
      "My name is Sara\n",
      "My name is Tony\n"
     ]
    }
   ],
   "source": [
    "# loop on array member\n",
    "NAMES=(Joe Jenny Sara Tony)\n",
    "for N in ${NAMES[@]} ; do\n",
    "  echo \"My name is $N\"\n",
    "done"
   ]
  },
  {
   "cell_type": "code",
   "execution_count": 2,
   "id": "aa163bbb",
   "metadata": {
    "vscode": {
     "languageId": "shellscript"
    }
   },
   "outputs": [
    {
     "name": "stdout",
     "output_type": "stream",
     "text": [
      "File is: /etc/hostname\n",
      "File is: /etc/hosts\n",
      "File is: /etc/hosts\n"
     ]
    }
   ],
   "source": [
    "# loop on command output results\n",
    "for f in $( ls /etc/hosts /etc/hostname ) ; do\n",
    "  echo \"File is: $f\"\n",
    "done"
   ]
  },
  {
   "cell_type": "markdown",
   "id": "6581a1aa",
   "metadata": {},
   "source": [
    "### bash while loop\n",
    "\n",
    "```bash\n",
    "# basic construct\n",
    "while [ condition ]\n",
    "do\n",
    " command(s)...\n",
    "done\n",
    "```\n",
    "\n",
    "The while construct tests for a condition, and if true, executes commands. It keeps looping as long as the condition is true."
   ]
  },
  {
   "cell_type": "code",
   "execution_count": 3,
   "id": "188e1bd4",
   "metadata": {
    "vscode": {
     "languageId": "shellscript"
    }
   },
   "outputs": [
    {
     "name": "stdout",
     "output_type": "stream",
     "text": [
      "Value of count is: 4\n",
      "Value of count is: 3\n",
      "Value of count is: 2\n",
      "Value of count is: 1\n",
      "Value of count is: 3\n",
      "Value of count is: 2\n",
      "Value of count is: 1\n"
     ]
    }
   ],
   "source": [
    "COUNT=4\n",
    "while [ $COUNT -gt 0 ]; do\n",
    "  echo \"Value of count is: $COUNT\"\n",
    "  COUNT=$(($COUNT - 1))\n",
    "done"
   ]
  },
  {
   "cell_type": "markdown",
   "id": "c0119bba",
   "metadata": {},
   "source": [
    "### bash until loop\n",
    "\n",
    "```bash\n",
    "# basic construct\n",
    "until [ condition ]\n",
    "do\n",
    " command(s)...\n",
    "done\n",
    "```\n",
    "\n",
    "The until construct tests for a condition, and if false, executes commands. It keeps looping as long as the condition is false (opposite of while construct)"
   ]
  },
  {
   "cell_type": "code",
   "execution_count": 4,
   "id": "7d907dd5",
   "metadata": {
    "vscode": {
     "languageId": "shellscript"
    }
   },
   "outputs": [
    {
     "name": "stdout",
     "output_type": "stream",
     "text": [
      "Value of count is: 1\n",
      "Value of count is: 2\n",
      "Value of count is: 3\n",
      "Value of count is: 4\n",
      "Value of count is: 5\n",
      "Value of count is: 2\n",
      "Value of count is: 3\n",
      "Value of count is: 4\n",
      "Value of count is: 5\n"
     ]
    }
   ],
   "source": [
    "COUNT=1\n",
    "until [ $COUNT -gt 5 ]; do\n",
    "  echo \"Value of count is: $COUNT\"\n",
    "  COUNT=$(($COUNT + 1))\n",
    "done"
   ]
  },
  {
   "cell_type": "markdown",
   "id": "807ebc7f",
   "metadata": {},
   "source": [
    "### \"break\" and \"continue\" statements\n",
    "\n",
    "break and continue can be used to control the loop execution of for, while and until constructs. continue is used to skip the rest of a particular loop iteration, whereas break is used to skip the entire rest of loop. A few examples:"
   ]
  },
  {
   "cell_type": "code",
   "execution_count": 5,
   "id": "e7ba7bc3",
   "metadata": {
    "vscode": {
     "languageId": "shellscript"
    }
   },
   "outputs": [
    {
     "name": "stdout",
     "output_type": "stream",
     "text": [
      "Value of COUNT is: 0\n",
      "Value of COUNT is: 1\n",
      "Value of COUNT is: 2\n",
      "Value of COUNT is: 3\n",
      "Value of COUNT is: 4\n",
      "Value of COUNT is: 1\n",
      "Value of COUNT is: 2\n",
      "Value of COUNT is: 3\n",
      "Value of COUNT is: 4\n"
     ]
    }
   ],
   "source": [
    "# Prints out 0,1,2,3,4\n",
    "COUNT=0\n",
    "while [ $COUNT -ge 0 ]; do\n",
    "  echo \"Value of COUNT is: $COUNT\"\n",
    "  COUNT=$((COUNT+1))\n",
    "  if [ $COUNT -ge 5 ] ; then\n",
    "    break\n",
    "  fi\n",
    "done"
   ]
  },
  {
   "cell_type": "code",
   "execution_count": 6,
   "id": "b67fd545",
   "metadata": {
    "vscode": {
     "languageId": "shellscript"
    }
   },
   "outputs": [
    {
     "name": "stdout",
     "output_type": "stream",
     "text": [
      "1\n",
      "3\n",
      "5\n",
      "7\n",
      "9\n",
      "3\n",
      "5\n",
      "7\n",
      "9\n"
     ]
    }
   ],
   "source": [
    "# Prints out only odd numbers - 1,3,5,7,9\n",
    "COUNT=0\n",
    "while [ $COUNT -lt 10 ]; do\n",
    "  COUNT=$((COUNT+1))\n",
    "  # Check if COUNT is even\n",
    "  if [ $(($COUNT % 2)) = 0 ] ; then\n",
    "    continue\n",
    "  fi\n",
    "  echo $COUNT\n",
    "done"
   ]
  },
  {
   "cell_type": "markdown",
   "id": "d8c15ef9",
   "metadata": {},
   "source": [
    "## Exercise\n",
    "\n",
    "In this exercise, you will need to loop through and print out all even numbers from the numbers list in the same order they are received. Don't print any numbers that come after 237 in the sequence."
   ]
  },
  {
   "cell_type": "code",
   "execution_count": 7,
   "id": "0b4006b4",
   "metadata": {
    "vscode": {
     "languageId": "shellscript"
    }
   },
   "outputs": [
    {
     "name": "stdout",
     "output_type": "stream",
     "text": [
      "402\n",
      "984\n",
      "360\n",
      "408\n",
      "980\n",
      "544\n",
      "390\n",
      "984\n",
      "360\n",
      "408\n",
      "980\n",
      "544\n",
      "390\n"
     ]
    }
   ],
   "source": [
    "# Your code here\n",
    "NUMBERS=(951 402 984 651 360 69 408 319 601 485 980 507 725 547 544 615 83 165 141 501 263 617 865 575 219 390 237 412 566 826 248 866 950 626 949 687 217 815 67 104 58 512 24 892 894 767 553 81 379 843 831 445 742 717 958 609 842 451 688 753 854 685 93 857 440 380 126 721 328 753 470 743 527)\n",
    "\n",
    "for num in ${NUMBERS[@]}; do\n",
    "  # Break if we encounter 237\n",
    "  if [ $num -eq 237 ]; then\n",
    "    break\n",
    "  fi\n",
    "  \n",
    "  # Check if number is even\n",
    "  if [ $(($num % 2)) -eq 0 ]; then\n",
    "    echo $num\n",
    "  fi\n",
    "done"
   ]
  }
 ],
 "metadata": {
  "kernelspec": {
   "display_name": "Bash",
   "language": "bash",
   "name": "bash"
  },
  "language_info": {
   "codemirror_mode": "shell",
   "file_extension": ".sh",
   "mimetype": "text/x-sh",
   "name": "bash"
  }
 },
 "nbformat": 4,
 "nbformat_minor": 5
}
