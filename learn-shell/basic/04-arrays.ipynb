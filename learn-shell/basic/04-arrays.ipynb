{
 "cells": [
  {
   "cell_type": "markdown",
   "id": "fa7e6fc7",
   "metadata": {},
   "source": [
    "# Arrays\n",
    "\n",
    "---\n",
    "\n",
    "An array can hold several values under one name. Array naming is the same as variables naming. An array is initialized by assign space-delimited values enclosed in ()"
   ]
  },
  {
   "cell_type": "code",
   "execution_count": 1,
   "id": "494820a4",
   "metadata": {
    "vscode": {
     "languageId": "shellscript"
    }
   },
   "outputs": [
    {
     "name": "stdout",
     "output_type": "stream",
     "text": [
      "my_array: apple banana Fruit Basket orange\n",
      "new_array[2]: apricot\n",
      "new_array[2]: apricot\n"
     ]
    }
   ],
   "source": [
    "my_array=(apple banana \"Fruit Basket\" orange)\n",
    "new_array[2]=apricot\n",
    "\n",
    "echo \"my_array: ${my_array[@]}\"\n",
    "echo \"new_array[2]: ${new_array[2]}\""
   ]
  },
  {
   "cell_type": "markdown",
   "id": "0666c3ad",
   "metadata": {},
   "source": [
    "Array members need not be consecutive or contiguous. Some members of the array can be left uninitialized.\n",
    "\n",
    "The total number of elements in the array is referenced by ${#arrayname[@]}"
   ]
  },
  {
   "cell_type": "code",
   "execution_count": 2,
   "id": "f2d34973",
   "metadata": {
    "vscode": {
     "languageId": "shellscript"
    }
   },
   "outputs": [
    {
     "name": "stdout",
     "output_type": "stream",
     "text": [
      "4\n"
     ]
    }
   ],
   "source": [
    "my_array=(apple banana \"Fruit Basket\" orange)\n",
    "echo  ${#my_array[@]}                   # 4"
   ]
  },
  {
   "cell_type": "markdown",
   "id": "06f9375d",
   "metadata": {},
   "source": [
    "The array elements can be accessed with their numeric index. The index of the first element is 0."
   ]
  },
  {
   "cell_type": "code",
   "execution_count": 3,
   "id": "f82d416b",
   "metadata": {
    "vscode": {
     "languageId": "shellscript"
    }
   },
   "outputs": [
    {
     "name": "stdout",
     "output_type": "stream",
     "text": [
      "orange\n",
      "5\n",
      "5\n",
      "carrot\n",
      "carrot\n"
     ]
    }
   ],
   "source": [
    "my_array=(apple banana \"Fruit Basket\" orange)\n",
    "echo ${my_array[3]}                     # orange - note that curly brackets are needed\n",
    "\n",
    "# adding another array element\n",
    "my_array[4]=\"carrot\"                    # value assignment without a $ and curly brackets\n",
    "echo ${#my_array[@]}                    # 5\n",
    "echo ${my_array[${#my_array[@]}-1]}     # carrot"
   ]
  },
  {
   "cell_type": "markdown",
   "id": "a211ae14",
   "metadata": {},
   "source": [
    "## Exercise\n",
    "\n",
    "In this exercise, you will need to add numbers and strings to the correct arrays. You must add the numbers 1,2, and 3 to the \"numbers\" array, and the words 'hello' and 'world' to the strings array.\n",
    "\n",
    "You will also have to correct the values of the variable NumberOfNames and the variable second_name. NumberOfNames should hold the total number of names in the NAMES array, using the $# special variable. Variable second_name should hold the second name in the NAMES array, using the brackets operator [ ]. Note that the index is zero-based, so if you want to access the second item in the list, its index will be 1."
   ]
  },
  {
   "cell_type": "code",
   "execution_count": 4,
   "id": "7cb72df2",
   "metadata": {
    "vscode": {
     "languageId": "shellscript"
    }
   },
   "outputs": [
    {
     "name": "stdout",
     "output_type": "stream",
     "text": [
      "numbers: 1 2 3\n",
      "strings: hello world\n",
      "strings: hello world\n",
      "NumberOfNames: 3\n",
      "NumberOfNames: 3\n",
      "second_name: Eric\n",
      "second_name: Eric\n"
     ]
    }
   ],
   "source": [
    "# Your code here\n",
    "numbers=(1 2 3)\n",
    "strings=(hello world)\n",
    "\n",
    "NAMES=(\"John\" \"Eric\" \"Jessica\")\n",
    "NumberOfNames=${#NAMES[@]}\n",
    "second_name=${NAMES[1]}\n",
    "\n",
    "echo \"numbers: ${numbers[@]}\"\n",
    "echo \"strings: ${strings[@]}\"\n",
    "echo \"NumberOfNames: $NumberOfNames\"\n",
    "echo \"second_name: $second_name\""
   ]
  }
 ],
 "metadata": {
  "kernelspec": {
   "display_name": "Bash",
   "language": "bash",
   "name": "bash"
  },
  "language_info": {
   "codemirror_mode": "shell",
   "file_extension": ".sh",
   "mimetype": "text/x-sh",
   "name": "bash"
  }
 },
 "nbformat": 4,
 "nbformat_minor": 5
}
