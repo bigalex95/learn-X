{
 "cells": [
  {
   "cell_type": "markdown",
   "id": "2918e9f3",
   "metadata": {},
   "source": [
    "# Array Comparison\n",
    "\n",
    "---\n",
    "\n",
    "Comparison of arrays Shell can handle arrays. An array is a variable containing multiple values. Any variable may be used as an array. There is no maximum limit to the size of an array, nor any requirement that member variables be indexed or assigned contiguously. Arrays are zero-based: the first element is indexed with the number 0."
   ]
  },
  {
   "cell_type": "code",
   "execution_count": 1,
   "id": "25fe500d",
   "metadata": {
    "vscode": {
     "languageId": "shellscript"
    }
   },
   "outputs": [
    {
     "name": "stdout",
     "output_type": "stream",
     "text": [
      "3rd element: 34\n",
      "All elements: 23 45 34 1 2 3\n",
      "All elements: 23 45 34 1 2 3\n",
      "Number of elements: 6\n",
      "Number of elements: 6\n"
     ]
    }
   ],
   "source": [
    "# basic construct\n",
    "# array=(value1 value2 ... valueN)\n",
    "array=(23 45 34 1 2 3)\n",
    "\n",
    "#To refer to a particular value (e.g. : to refer 3rd value)\n",
    "echo \"3rd element: ${array[2]}\"\n",
    "\n",
    "#To refer to all the array values\n",
    "echo \"All elements: ${array[@]}\"\n",
    "\n",
    "#To evaluate the number of elements in an array\n",
    "echo \"Number of elements: ${#array[@]}\""
   ]
  },
  {
   "cell_type": "markdown",
   "id": "4f477ad8",
   "metadata": {},
   "source": [
    "## Exercise\n",
    "\n",
    "In this exercise, you will need to compare three list of arrays and write the common elements of all the three arrays:\n",
    "\n",
    "`a=(3 5 8 10 6)`, `b=(6 5 4 12)`, `c=(14 7 5 7)`\n",
    "\n",
    "The result is the common element 5."
   ]
  },
  {
   "cell_type": "code",
   "execution_count": 2,
   "id": "f8c151a8",
   "metadata": {
    "vscode": {
     "languageId": "shellscript"
    }
   },
   "outputs": [
    {
     "name": "stdout",
     "output_type": "stream",
     "text": [
      "Common element: 5\n"
     ]
    }
   ],
   "source": [
    "# Your code here\n",
    "a=(3 5 8 10 6)\n",
    "b=(6 5 4 12)\n",
    "c=(14 7 5 7)\n",
    "\n",
    "# Find common elements\n",
    "for element_a in \"${a[@]}\"; do\n",
    "    for element_b in \"${b[@]}\"; do\n",
    "        for element_c in \"${c[@]}\"; do\n",
    "            if [[ $element_a -eq $element_b ]] && [[ $element_a -eq $element_c ]]; then\n",
    "                echo \"Common element: $element_a\"\n",
    "            fi\n",
    "        done\n",
    "    done\n",
    "done"
   ]
  }
 ],
 "metadata": {
  "kernelspec": {
   "display_name": "Bash",
   "language": "bash",
   "name": "bash"
  },
  "language_info": {
   "codemirror_mode": "shell",
   "file_extension": ".sh",
   "mimetype": "text/x-sh",
   "name": "bash"
  }
 },
 "nbformat": 4,
 "nbformat_minor": 5
}
