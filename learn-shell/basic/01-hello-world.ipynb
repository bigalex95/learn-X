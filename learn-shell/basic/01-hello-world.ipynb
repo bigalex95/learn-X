{
 "cells": [
  {
   "cell_type": "markdown",
   "id": "e5a8bf28",
   "metadata": {},
   "source": [
    "# Hello, World!\n",
    "\n",
    "---\n",
    "\n",
    "The tutorial discusses shell programming in general with focus on **Bash** (\"Bourne Again Shell\") shell as the main shell interpreter. Shell programming using other common shells such as sh, csh, tcsh, will also be referenced, as they sometime differ from bash.\n",
    "\n",
    "Shell programming can be accomplished by directly executing shell commands at the shell prompt or by storing them in the order of execution, in a text file, called a shell script, and then executing the shell script. To execute, simply write the shell script file name, once the file has execute permission (chmod +x filename).\n",
    "\n",
    "The first line of the shell script file begins with a \"sha-bang\" (#!) which is not read as a comment, followed by the full path where the shell interpreter is located. This path, tells the operating system that this file is a set of commands to be fed into the interpreter indicated. Note that if the path given at the \"sha-bang\" is incorrect, then an error message e.g. \"Command not found.\", may be the result of the script execution. It is common to name the shell script with the \".sh\" extension. The first line may look like this:\n",
    "\n",
    "**#!/bin/bash**\n",
    "\n",
    "Adding comments: any text following the \"#\" is considered a comment\n",
    "\n",
    "To find out what is currently active shell, and what is its path, type the highlighted command at the shell prompt (sample responses follow):"
   ]
  },
  {
   "cell_type": "code",
   "execution_count": 4,
   "id": "f669b010",
   "metadata": {
    "vscode": {
     "languageId": "shellscript"
    }
   },
   "outputs": [
    {
     "name": "stdout",
     "output_type": "stream",
     "text": [
      " \u001b[01;31m\u001b[K207045\u001b[m\u001b[K pts/3    00:00:00 bash\n"
     ]
    }
   ],
   "source": [
    "ps | grep $$"
   ]
  },
  {
   "cell_type": "markdown",
   "id": "94bbdfe2",
   "metadata": {},
   "source": [
    "This response shows that the shell you are using is of type 'bash'. Next find out the full path of the shell interpreter:"
   ]
  },
  {
   "cell_type": "code",
   "execution_count": 5,
   "id": "6eaeb3cd",
   "metadata": {
    "vscode": {
     "languageId": "shellscript"
    }
   },
   "outputs": [
    {
     "name": "stdout",
     "output_type": "stream",
     "text": [
      "/usr/bin/bash\n"
     ]
    }
   ],
   "source": [
    "which bash"
   ]
  },
  {
   "cell_type": "markdown",
   "id": "06784244",
   "metadata": {},
   "source": [
    "This response shows the full execution path of the shell interpreter. Make sure that the \"sha-bang\" line at the beginning of your script, matches this same execution path.\n",
    "\n",
    "## Exercise\n",
    "\n",
    "Use the \"echo\" command to print the line \"Hello, World!\"."
   ]
  },
  {
   "cell_type": "code",
   "execution_count": 6,
   "id": "85f629fa",
   "metadata": {
    "vscode": {
     "languageId": "shellscript"
    }
   },
   "outputs": [
    {
     "name": "stdout",
     "output_type": "stream",
     "text": [
      "Hello, World!\n"
     ]
    }
   ],
   "source": [
    "# Your code here\n",
    "echo \"Hello, World!\""
   ]
  }
 ],
 "metadata": {
  "kernelspec": {
   "display_name": "Bash",
   "language": "bash",
   "name": "bash"
  },
  "language_info": {
   "codemirror_mode": "shell",
   "file_extension": ".sh",
   "mimetype": "text/x-sh",
   "name": "bash"
  }
 },
 "nbformat": 4,
 "nbformat_minor": 5
}
