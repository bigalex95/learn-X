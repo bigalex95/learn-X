{
 "cells": [
  {
   "cell_type": "markdown",
   "id": "601bdeee",
   "metadata": {},
   "source": [
    "# Passing Arguments to the Script\n",
    "\n",
    "---\n",
    "\n",
    "Arguments can be passed to the script when it is executed, by writing them as a space-delimited list following the script file name.\n",
    "\n",
    "Inside the script, the $1 variable references the first argument in the command line, $2 the second argument and so forth. The variable $0 references to the current script. In the following example, the script name is followed by 6 arguments.\n",
    "\n",
    "## Example\n",
    "\n",
    "my_shopping.sh file contains below code."
   ]
  },
  {
   "cell_type": "code",
   "execution_count": 1,
   "id": "ff715554",
   "metadata": {
    "vscode": {
     "languageId": "shellscript"
    }
   },
   "outputs": [
    {
     "name": "stdout",
     "output_type": "stream",
     "text": [
      "File name is /tmp/my_shopping.sh\n",
      "banana\n",
      "A Fruit Basket costs just 15.\n",
      "6\n",
      "banana\n",
      "A Fruit Basket costs just 15.\n",
      "6\n"
     ]
    }
   ],
   "source": [
    "# Create the script\n",
    "cat > /tmp/my_shopping.sh << 'EOF'\n",
    "#!/bin/bash\n",
    "echo \"File name is \"$0 # holds the current script\n",
    "echo $3 # $3 holds banana\n",
    "Data=$5\n",
    "echo \"A $Data costs just $6.\"\n",
    "echo $#\n",
    "EOF\n",
    "\n",
    "# Execute the script\n",
    "bash /tmp/my_shopping.sh apple 5 banana 8 \"Fruit Basket\" 15"
   ]
  },
  {
   "cell_type": "markdown",
   "id": "60e4f7a4",
   "metadata": {},
   "source": [
    "**Output:**\n",
    "\n",
    "- **File name is /tmp/my_shopping.sh**\n",
    "- **banana**\n",
    "- **A Fruit Basket costs just 15**\n",
    "- **6**\n",
    "\n",
    "The variable $# holds the number of arguments passed to the script\n",
    "\n",
    "The variable $@ holds a space delimited string of all arguments passed to the script\n",
    "\n",
    "## Exercise\n",
    "\n",
    "Pass \"Shell is fun\" (3 arguments) to the script(prog.sh) as arguments and print the length of the arguments."
   ]
  },
  {
   "cell_type": "code",
   "execution_count": 2,
   "id": "0ca228ee",
   "metadata": {
    "vscode": {
     "languageId": "shellscript"
    }
   },
   "outputs": [
    {
     "name": "stdout",
     "output_type": "stream",
     "text": [
      "3\n"
     ]
    }
   ],
   "source": [
    "# Tutorial Code\n",
    "cat > /tmp/prog.sh << 'EOF'\n",
    "#!/bin/bash\n",
    "function File {\n",
    "    # think you are inside the file\n",
    "    # Change here\n",
    "    echo $#\n",
    "}\n",
    "\n",
    "# Do not change anything\n",
    "if [ ! $# -lt 1 ]; then\n",
    "    File $*\n",
    "    exit 0\n",
    "fi\n",
    "EOF\n",
    "\n",
    "# Execute with arguments\n",
    "bash /tmp/prog.sh Shell is fun"
   ]
  },
  {
   "cell_type": "markdown",
   "id": "186d3455",
   "metadata": {},
   "source": [
    "**Expected Output:**\n",
    "\n",
    "```\n",
    "3\n",
    "```"
   ]
  }
 ],
 "metadata": {
  "kernelspec": {
   "display_name": "Bash",
   "language": "bash",
   "name": "bash"
  },
  "language_info": {
   "codemirror_mode": "shell",
   "file_extension": ".sh",
   "mimetype": "text/x-sh",
   "name": "bash"
  }
 },
 "nbformat": 4,
 "nbformat_minor": 5
}
