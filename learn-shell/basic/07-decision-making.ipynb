{
 "cells": [
  {
   "cell_type": "markdown",
   "id": "64bdc153",
   "metadata": {},
   "source": [
    "# Decision Making\n",
    "\n",
    "---\n",
    "\n",
    "As in popular programming languages, the shell also supports logical decision making.\n",
    "\n",
    "The basic conditional decision making construct is:\n",
    "\n",
    "**if [ expression ]; then**\n",
    "\n",
    "code if 'expression' is true\n",
    "\n",
    "**fi**"
   ]
  },
  {
   "cell_type": "code",
   "execution_count": 1,
   "id": "effd7b2c",
   "metadata": {
    "vscode": {
     "languageId": "shellscript"
    }
   },
   "outputs": [
    {
     "name": "stdout",
     "output_type": "stream",
     "text": [
      "True - my name is indeed John\n"
     ]
    }
   ],
   "source": [
    "NAME=\"John\"\n",
    "if [ \"$NAME\" = \"John\" ]; then\n",
    "  echo \"True - my name is indeed John\"\n",
    "fi"
   ]
  },
  {
   "cell_type": "markdown",
   "id": "d3f5f04f",
   "metadata": {},
   "source": [
    "It can be expanded with 'else'"
   ]
  },
  {
   "cell_type": "code",
   "execution_count": 2,
   "id": "92c9995e",
   "metadata": {
    "vscode": {
     "languageId": "shellscript"
    }
   },
   "outputs": [
    {
     "name": "stdout",
     "output_type": "stream",
     "text": [
      "False\n",
      "You must mistaken me for Bill\n",
      "You must mistaken me for Bill\n"
     ]
    }
   ],
   "source": [
    "NAME=\"Bill\"\n",
    "if [ \"$NAME\" = \"John\" ]; then\n",
    "  echo \"True - my name is indeed John\"\n",
    "else\n",
    "  echo \"False\"\n",
    "  echo \"You must mistaken me for $NAME\"\n",
    "fi"
   ]
  },
  {
   "cell_type": "markdown",
   "id": "ac05b541",
   "metadata": {},
   "source": [
    "It can be expanded with 'elif' (else-if)"
   ]
  },
  {
   "cell_type": "code",
   "execution_count": 3,
   "id": "841b38cc",
   "metadata": {
    "vscode": {
     "languageId": "shellscript"
    }
   },
   "outputs": [
    {
     "name": "stdout",
     "output_type": "stream",
     "text": [
      "George Harrison\n"
     ]
    }
   ],
   "source": [
    "NAME=\"George\"\n",
    "if [ \"$NAME\" = \"John\" ]; then\n",
    "  echo \"John Lennon\"\n",
    "elif [ \"$NAME\" = \"George\" ]; then\n",
    "  echo \"George Harrison\"\n",
    "else\n",
    "  echo \"This leaves us with Paul and Ringo\"\n",
    "fi"
   ]
  },
  {
   "cell_type": "markdown",
   "id": "5a32ea67",
   "metadata": {},
   "source": [
    "### Types of numeric comparisons\n",
    "\n",
    "| comparison | Evaluated to true when |\n",
    "|------------|------------------------|\n",
    "| $a -lt $b  | $a < $b                |\n",
    "| $a -gt $b  | $a > $b                |\n",
    "| $a -le $b  | $a <= $b               |\n",
    "| $a -ge $b  | $a >= $b               |\n",
    "| $a -eq $b  | $a is equal to $b      |\n",
    "| $a -ne $b  | $a is not equal to $b  |"
   ]
  },
  {
   "cell_type": "code",
   "execution_count": 4,
   "id": "e3316bcb",
   "metadata": {
    "vscode": {
     "languageId": "shellscript"
    }
   },
   "outputs": [
    {
     "name": "stdout",
     "output_type": "stream",
     "text": [
      "5 is less than 10\n",
      "a is equal to 5\n",
      "a is equal to 5\n"
     ]
    }
   ],
   "source": [
    "a=5\n",
    "b=10\n",
    "\n",
    "if [ $a -lt $b ]; then\n",
    "  echo \"$a is less than $b\"\n",
    "fi\n",
    "\n",
    "if [ $a -eq 5 ]; then\n",
    "  echo \"a is equal to 5\"\n",
    "fi"
   ]
  },
  {
   "cell_type": "markdown",
   "id": "026e1e87",
   "metadata": {},
   "source": [
    "### Types of string comparisons\n",
    "\n",
    "| comparison       | Evaluated to true when        |\n",
    "|------------------|-------------------------------|\n",
    "| \"$a\" = \"$b\"      | $a is the same as $b          |\n",
    "| \"$a\" == \"$b\"     | $a is the same as $b          |\n",
    "| \"$a\" != \"$b\"     | $a is different from $b       |\n",
    "| -z \"$a\"          | $a is empty                   |\n",
    "\n",
    "- note1: whitespace around = is required\n",
    "- note2: use \"\" around string variables to avoid shell expansion of special characters as *"
   ]
  },
  {
   "cell_type": "code",
   "execution_count": 5,
   "id": "1d0898b3",
   "metadata": {
    "vscode": {
     "languageId": "shellscript"
    }
   },
   "outputs": [
    {
     "name": "stdout",
     "output_type": "stream",
     "text": [
      "Strings are different\n",
      "String is empty\n",
      "String is empty\n"
     ]
    }
   ],
   "source": [
    "str1=\"hello\"\n",
    "str2=\"world\"\n",
    "\n",
    "if [ \"$str1\" != \"$str2\" ]; then\n",
    "  echo \"Strings are different\"\n",
    "fi\n",
    "\n",
    "empty=\"\"\n",
    "if [ -z \"$empty\" ]; then\n",
    "  echo \"String is empty\"\n",
    "fi"
   ]
  },
  {
   "cell_type": "markdown",
   "id": "61863fe3",
   "metadata": {},
   "source": [
    "### Logical combinations"
   ]
  },
  {
   "cell_type": "code",
   "execution_count": 6,
   "id": "d1e7ab74",
   "metadata": {
    "vscode": {
     "languageId": "shellscript"
    }
   },
   "outputs": [
    {
     "name": "stdout",
     "output_type": "stream",
     "text": [
      "Condition is true!\n"
     ]
    }
   ],
   "source": [
    "VAR_A=1\n",
    "VAR_B=\"bee\"\n",
    "VAR_T=\"tee\"\n",
    "\n",
    "if [[ $VAR_A -eq 1 && ($VAR_B = \"bee\" || $VAR_T = \"tee\") ]] ; then\n",
    "    echo \"Condition is true!\"\n",
    "fi"
   ]
  },
  {
   "cell_type": "markdown",
   "id": "0b239940",
   "metadata": {},
   "source": [
    "### case structure\n",
    "\n",
    "```bash\n",
    "case \"$variable\" in\n",
    "    \"$condition1\" )\n",
    "        command...\n",
    "    ;;\n",
    "    \"$condition2\" )\n",
    "        command...\n",
    "    ;;\n",
    "esac\n",
    "```\n",
    "\n",
    "### simple case bash structure"
   ]
  },
  {
   "cell_type": "code",
   "execution_count": 7,
   "id": "c37f422d",
   "metadata": {
    "vscode": {
     "languageId": "shellscript"
    }
   },
   "outputs": [
    {
     "name": "stdout",
     "output_type": "stream",
     "text": [
      "You selected bash\n"
     ]
    }
   ],
   "source": [
    "mycase=1\n",
    "case $mycase in\n",
    "    1) echo \"You selected bash\";;\n",
    "    2) echo \"You selected perl\";;\n",
    "    3) echo \"You selected python\";;\n",
    "    4) echo \"You selected c++\";;\n",
    "    5) echo \"Exit\";;\n",
    "esac"
   ]
  },
  {
   "cell_type": "markdown",
   "id": "9c9ca727",
   "metadata": {},
   "source": [
    "## Exercise\n",
    "\n",
    "Change the variables in the first section, so that each if statement resolves as True."
   ]
  },
  {
   "cell_type": "code",
   "execution_count": 8,
   "id": "784ef171",
   "metadata": {
    "vscode": {
     "languageId": "shellscript"
    }
   },
   "outputs": [
    {
     "name": "stdout",
     "output_type": "stream",
     "text": [
      "1. Condition TRUE: NUMBER is greater than 15\n",
      "2. Condition TRUE: NUMBER equals APPLES\n",
      "2. Condition TRUE: NUMBER equals APPLES\n",
      "3. Condition TRUE: APPLES equals 12 or 16\n",
      "3. Condition TRUE: APPLES equals 12 or 16\n",
      "4. Condition TRUE: NUMBER + APPLES is less than or equal to 32\n",
      "4. Condition TRUE: NUMBER + APPLES is less than or equal to 32\n",
      "5. Condition TRUE: KING equals LUIS\n",
      "5. Condition TRUE: KING equals LUIS\n"
     ]
    }
   ],
   "source": [
    "# Your code here - change these variables\n",
    "NUMBER=16\n",
    "APPLES=16\n",
    "KING=\"LUIS\"\n",
    "\n",
    "# Test the conditions\n",
    "if [ $NUMBER -gt 15 ] ; then\n",
    "  echo \"1. Condition TRUE: NUMBER is greater than 15\"\n",
    "fi\n",
    "\n",
    "if [ $NUMBER -eq $APPLES ] ; then\n",
    "  echo \"2. Condition TRUE: NUMBER equals APPLES\"\n",
    "fi\n",
    "\n",
    "if [[ ($APPLES -eq 12) || ($APPLES -eq 16) ]] ; then\n",
    "  echo \"3. Condition TRUE: APPLES equals 12 or 16\"\n",
    "fi\n",
    "\n",
    "if [[ $(($NUMBER + $APPLES)) -le 32 ]] ; then\n",
    "  echo \"4. Condition TRUE: NUMBER + APPLES is less than or equal to 32\"\n",
    "fi\n",
    "\n",
    "if [ \"$KING\" = \"LUIS\" ] ; then\n",
    "  echo \"5. Condition TRUE: KING equals LUIS\"\n",
    "fi"
   ]
  }
 ],
 "metadata": {
  "kernelspec": {
   "display_name": "Bash",
   "language": "bash",
   "name": "bash"
  },
  "language_info": {
   "codemirror_mode": "shell",
   "file_extension": ".sh",
   "mimetype": "text/x-sh",
   "name": "bash"
  }
 },
 "nbformat": 4,
 "nbformat_minor": 5
}
