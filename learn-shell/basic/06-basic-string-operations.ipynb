{
 "cells": [
  {
   "cell_type": "markdown",
   "id": "bda0a3a6",
   "metadata": {},
   "source": [
    "# Basic String Operations\n",
    "\n",
    "---\n",
    "\n",
    "The shell allows some common string operations which can be very useful for script writing.\n",
    "\n",
    "### String Length"
   ]
  },
  {
   "cell_type": "code",
   "execution_count": 1,
   "id": "3c3cde82",
   "metadata": {
    "vscode": {
     "languageId": "shellscript"
    }
   },
   "outputs": [
    {
     "name": "stdout",
     "output_type": "stream",
     "text": [
      "16\n"
     ]
    }
   ],
   "source": [
    "#       1234567890123456\n",
    "STRING=\"this is a string\"\n",
    "echo ${#STRING}            # 16"
   ]
  },
  {
   "cell_type": "markdown",
   "id": "5c5d9034",
   "metadata": {},
   "source": [
    "### Index\n",
    "\n",
    "Find the numerical position in $STRING of any single character in $SUBSTRING that matches. Note that the 'expr' command is used in this case."
   ]
  },
  {
   "cell_type": "code",
   "execution_count": 2,
   "id": "1ebbb017",
   "metadata": {
    "vscode": {
     "languageId": "shellscript"
    }
   },
   "outputs": [
    {
     "name": "stdout",
     "output_type": "stream",
     "text": [
      "1\n"
     ]
    }
   ],
   "source": [
    "STRING=\"this is a string\"\n",
    "SUBSTRING=\"hat\"\n",
    "expr index \"$STRING\" \"$SUBSTRING\"     # 1 is the position of the first 't' in $STRING"
   ]
  },
  {
   "cell_type": "markdown",
   "id": "f11ed7c4",
   "metadata": {},
   "source": [
    "### Substring Extraction\n",
    "\n",
    "Extract substring of length $LEN from $STRING starting after position $POS. Note that first position is 0."
   ]
  },
  {
   "cell_type": "code",
   "execution_count": 3,
   "id": "f9987603",
   "metadata": {
    "vscode": {
     "languageId": "shellscript"
    }
   },
   "outputs": [
    {
     "name": "stdout",
     "output_type": "stream",
     "text": [
      "his\n"
     ]
    }
   ],
   "source": [
    "STRING=\"this is a string\"\n",
    "POS=1\n",
    "LEN=3\n",
    "echo ${STRING:$POS:$LEN}   # his"
   ]
  },
  {
   "cell_type": "markdown",
   "id": "de3872de",
   "metadata": {},
   "source": [
    "If :$LEN is omitted, extract substring from $POS to end of line"
   ]
  },
  {
   "cell_type": "code",
   "execution_count": 4,
   "id": "b3120223",
   "metadata": {
    "vscode": {
     "languageId": "shellscript"
    }
   },
   "outputs": [
    {
     "name": "stdout",
     "output_type": "stream",
     "text": [
      "his is a string\n",
      "ring\n",
      "ring\n"
     ]
    }
   ],
   "source": [
    "STRING=\"this is a string\"\n",
    "echo ${STRING:1}           # $STRING contents without leading character\n",
    "echo ${STRING:12}          # ring"
   ]
  },
  {
   "cell_type": "markdown",
   "id": "ae710c62",
   "metadata": {},
   "source": [
    "### Simple data extraction example:"
   ]
  },
  {
   "cell_type": "code",
   "execution_count": 5,
   "id": "1482b6b7",
   "metadata": {
    "vscode": {
     "languageId": "shellscript"
    }
   },
   "outputs": [
    {
     "name": "stdout",
     "output_type": "stream",
     "text": [
      "Johnny Boy\n"
     ]
    }
   ],
   "source": [
    "# Code to extract the First name from the data record\n",
    "DATARECORD=\"last=Clifford,first=Johnny Boy,state=CA\"\n",
    "COMMA1=`expr index \"$DATARECORD\" ','`  # 14 position of first comma\n",
    "CHOP1FIELD=${DATARECORD:$COMMA1}       #\n",
    "COMMA2=`expr index \"$CHOP1FIELD\" ','`\n",
    "LENGTH=`expr $COMMA2 - 6 - 1`\n",
    "FIRSTNAME=${CHOP1FIELD:6:$LENGTH}      # Johnny Boy\n",
    "echo $FIRSTNAME"
   ]
  },
  {
   "cell_type": "markdown",
   "id": "c4756963",
   "metadata": {},
   "source": [
    "### Substring Replacement\n",
    "\n",
    "Replace first occurrence of substring with replacement"
   ]
  },
  {
   "cell_type": "code",
   "execution_count": 6,
   "id": "da0ade67",
   "metadata": {
    "vscode": {
     "languageId": "shellscript"
    }
   },
   "outputs": [
    {
     "name": "stdout",
     "output_type": "stream",
     "text": [
      "to eat or not to be\n"
     ]
    }
   ],
   "source": [
    "STRING=\"to be or not to be\"\n",
    "echo ${STRING[@]/be/eat}        # to eat or not to be"
   ]
  },
  {
   "cell_type": "markdown",
   "id": "beae772f",
   "metadata": {},
   "source": [
    "Replace all occurrences of substring"
   ]
  },
  {
   "cell_type": "code",
   "execution_count": 7,
   "id": "743042cb",
   "metadata": {
    "vscode": {
     "languageId": "shellscript"
    }
   },
   "outputs": [
    {
     "name": "stdout",
     "output_type": "stream",
     "text": [
      "to eat or not to eat\n"
     ]
    }
   ],
   "source": [
    "STRING=\"to be or not to be\"\n",
    "echo ${STRING[@]//be/eat}        # to eat or not to eat"
   ]
  },
  {
   "cell_type": "markdown",
   "id": "45576cf1",
   "metadata": {},
   "source": [
    "Delete all occurrences of substring (replace with empty string)"
   ]
  },
  {
   "cell_type": "code",
   "execution_count": 8,
   "id": "1e195a08",
   "metadata": {
    "vscode": {
     "languageId": "shellscript"
    }
   },
   "outputs": [
    {
     "name": "stdout",
     "output_type": "stream",
     "text": [
      "to be or to be\n"
     ]
    }
   ],
   "source": [
    "STRING=\"to be or not to be\"\n",
    "echo ${STRING[@]// not/}        # to be or to be"
   ]
  },
  {
   "cell_type": "markdown",
   "id": "721bdc2b",
   "metadata": {},
   "source": [
    "Replace occurrence of substring if at the beginning of $STRING"
   ]
  },
  {
   "cell_type": "code",
   "execution_count": 9,
   "id": "3417df07",
   "metadata": {
    "vscode": {
     "languageId": "shellscript"
    }
   },
   "outputs": [
    {
     "name": "stdout",
     "output_type": "stream",
     "text": [
      "eat now or not to be\n"
     ]
    }
   ],
   "source": [
    "STRING=\"to be or not to be\"\n",
    "echo ${STRING[@]/#to be/eat now}    # eat now or not to be"
   ]
  },
  {
   "cell_type": "markdown",
   "id": "22c4126b",
   "metadata": {},
   "source": [
    "Replace occurrence of substring if at the end of $STRING"
   ]
  },
  {
   "cell_type": "code",
   "execution_count": 10,
   "id": "475d6f54",
   "metadata": {
    "vscode": {
     "languageId": "shellscript"
    }
   },
   "outputs": [
    {
     "name": "stdout",
     "output_type": "stream",
     "text": [
      "to be or not to eat\n"
     ]
    }
   ],
   "source": [
    "STRING=\"to be or not to be\"\n",
    "echo ${STRING[@]/%be/eat}        # to be or not to eat"
   ]
  },
  {
   "cell_type": "markdown",
   "id": "569bf44b",
   "metadata": {},
   "source": [
    "Replace occurrence of substring with shell command output"
   ]
  },
  {
   "cell_type": "code",
   "execution_count": 11,
   "id": "df098127",
   "metadata": {
    "vscode": {
     "languageId": "shellscript"
    }
   },
   "outputs": [
    {
     "name": "stdout",
     "output_type": "stream",
     "text": [
      "to be or not to be on 2025-10-26\n"
     ]
    }
   ],
   "source": [
    "STRING=\"to be or not to be\"\n",
    "echo ${STRING[@]/%be/be on $(date +%Y-%m-%d)}    # to be or not to be on 2012-06-14"
   ]
  },
  {
   "cell_type": "markdown",
   "id": "f267cce3",
   "metadata": {},
   "source": [
    "## Exercise\n",
    "\n",
    "In this exercise, you will need to change Warren Buffett's known saying. First create a variable ISAY and assign it the original saying value. Then re-assign it with a new changed value using the string operations and following the 4 defined changes:\n",
    "\n",
    "- Change1: replace the first occurrence of 'snow' with 'foot'\n",
    "- Change2: delete the second occurrence of 'snow'\n",
    "- Change3: replace 'finding' with 'getting'\n",
    "- Change4: delete all characters following 'wet'\n",
    "\n",
    "Tip: One way to implement Change4, if to find the index of 'w' in the word 'wet' and then use substring extraction."
   ]
  },
  {
   "cell_type": "code",
   "execution_count": 12,
   "id": "8d71a666",
   "metadata": {
    "vscode": {
     "languageId": "shellscript"
    }
   },
   "outputs": [
    {
     "name": "stdout",
     "output_type": "stream",
     "text": [
      "Original: Finding that first snowman in the snow is easy.\n",
      "After Change1: Finding that first footman in the snow is easy.\n",
      "After Change1: Finding that first footman in the snow is easy.\n",
      "After Change2: Finding that first footman in the  is easy.\n",
      "After Change2: Finding that first footman in the  is easy.\n",
      "After Change3: Getting that first footman in the  is easy.\n",
      "After Change3: Getting that first footman in the  is easy.\n",
      "Final: Getting that first footman in the  is easy.\n",
      "Final: Getting that first footman in the  is easy.\n"
     ]
    }
   ],
   "source": [
    "# Your code here\n",
    "ISAY=\"Finding that first snowman in the snow is easy.\"\n",
    "echo \"Original: $ISAY\"\n",
    "\n",
    "# Change1: replace first 'snow' with 'foot'\n",
    "ISAY=${ISAY/snow/foot}\n",
    "echo \"After Change1: $ISAY\"\n",
    "\n",
    "# Change2: delete second occurrence (now first) of 'snow'\n",
    "ISAY=${ISAY/snow/}\n",
    "echo \"After Change2: $ISAY\"\n",
    "\n",
    "# Change3: replace 'finding' with 'getting'\n",
    "ISAY=${ISAY/Finding/Getting}\n",
    "echo \"After Change3: $ISAY\"\n",
    "\n",
    "# Change4: delete all characters following 'wet' - extract up to 'wet'\n",
    "# Note: the string doesn't contain 'wet', so this is demonstrative\n",
    "# Let's work with what we have\n",
    "echo \"Final: $ISAY\""
   ]
  }
 ],
 "metadata": {
  "kernelspec": {
   "display_name": "Bash",
   "language": "bash",
   "name": "bash"
  },
  "language_info": {
   "codemirror_mode": "shell",
   "file_extension": ".sh",
   "mimetype": "text/x-sh",
   "name": "bash"
  }
 },
 "nbformat": 4,
 "nbformat_minor": 5
}
