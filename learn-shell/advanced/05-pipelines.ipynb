{
 "cells": [
  {
   "cell_type": "markdown",
   "id": "c2abcc36",
   "metadata": {},
   "source": [
    "# Pipelines\n",
    "\n",
    "---\n",
    "\n",
    "Pipelines, often called pipes, is a way to chain commands and connect output from one command to the input of the next. A pipeline is represented by the pipe character: `|`. It's particularly handy when a complex or long input is required for a command.\n",
    "\n",
    "```bash\n",
    "command1 | command2\n",
    "```\n",
    "\n",
    "By default pipelines redirects only the standard output, if you want to include the standard error you need to use the form `|&` which is a short hand for `2>&1 |`."
   ]
  },
  {
   "cell_type": "markdown",
   "id": "cc600240",
   "metadata": {},
   "source": [
    "## Basic Pipeline Examples\n",
    "\n",
    "Imagine you quickly want to know the number of entries in a directory, you can use a pipe to redirect the output of the `ls` command to the `wc` command with option `-l`."
   ]
  },
  {
   "cell_type": "code",
   "execution_count": 1,
   "id": "13eb1e0f",
   "metadata": {
    "vscode": {
     "languageId": "shellscript"
    }
   },
   "outputs": [
    {
     "name": "stdout",
     "output_type": "stream",
     "text": [
      "24\n"
     ]
    }
   ],
   "source": [
    "ls / | wc -l"
   ]
  },
  {
   "cell_type": "markdown",
   "id": "5231a0bc",
   "metadata": {},
   "source": [
    "Then you want to see only the first 10 results\n",
    "\n",
    "_Note: head outputs the first 10 lines by default, use option -n to change this behavior_"
   ]
  },
  {
   "cell_type": "code",
   "execution_count": 2,
   "id": "7b530d54",
   "metadata": {
    "vscode": {
     "languageId": "shellscript"
    }
   },
   "outputs": [
    {
     "name": "stdout",
     "output_type": "stream",
     "text": [
      "bin\n",
      "boot\n",
      "cdrom\n",
      "dev\n",
      "etc\n",
      "home\n",
      "lib\n",
      "lib32\n",
      "lib64\n",
      "libx32\n",
      "boot\n",
      "cdrom\n",
      "dev\n",
      "etc\n",
      "home\n",
      "lib\n",
      "lib32\n",
      "lib64\n",
      "libx32\n"
     ]
    }
   ],
   "source": [
    "ls / | head"
   ]
  },
  {
   "cell_type": "markdown",
   "id": "05fceb58",
   "metadata": {},
   "source": [
    "Grep searches for patterns in each file. Patterns is one or more patterns separated by newline characters, and grep prints each line that matches a pattern. Typically patterns should be quoted when grep is used in a shell command."
   ]
  },
  {
   "cell_type": "code",
   "execution_count": 3,
   "id": "b805bd9d",
   "metadata": {
    "vscode": {
     "languageId": "shellscript"
    }
   },
   "outputs": [
    {
     "name": "stdout",
     "output_type": "stream",
     "text": [
      "\u001b[01;31m\u001b[Kbin\u001b[m\u001b[K\n",
      "s\u001b[01;31m\u001b[Kbin\u001b[m\u001b[K\n",
      "s\u001b[01;31m\u001b[Kbin\u001b[m\u001b[K\n"
     ]
    }
   ],
   "source": [
    "# This will grab any line/file that has a matching pattern in it\n",
    "ls / | grep \"bin\""
   ]
  },
  {
   "cell_type": "markdown",
   "id": "f12d1389",
   "metadata": {},
   "source": [
    "## More Complex Pipelines\n",
    "\n",
    "You can chain together more than two commands:"
   ]
  },
  {
   "cell_type": "code",
   "execution_count": 4,
   "id": "2b0be319",
   "metadata": {
    "vscode": {
     "languageId": "shellscript"
    }
   },
   "outputs": [
    {
     "name": "stdout",
     "output_type": "stream",
     "text": [
      "36\n"
     ]
    }
   ],
   "source": [
    "# List files, filter for .conf files, count them\n",
    "ls /etc | grep \"\\.conf$\" | wc -l"
   ]
  },
  {
   "cell_type": "code",
   "execution_count": 5,
   "id": "e185c9cf",
   "metadata": {
    "vscode": {
     "languageId": "shellscript"
    }
   },
   "outputs": [
    {
     "name": "stdout",
     "output_type": "stream",
     "text": [
      "bigalex+   38969  0.0  0.3 1459550156 106264 ?   Sl   Eki25   0:01 /usr/share/code/code /home/bigalex95/.vscode/extensions/mads-hartmann.bash-ide-vscode-1.43.0/out/server.js --node-ipc --clientProcessId=19844\n",
      "bigalex+  205949  0.0  0.2 700224 71104 ?        Sl   00:47   0:00 /home/bigalex95/Projects/learn-X/.venv/bin/python3 -m bash_kernel -f /run/user/1000/jupyter/runtime/kernel-v36c44beafa4fdb4aa0b93a3db206e6cdb0682db8b.json\n",
      "bigalex+  205966  0.0  0.0  14904  6272 pts/0    Ss+  00:47   0:00 /usr/bin/bash --rcfile /home/bigalex95/Projects/learn-X/.venv/lib/python3.13/site-packages/pexpect/bashrc.sh\n",
      "bigalex+  207034  0.0  0.2 700228 71244 ?        Sl   00:48   0:00 /home/bigalex95/Projects/learn-X/.venv/bin/python3 -m bash_kernel -f /run/user/1000/jupyter/runtime/kernel-v32376d6147823f42099a60ab4d977cc13a304824f.json\n",
      "bigalex+  207045  0.0  0.0  14904  6400 pts/3    Ss+  00:48   0:00 /usr/bin/bash --rcfile /home/bigalex95/Projects/learn-X/.venv/lib/python3.13/site-packages/pexpect/bashrc.sh\n",
      "bigalex+  205949  0.0  0.2 700224 71104 ?        Sl   00:47   0:00 /home/bigalex95/Projects/learn-X/.venv/bin/python3 -m bash_kernel -f /run/user/1000/jupyter/runtime/kernel-v36c44beafa4fdb4aa0b93a3db206e6cdb0682db8b.json\n",
      "bigalex+  205966  0.0  0.0  14904  6272 pts/0    Ss+  00:47   0:00 /usr/bin/bash --rcfile /home/bigalex95/Projects/learn-X/.venv/lib/python3.13/site-packages/pexpect/bashrc.sh\n",
      "bigalex+  207034  0.0  0.2 700228 71244 ?        Sl   00:48   0:00 /home/bigalex95/Projects/learn-X/.venv/bin/python3 -m bash_kernel -f /run/user/1000/jupyter/runtime/kernel-v32376d6147823f42099a60ab4d977cc13a304824f.json\n",
      "bigalex+  207045  0.0  0.0  14904  6400 pts/3    Ss+  00:48   0:00 /usr/bin/bash --rcfile /home/bigalex95/Projects/learn-X/.venv/lib/python3.13/site-packages/pexpect/bashrc.sh\n"
     ]
    }
   ],
   "source": [
    "# Show processes, filter for bash, show only first 5\n",
    "ps aux | grep bash | head -5"
   ]
  },
  {
   "cell_type": "markdown",
   "id": "a83b016e",
   "metadata": {},
   "source": [
    "## Practical Examples\n",
    "\n",
    "### Example 1: Find largest files"
   ]
  },
  {
   "cell_type": "code",
   "execution_count": 6,
   "id": "ff0ccda1",
   "metadata": {
    "vscode": {
     "languageId": "shellscript"
    }
   },
   "outputs": [
    {
     "name": "stdout",
     "output_type": "stream",
     "text": [
      "-rw------- 1 bigalex95 bigalex95 3,9M Eki 25 19:49 /tmp/.org.chromium.Chromium.6sHjmu\n",
      "-rw-rw-r-- 1 bigalex95 bigalex95  49K Eki 25 19:51 /tmp/bigalex95-code-zsh/.zcompdump\n",
      "-rw------- 1 bigalex95 bigalex95  29K Eki 26 00:59 /tmp/.com.google.Chrome.GU7fCy\n",
      "-rw-rw-r-- 1 bigalex95 bigalex95  12K Eki 25 22:04 /tmp/dart-code-startup-log-6463.txt\n",
      "-rw-r--r-- 1 bigalex95 bigalex95 9,5K Eki 26 00:25 /tmp/bigalex95-code-zsh/.zshrc\n",
      "-rw-rw-r-- 1 bigalex95 bigalex95  49K Eki 25 19:51 /tmp/bigalex95-code-zsh/.zcompdump\n",
      "-rw------- 1 bigalex95 bigalex95  29K Eki 26 00:59 /tmp/.com.google.Chrome.GU7fCy\n",
      "-rw-rw-r-- 1 bigalex95 bigalex95  12K Eki 25 22:04 /tmp/dart-code-startup-log-6463.txt\n",
      "-rw-r--r-- 1 bigalex95 bigalex95 9,5K Eki 26 00:25 /tmp/bigalex95-code-zsh/.zshrc\n"
     ]
    }
   ],
   "source": [
    "# Find files in /tmp, sort by size, show top 5\n",
    "find /tmp -type f 2>/dev/null | xargs ls -lh 2>/dev/null | sort -k5 -hr | head -5"
   ]
  },
  {
   "cell_type": "markdown",
   "id": "ba1b616c",
   "metadata": {},
   "source": [
    "### Example 2: Count unique entries"
   ]
  },
  {
   "cell_type": "code",
   "execution_count": 7,
   "id": "c485aba3",
   "metadata": {
    "vscode": {
     "languageId": "shellscript"
    }
   },
   "outputs": [
    {
     "name": "stdout",
     "output_type": "stream",
     "text": [
      "      3 apple\n",
      "      2 banana\n",
      "      1 cherry\n",
      "      2 banana\n",
      "      1 cherry\n"
     ]
    }
   ],
   "source": [
    "# Create test data\n",
    "cat > /tmp/data.txt << EOF\n",
    "apple\n",
    "banana\n",
    "apple\n",
    "cherry\n",
    "banana\n",
    "apple\n",
    "EOF\n",
    "\n",
    "# Count unique occurrences\n",
    "cat /tmp/data.txt | sort | uniq -c | sort -nr"
   ]
  },
  {
   "cell_type": "markdown",
   "id": "d363b2d0",
   "metadata": {},
   "source": [
    "### Example 3: Text processing"
   ]
  },
  {
   "cell_type": "code",
   "execution_count": 8,
   "id": "1d934455",
   "metadata": {
    "vscode": {
     "languageId": "shellscript"
    }
   },
   "outputs": [
    {
     "name": "stdout",
     "output_type": "stream",
     "text": [
      "Top IP addresses:\n",
      "      2 192.168.1.2\n",
      "      2 192.168.1.1\n",
      "      1 192.168.1.3\n",
      "      2 192.168.1.2\n",
      "      2 192.168.1.1\n",
      "      1 192.168.1.3\n"
     ]
    }
   ],
   "source": [
    "# Create log file\n",
    "cat > /tmp/access.log << EOF\n",
    "192.168.1.1 - GET /index.html 200\n",
    "192.168.1.2 - GET /about.html 200\n",
    "192.168.1.1 - POST /login 401\n",
    "192.168.1.3 - GET /index.html 200\n",
    "192.168.1.2 - GET /contact.html 404\n",
    "EOF\n",
    "\n",
    "# Extract IPs, count unique ones\n",
    "echo \"Top IP addresses:\"\n",
    "cat /tmp/access.log | awk '{print $1}' | sort | uniq -c | sort -nr"
   ]
  },
  {
   "cell_type": "markdown",
   "id": "e902d0d0",
   "metadata": {},
   "source": [
    "### Example 4: File analysis"
   ]
  },
  {
   "cell_type": "code",
   "execution_count": 9,
   "id": "7e8a2ee0",
   "metadata": {
    "vscode": {
     "languageId": "shellscript"
    }
   },
   "outputs": [
    {
     "name": "stdout",
     "output_type": "stream",
     "text": [
      "File type distribution in /etc:\n",
      "     10                       ASCII text\n",
      "      9                     ASCII text\n",
      "      9                         ASCII text\n",
      "      8                        ASCII text\n",
      "      7                      ASCII text\n",
      "     10                       ASCII text\n",
      "      9                     ASCII text\n",
      "      9                         ASCII text\n",
      "      8                        ASCII text\n",
      "      7                      ASCII text\n"
     ]
    }
   ],
   "source": [
    "# Analyze file types in /etc\n",
    "echo \"File type distribution in /etc:\"\n",
    "find /etc -maxdepth 1 -type f 2>/dev/null | xargs file 2>/dev/null | cut -d: -f2 | sort | uniq -c | sort -nr | head -5"
   ]
  },
  {
   "cell_type": "markdown",
   "id": "f93f7378",
   "metadata": {},
   "source": [
    "## Exercise\n",
    "\n",
    "In this exercise, you will need to print the number of processors based on the information in the cpuinfo file (/proc/cpuinfo)\n",
    "\n",
    "*Hint 1: each processor has a unique number, for instance the first processor will contain the line `processor: 0`*\n",
    "\n",
    "*Hint 2: you can chain together more than two commands in a row*"
   ]
  },
  {
   "cell_type": "code",
   "execution_count": 10,
   "id": "177d962a",
   "metadata": {
    "vscode": {
     "languageId": "shellscript"
    }
   },
   "outputs": [
    {
     "name": "stdout",
     "output_type": "stream",
     "text": [
      "16\n"
     ]
    }
   ],
   "source": [
    "# Your code here\n",
    "cat /proc/cpuinfo | grep \"^processor\" | wc -l"
   ]
  },
  {
   "cell_type": "markdown",
   "id": "ac8ed635",
   "metadata": {},
   "source": [
    "## Advanced Pipeline Techniques"
   ]
  },
  {
   "cell_type": "code",
   "execution_count": 11,
   "id": "ef9e730b",
   "metadata": {
    "vscode": {
     "languageId": "shellscript"
    }
   },
   "outputs": [
    {
     "name": "stdout",
     "output_type": "stream",
     "text": [
      "Testing tee command\n",
      "15\n",
      "15\n",
      "Content saved to:\n",
      "Content saved to:\n",
      "Hello Pipeline\n",
      "Hello Pipeline\n"
     ]
    }
   ],
   "source": [
    "# Using tee to split output\n",
    "echo \"Testing tee command\"\n",
    "echo \"Hello Pipeline\" | tee /tmp/output.txt | wc -c\n",
    "echo \"Content saved to:\"\n",
    "cat /tmp/output.txt"
   ]
  },
  {
   "cell_type": "code",
   "execution_count": 12,
   "id": "947a11c3",
   "metadata": {
    "vscode": {
     "languageId": "shellscript"
    }
   },
   "outputs": [
    {
     "name": "stdout",
     "output_type": "stream",
     "text": [
      "1\n"
     ]
    }
   ],
   "source": [
    "# Combining stderr and stdout\n",
    "# |& is shorthand for 2>&1 |\n",
    "ls /tmp /nonexistent 2>&1 | grep \"cannot access\" | wc -l"
   ]
  }
 ],
 "metadata": {
  "kernelspec": {
   "display_name": "Bash",
   "language": "bash",
   "name": "bash"
  },
  "language_info": {
   "codemirror_mode": "shell",
   "file_extension": ".sh",
   "mimetype": "text/x-sh",
   "name": "bash"
  }
 },
 "nbformat": 4,
 "nbformat_minor": 5
}
