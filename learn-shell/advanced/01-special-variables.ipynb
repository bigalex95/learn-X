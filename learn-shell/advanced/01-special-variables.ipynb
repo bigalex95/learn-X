{
 "cells": [
  {
   "cell_type": "markdown",
   "id": "2d22cf9c",
   "metadata": {},
   "source": [
    "# Special Variables\n",
    "\n",
    "---\n",
    "\n",
    "In last tutorial about shell function, you use \"$1\" represent the first argument passed to function_A. Moreover, here are some special variables in shell:\n",
    "\n",
    "- `$0` - The filename of the current script.\n",
    "- `$n` - The Nth argument passed to script was invoked or function was called.\n",
    "- `$#` - The number of argument passed to script or function.\n",
    "- `$@` - All arguments passed to script or function.\n",
    "- `$*` - All arguments passed to script or function.\n",
    "- `$?` - The exit status of the last command executed.\n",
    "- `$$` - The process ID of the current shell. For shell scripts, this is the process ID under which they are executing.\n",
    "- `$!` - The process number of the last background command."
   ]
  },
  {
   "cell_type": "markdown",
   "id": "2434fd5d",
   "metadata": {},
   "source": [
    "### Example 1: Basic Script Variables"
   ]
  },
  {
   "cell_type": "code",
   "execution_count": 1,
   "id": "98d919b0",
   "metadata": {
    "vscode": {
     "languageId": "shellscript"
    }
   },
   "outputs": [
    {
     "name": "stdout",
     "output_type": "stream",
     "text": [
      "Script Name: /tmp/demo_vars.sh\n",
      "The $1 argument is: We\n",
      "The $2 argument is: are\n",
      "The $3 argument is: argument\n",
      "Total count of arguments: 3\n",
      "The $1 argument is: We\n",
      "The $2 argument is: are\n",
      "The $3 argument is: argument\n",
      "Total count of arguments: 3\n"
     ]
    }
   ],
   "source": [
    "# Create a script to demonstrate special variables\n",
    "cat > /tmp/demo_vars.sh << 'EOF'\n",
    "#!/bin/bash\n",
    "echo \"Script Name: $0\"\n",
    "function func {\n",
    "    for var in $*\n",
    "    do\n",
    "        let i=i+1\n",
    "        echo \"The \\$${i} argument is: ${var}\"\n",
    "    done\n",
    "    echo \"Total count of arguments: $#\"\n",
    "}\n",
    "func We are argument\n",
    "EOF\n",
    "\n",
    "bash /tmp/demo_vars.sh"
   ]
  },
  {
   "cell_type": "markdown",
   "id": "21de6c15",
   "metadata": {},
   "source": [
    "### Example 2: $@ vs $* Behavior\n",
    "\n",
    "`$@` and `$*` have different behavior when they were enclosed in double quotes."
   ]
  },
  {
   "cell_type": "code",
   "execution_count": 2,
   "id": "5379ec0d",
   "metadata": {
    "vscode": {
     "languageId": "shellscript"
    }
   },
   "outputs": [
    {
     "name": "stdout",
     "output_type": "stream",
     "text": [
      "--- \"$*\"\n",
      "We are argument\n",
      "--- \"$@\"\n",
      "We\n",
      "are\n",
      "argument\n",
      "We are argument\n",
      "--- \"$@\"\n",
      "We\n",
      "are\n",
      "argument\n"
     ]
    }
   ],
   "source": [
    "cat > /tmp/demo_args.sh << 'EOF'\n",
    "#!/bin/bash\n",
    "function func {\n",
    "    echo \"--- \\\"\\$*\\\"\"\n",
    "    for ARG in \"$*\"\n",
    "    do\n",
    "        echo $ARG\n",
    "    done\n",
    "\n",
    "    echo \"--- \\\"\\$@\\\"\"\n",
    "    for ARG in \"$@\"\n",
    "    do\n",
    "        echo $ARG\n",
    "    done\n",
    "}\n",
    "func We are argument\n",
    "EOF\n",
    "\n",
    "bash /tmp/demo_args.sh"
   ]
  },
  {
   "cell_type": "markdown",
   "id": "c7561660",
   "metadata": {},
   "source": [
    "## Exercise 1: Script Info\n",
    "\n",
    "Create a script that displays basic information:"
   ]
  },
  {
   "cell_type": "code",
   "execution_count": 3,
   "id": "8583fd20",
   "metadata": {
    "vscode": {
     "languageId": "shellscript"
    }
   },
   "outputs": [
    {
     "name": "stdout",
     "output_type": "stream",
     "text": [
      "Script: /tmp/script_info.sh\n",
      "PID: 212226\n",
      "Args: 3 - hello world test\n",
      "PID: 212226\n",
      "Args: 3 - hello world test\n"
     ]
    }
   ],
   "source": [
    "cat > /tmp/script_info.sh << 'EOF'\n",
    "#!/bin/bash\n",
    "echo \"Script: $0\"\n",
    "echo \"PID: $$\"\n",
    "echo \"Args: $# - $@\"\n",
    "EOF\n",
    "\n",
    "bash /tmp/script_info.sh hello world test"
   ]
  },
  {
   "cell_type": "markdown",
   "id": "0275767b",
   "metadata": {},
   "source": [
    "## Exercise 2: Exit Codes\n",
    "\n",
    "Test different command exit codes:"
   ]
  },
  {
   "cell_type": "code",
   "execution_count": 4,
   "id": "9de7e60b",
   "metadata": {
    "vscode": {
     "languageId": "shellscript"
    }
   },
   "outputs": [
    {
     "name": "stdout",
     "output_type": "stream",
     "text": [
      "Exit code: 2\n",
      "true: 0\n",
      "true: 0\n",
      "false: 1\n",
      "false: 1\n"
     ]
    }
   ],
   "source": [
    "# Test exit codes\n",
    "ls /nonexistent 2>/dev/null\n",
    "echo \"Exit code: $?\"\n",
    "true; echo \"true: $?\"\n",
    "false; echo \"false: $?\""
   ]
  },
  {
   "cell_type": "markdown",
   "id": "8edec552",
   "metadata": {},
   "source": [
    "## Exercise 3: Background Process\n",
    "\n",
    "Run a command in background and show its PID:"
   ]
  },
  {
   "cell_type": "code",
   "execution_count": 5,
   "id": "1019c95d",
   "metadata": {
    "vscode": {
     "languageId": "shellscript"
    }
   },
   "outputs": [
    {
     "name": "stdout",
     "output_type": "stream",
     "text": [
      "Background PID: 212240\n",
      "Done\n",
      "Done\n"
     ]
    }
   ],
   "source": [
    "cat > /tmp/bg_process.sh << 'EOF'\n",
    "#!/bin/bash\n",
    "sleep 2 &\n",
    "echo \"Background PID: $!\"\n",
    "wait\n",
    "echo \"Done\"\n",
    "EOF\n",
    "\n",
    "bash /tmp/bg_process.sh"
   ]
  },
  {
   "cell_type": "markdown",
   "id": "08026905",
   "metadata": {},
   "source": [
    "## Exercise 4: Function vs Script Args\n",
    "\n",
    "Show difference between function and script arguments:"
   ]
  },
  {
   "cell_type": "code",
   "execution_count": 6,
   "id": "f47f56d7",
   "metadata": {
    "vscode": {
     "languageId": "shellscript"
    }
   },
   "outputs": [
    {
     "name": "stdout",
     "output_type": "stream",
     "text": [
      "Script args: 3 - arg1 arg2 arg3\n",
      "Function args: 2 - hello world\n",
      "Function args: 2 - hello world\n"
     ]
    }
   ],
   "source": [
    "cat > /tmp/func_args.sh << 'EOF'\n",
    "#!/bin/bash\n",
    "myfunc() {\n",
    "    echo \"Function args: $# - $@\"\n",
    "}\n",
    "echo \"Script args: $# - $@\"\n",
    "myfunc \"hello\" \"world\"\n",
    "EOF\n",
    "\n",
    "bash /tmp/func_args.sh arg1 arg2 arg3"
   ]
  }
 ],
 "metadata": {
  "kernelspec": {
   "display_name": "Bash",
   "language": "bash",
   "name": "bash"
  },
  "language_info": {
   "codemirror_mode": "shell",
   "file_extension": ".sh",
   "mimetype": "text/x-sh",
   "name": "bash"
  }
 },
 "nbformat": 4,
 "nbformat_minor": 5
}
