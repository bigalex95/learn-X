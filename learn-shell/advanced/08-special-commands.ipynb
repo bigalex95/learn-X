{
 "cells": [
  {
   "cell_type": "markdown",
   "id": "9ff185ac",
   "metadata": {},
   "source": [
    "# Special Commands: sed, awk, grep, sort\n",
    "\n",
    "---\n",
    "\n",
    "This tutorial covers four essential command-line tools that are fundamental for text processing in shell scripting:\n",
    "\n",
    "- **grep** - Pattern Searching\n",
    "- **sed** - Stream Editor\n",
    "- **awk** - Pattern Processing Language\n",
    "- **sort** - Sorting Text"
   ]
  },
  {
   "cell_type": "markdown",
   "id": "6a3a5423",
   "metadata": {},
   "source": [
    "## Setup: Create Sample Data\n",
    "\n",
    "Let's create a sample employee dataset we'll use throughout this tutorial:"
   ]
  },
  {
   "cell_type": "code",
   "execution_count": 1,
   "id": "71de39a6",
   "metadata": {
    "vscode": {
     "languageId": "shellscript"
    }
   },
   "outputs": [
    {
     "name": "stdout",
     "output_type": "stream",
     "text": [
      "Sample data created:\n",
      "John Doe,Sales,50000,New York\n",
      "Jane Smith,Engineering,75000,San Francisco\n",
      "Bob Johnson,Marketing,45000,Chicago\n",
      "Alice Brown,Engineering,80000,San Francisco\n",
      "Charlie Wilson,Sales,52000,New York\n",
      "Diana Davis,HR,48000,Boston\n",
      "John Doe,Sales,50000,New York\n",
      "Jane Smith,Engineering,75000,San Francisco\n",
      "Bob Johnson,Marketing,45000,Chicago\n",
      "Alice Brown,Engineering,80000,San Francisco\n",
      "Charlie Wilson,Sales,52000,New York\n",
      "Diana Davis,HR,48000,Boston\n"
     ]
    }
   ],
   "source": [
    "cat << 'EOF' > /tmp/employees.txt\n",
    "John Doe,Sales,50000,New York\n",
    "Jane Smith,Engineering,75000,San Francisco\n",
    "Bob Johnson,Marketing,45000,Chicago\n",
    "Alice Brown,Engineering,80000,San Francisco\n",
    "Charlie Wilson,Sales,52000,New York\n",
    "Diana Davis,HR,48000,Boston\n",
    "EOF\n",
    "\n",
    "echo \"Sample data created:\"\n",
    "cat /tmp/employees.txt"
   ]
  },
  {
   "cell_type": "markdown",
   "id": "ca845965",
   "metadata": {},
   "source": [
    "## grep - Pattern Searching\n",
    "\n",
    "### Basic grep Usage"
   ]
  },
  {
   "cell_type": "code",
   "execution_count": 2,
   "id": "bcb49a10",
   "metadata": {
    "vscode": {
     "languageId": "shellscript"
    }
   },
   "outputs": [
    {
     "name": "stdout",
     "output_type": "stream",
     "text": [
      "Employees in Engineering:\n",
      "Jane Smith,\u001b[01;31m\u001b[KEngineering\u001b[m\u001b[K,75000,San Francisco\n",
      "Alice Brown,\u001b[01;31m\u001b[KEngineering\u001b[m\u001b[K,80000,San Francisco\n",
      "Jane Smith,\u001b[01;31m\u001b[KEngineering\u001b[m\u001b[K,75000,San Francisco\n",
      "Alice Brown,\u001b[01;31m\u001b[KEngineering\u001b[m\u001b[K,80000,San Francisco\n",
      "\n",
      "\n",
      "Case-insensitive search for 'john':\n",
      "Case-insensitive search for 'john':\n",
      "\u001b[01;31m\u001b[KJohn\u001b[m\u001b[K Doe,Sales,50000,New York\n",
      "Bob \u001b[01;31m\u001b[KJohn\u001b[m\u001b[Kson,Marketing,45000,Chicago\n",
      "\u001b[01;31m\u001b[KJohn\u001b[m\u001b[K Doe,Sales,50000,New York\n",
      "Bob \u001b[01;31m\u001b[KJohn\u001b[m\u001b[Kson,Marketing,45000,Chicago\n",
      "\n",
      "\n",
      "Number of Sales employees:\n",
      "Number of Sales employees:\n",
      "2\n",
      "2\n"
     ]
    }
   ],
   "source": [
    "echo \"Employees in Engineering:\"\n",
    "grep \"Engineering\" /tmp/employees.txt\n",
    "\n",
    "echo\n",
    "echo \"Case-insensitive search for 'john':\"\n",
    "grep -i \"john\" /tmp/employees.txt\n",
    "\n",
    "echo\n",
    "echo \"Number of Sales employees:\"\n",
    "grep -c \"Sales\" /tmp/employees.txt"
   ]
  },
  {
   "cell_type": "markdown",
   "id": "988b6fae",
   "metadata": {},
   "source": [
    "### Advanced grep Options"
   ]
  },
  {
   "cell_type": "code",
   "execution_count": 3,
   "id": "e57e26ce",
   "metadata": {
    "vscode": {
     "languageId": "shellscript"
    }
   },
   "outputs": [
    {
     "name": "stdout",
     "output_type": "stream",
     "text": [
      "Employees in Sales or HR:\n",
      "John Doe,\u001b[01;31m\u001b[KSales\u001b[m\u001b[K,50000,New York\n",
      "Charlie Wilson,\u001b[01;31m\u001b[KSales\u001b[m\u001b[K,52000,New York\n",
      "Diana Davis,\u001b[01;31m\u001b[KHR\u001b[m\u001b[K,48000,Boston\n",
      "John Doe,\u001b[01;31m\u001b[KSales\u001b[m\u001b[K,50000,New York\n",
      "Charlie Wilson,\u001b[01;31m\u001b[KSales\u001b[m\u001b[K,52000,New York\n",
      "Diana Davis,\u001b[01;31m\u001b[KHR\u001b[m\u001b[K,48000,Boston\n",
      "\n",
      "\n",
      "Non-Engineering employees:\n",
      "Non-Engineering employees:\n",
      "John Doe,Sales,50000,New York\n",
      "Bob Johnson,Marketing,45000,Chicago\n",
      "Charlie Wilson,Sales,52000,New York\n",
      "Diana Davis,HR,48000,Boston\n",
      "John Doe,Sales,50000,New York\n",
      "Bob Johnson,Marketing,45000,Chicago\n",
      "Charlie Wilson,Sales,52000,New York\n",
      "Diana Davis,HR,48000,Boston\n",
      "\n",
      "\n",
      "With line numbers:\n",
      "With line numbers:\n",
      "\u001b[32m\u001b[K2\u001b[m\u001b[K\u001b[36m\u001b[K:\u001b[m\u001b[KJane Smith,Engineering,75000,\u001b[01;31m\u001b[KSan Francisco\u001b[m\u001b[K\n",
      "\u001b[32m\u001b[K4\u001b[m\u001b[K\u001b[36m\u001b[K:\u001b[m\u001b[KAlice Brown,Engineering,80000,\u001b[01;31m\u001b[KSan Francisco\u001b[m\u001b[K\n",
      "\u001b[32m\u001b[K2\u001b[m\u001b[K\u001b[36m\u001b[K:\u001b[m\u001b[KJane Smith,Engineering,75000,\u001b[01;31m\u001b[KSan Francisco\u001b[m\u001b[K\n",
      "\u001b[32m\u001b[K4\u001b[m\u001b[K\u001b[36m\u001b[K:\u001b[m\u001b[KAlice Brown,Engineering,80000,\u001b[01;31m\u001b[KSan Francisco\u001b[m\u001b[K\n"
     ]
    }
   ],
   "source": [
    "echo \"Employees in Sales or HR:\"\n",
    "grep -E \"Sales|HR\" /tmp/employees.txt\n",
    "\n",
    "echo\n",
    "echo \"Non-Engineering employees:\"\n",
    "grep -v \"Engineering\" /tmp/employees.txt\n",
    "\n",
    "echo\n",
    "echo \"With line numbers:\"\n",
    "grep -n \"San Francisco\" /tmp/employees.txt"
   ]
  },
  {
   "cell_type": "code",
   "execution_count": 4,
   "id": "5a9a6421",
   "metadata": {
    "vscode": {
     "languageId": "shellscript"
    }
   },
   "outputs": [
    {
     "name": "stdout",
     "output_type": "stream",
     "text": [
      "Extract only salary information:\n",
      "\u001b[01;31m\u001b[K50000\u001b[m\u001b[K\n",
      "\u001b[01;31m\u001b[K75000\u001b[m\u001b[K\n",
      "\u001b[01;31m\u001b[K45000\u001b[m\u001b[K\n",
      "\u001b[01;31m\u001b[K80000\u001b[m\u001b[K\n",
      "\u001b[01;31m\u001b[K52000\u001b[m\u001b[K\n",
      "\u001b[01;31m\u001b[K48000\u001b[m\u001b[K\n",
      "\u001b[01;31m\u001b[K50000\u001b[m\u001b[K\n",
      "\u001b[01;31m\u001b[K75000\u001b[m\u001b[K\n",
      "\u001b[01;31m\u001b[K45000\u001b[m\u001b[K\n",
      "\u001b[01;31m\u001b[K80000\u001b[m\u001b[K\n",
      "\u001b[01;31m\u001b[K52000\u001b[m\u001b[K\n",
      "\u001b[01;31m\u001b[K48000\u001b[m\u001b[K\n"
     ]
    }
   ],
   "source": [
    "echo \"Extract only salary information:\"\n",
    "grep -o \"[0-9]\\{5\\}\" /tmp/employees.txt"
   ]
  },
  {
   "cell_type": "markdown",
   "id": "3d92d1c5",
   "metadata": {},
   "source": [
    "## sed - Stream Editor\n",
    "\n",
    "### Basic sed Operations"
   ]
  },
  {
   "cell_type": "code",
   "execution_count": 5,
   "id": "c51b279f",
   "metadata": {
    "vscode": {
     "languageId": "shellscript"
    }
   },
   "outputs": [
    {
     "name": "stdout",
     "output_type": "stream",
     "text": [
      "Replace 'Engineering' with 'Development':\n",
      "John Doe,Sales,50000,New York\n",
      "Jane Smith,Development,75000,San Francisco\n",
      "Bob Johnson,Marketing,45000,Chicago\n",
      "Alice Brown,Development,80000,San Francisco\n",
      "Charlie Wilson,Sales,52000,New York\n",
      "Diana Davis,HR,48000,Boston\n",
      "John Doe,Sales,50000,New York\n",
      "Jane Smith,Development,75000,San Francisco\n",
      "Bob Johnson,Marketing,45000,Chicago\n",
      "Alice Brown,Development,80000,San Francisco\n",
      "Charlie Wilson,Sales,52000,New York\n",
      "Diana Davis,HR,48000,Boston\n",
      "\n",
      "\n",
      "Replace all commas with pipes:\n",
      "Replace all commas with pipes:\n",
      "John Doe|Sales|50000|New York\n",
      "Jane Smith|Engineering|75000|San Francisco\n",
      "Bob Johnson|Marketing|45000|Chicago\n",
      "John Doe|Sales|50000|New York\n",
      "Jane Smith|Engineering|75000|San Francisco\n",
      "Bob Johnson|Marketing|45000|Chicago\n"
     ]
    }
   ],
   "source": [
    "echo \"Replace 'Engineering' with 'Development':\"\n",
    "sed 's/Engineering/Development/' /tmp/employees.txt\n",
    "\n",
    "echo\n",
    "echo \"Replace all commas with pipes:\"\n",
    "sed 's/,/|/g' /tmp/employees.txt | head -3"
   ]
  },
  {
   "cell_type": "code",
   "execution_count": 6,
   "id": "f410bb0a",
   "metadata": {
    "vscode": {
     "languageId": "shellscript"
    }
   },
   "outputs": [
    {
     "name": "stdout",
     "output_type": "stream",
     "text": [
      "Delete HR employees:\n",
      "John Doe,Sales,50000,New York\n",
      "Jane Smith,Engineering,75000,San Francisco\n",
      "Bob Johnson,Marketing,45000,Chicago\n",
      "Alice Brown,Engineering,80000,San Francisco\n",
      "Charlie Wilson,Sales,52000,New York\n",
      "John Doe,Sales,50000,New York\n",
      "Jane Smith,Engineering,75000,San Francisco\n",
      "Bob Johnson,Marketing,45000,Chicago\n",
      "Alice Brown,Engineering,80000,San Francisco\n",
      "Charlie Wilson,Sales,52000,New York\n"
     ]
    }
   ],
   "source": [
    "echo \"Delete HR employees:\"\n",
    "sed '/HR/d' /tmp/employees.txt"
   ]
  },
  {
   "cell_type": "markdown",
   "id": "766cc776",
   "metadata": {},
   "source": [
    "### Advanced sed Usage"
   ]
  },
  {
   "cell_type": "code",
   "execution_count": 7,
   "id": "cf4c71fa",
   "metadata": {
    "vscode": {
     "languageId": "shellscript"
    }
   },
   "outputs": [
    {
     "name": "stdout",
     "output_type": "stream",
     "text": [
      "Multiple operations:\n",
      "John Doe,Business,50000,New York\n",
      "Jane Smith,Tech,75000,San Francisco\n",
      "Bob Johnson,Marketing,45000,Chicago\n",
      "Alice Brown,Tech,80000,San Francisco\n",
      "Charlie Wilson,Business,52000,New York\n",
      "Diana Davis,HR,48000,Boston\n",
      "John Doe,Business,50000,New York\n",
      "Jane Smith,Tech,75000,San Francisco\n",
      "Bob Johnson,Marketing,45000,Chicago\n",
      "Alice Brown,Tech,80000,San Francisco\n",
      "Charlie Wilson,Business,52000,New York\n",
      "Diana Davis,HR,48000,Boston\n",
      "\n",
      "\n",
      "Add header:\n",
      "Add header:\n",
      "Name,Department,Salary,Location\n",
      "John Doe,Sales,50000,New York\n",
      "Jane Smith,Engineering,75000,San Francisco\n",
      "Bob Johnson,Marketing,45000,Chicago\n",
      "Name,Department,Salary,Location\n",
      "John Doe,Sales,50000,New York\n",
      "Jane Smith,Engineering,75000,San Francisco\n",
      "Bob Johnson,Marketing,45000,Chicago\n"
     ]
    }
   ],
   "source": [
    "echo \"Multiple operations:\"\n",
    "sed -e 's/Engineering/Tech/' -e 's/Sales/Business/' /tmp/employees.txt\n",
    "\n",
    "echo\n",
    "echo \"Add header:\"\n",
    "sed '1i\\Name,Department,Salary,Location' /tmp/employees.txt | head -4"
   ]
  },
  {
   "cell_type": "code",
   "execution_count": 8,
   "id": "50de89a1",
   "metadata": {
    "vscode": {
     "languageId": "shellscript"
    }
   },
   "outputs": [
    {
     "name": "stdout",
     "output_type": "stream",
     "text": [
      "Extract names only:\n",
      "John Doe\n",
      "Jane Smith\n",
      "Bob Johnson\n",
      "Alice Brown\n",
      "Charlie Wilson\n",
      "Diana Davis\n",
      "John Doe\n",
      "Jane Smith\n",
      "Bob Johnson\n",
      "Alice Brown\n",
      "Charlie Wilson\n",
      "Diana Davis\n",
      "\n",
      "\n",
      "Add dollar signs to salaries:\n",
      "Add dollar signs to salaries:\n",
      "John Doe,Sales,$50000,New York\n",
      "Jane Smith,Engineering,$75000,San Francisco\n",
      "Bob Johnson,Marketing,$45000,Chicago\n",
      "John Doe,Sales,$50000,New York\n",
      "Jane Smith,Engineering,$75000,San Francisco\n",
      "Bob Johnson,Marketing,$45000,Chicago\n"
     ]
    }
   ],
   "source": [
    "echo \"Extract names only:\"\n",
    "sed 's/^\\([^,]*\\).*/\\1/' /tmp/employees.txt\n",
    "\n",
    "echo\n",
    "echo \"Add dollar signs to salaries:\"\n",
    "sed 's/\\([0-9]\\{5\\}\\)/$\\1/' /tmp/employees.txt | head -3"
   ]
  },
  {
   "cell_type": "markdown",
   "id": "e557181c",
   "metadata": {},
   "source": [
    "## awk - Pattern Processing Language\n",
    "\n",
    "### Basic awk Concepts"
   ]
  },
  {
   "cell_type": "code",
   "execution_count": 9,
   "id": "4596f925",
   "metadata": {
    "vscode": {
     "languageId": "shellscript"
    }
   },
   "outputs": [
    {
     "name": "stdout",
     "output_type": "stream",
     "text": [
      "Print names and salaries:\n",
      "John Doe 50000\n",
      "Jane Smith 75000\n",
      "Bob Johnson 45000\n",
      "Alice Brown 80000\n",
      "Charlie Wilson 52000\n",
      "Diana Davis 48000\n",
      "John Doe 50000\n",
      "Jane Smith 75000\n",
      "Bob Johnson 45000\n",
      "Alice Brown 80000\n",
      "Charlie Wilson 52000\n",
      "Diana Davis 48000\n",
      "\n",
      "\n",
      "Formatted output:\n",
      "Formatted output:\n",
      "Name: John Doe        Salary: $50000\n",
      "Name: Jane Smith      Salary: $75000\n",
      "Name: Bob Johnson     Salary: $45000\n",
      "Name: Alice Brown     Salary: $80000\n",
      "Name: Charlie Wilson  Salary: $52000\n",
      "Name: Diana Davis     Salary: $48000\n",
      "Name: John Doe        Salary: $50000\n",
      "Name: Jane Smith      Salary: $75000\n",
      "Name: Bob Johnson     Salary: $45000\n",
      "Name: Alice Brown     Salary: $80000\n",
      "Name: Charlie Wilson  Salary: $52000\n",
      "Name: Diana Davis     Salary: $48000\n"
     ]
    }
   ],
   "source": [
    "echo \"Print names and salaries:\"\n",
    "awk -F',' '{print $1, $3}' /tmp/employees.txt\n",
    "\n",
    "echo\n",
    "echo \"Formatted output:\"\n",
    "awk -F',' '{printf \"Name: %-15s Salary: $%s\\n\", $1, $3}' /tmp/employees.txt"
   ]
  },
  {
   "cell_type": "code",
   "execution_count": 10,
   "id": "a4232b93",
   "metadata": {
    "vscode": {
     "languageId": "shellscript"
    }
   },
   "outputs": [
    {
     "name": "stdout",
     "output_type": "stream",
     "text": [
      "High earners (>60000):\n",
      "Jane Smith,Engineering,75000,San Francisco\n",
      "Alice Brown,Engineering,80000,San Francisco\n",
      "Jane Smith,Engineering,75000,San Francisco\n",
      "Alice Brown,Engineering,80000,San Francisco\n",
      "\n",
      "\n",
      "Count and average salary:\n",
      "Count and average salary:\n",
      "Employees: 6 Average: 58333,3\n",
      "Employees: 6 Average: 58333,3\n"
     ]
    }
   ],
   "source": [
    "echo \"High earners (>60000):\"\n",
    "awk -F',' '$3 > 60000' /tmp/employees.txt\n",
    "\n",
    "echo\n",
    "echo \"Count and average salary:\"\n",
    "awk -F',' '{count++; sum+=$3} END {print \"Employees:\", count, \"Average:\", sum/count}' /tmp/employees.txt"
   ]
  },
  {
   "cell_type": "markdown",
   "id": "03a6f8ef",
   "metadata": {},
   "source": [
    "### Advanced awk Programming"
   ]
  },
  {
   "cell_type": "code",
   "execution_count": 11,
   "id": "83442080",
   "metadata": {
    "vscode": {
     "languageId": "shellscript"
    }
   },
   "outputs": [
    {
     "name": "stdout",
     "output_type": "stream",
     "text": [
      "Department summary:\n",
      "Marketing: 1 employees, avg salary: $45000\n",
      "Engineering: 2 employees, avg salary: $77500\n",
      "Sales: 2 employees, avg salary: $51000\n",
      "HR: 1 employees, avg salary: $48000\n",
      "Marketing: 1 employees, avg salary: $45000\n",
      "Engineering: 2 employees, avg salary: $77500\n",
      "Sales: 2 employees, avg salary: $51000\n",
      "HR: 1 employees, avg salary: $48000\n"
     ]
    }
   ],
   "source": [
    "echo \"Department summary:\"\n",
    "awk -F',' '\n",
    "{\n",
    "    dept[$2]++\n",
    "    total[$2] += $3\n",
    "}\n",
    "END {\n",
    "    for (d in dept) {\n",
    "        printf \"%s: %d employees, avg salary: $%.0f\\n\", d, dept[d], total[d]/dept[d]\n",
    "    }\n",
    "}' /tmp/employees.txt"
   ]
  },
  {
   "cell_type": "code",
   "execution_count": 12,
   "id": "21a3310f",
   "metadata": {
    "vscode": {
     "languageId": "shellscript"
    }
   },
   "outputs": [
    {
     "name": "stdout",
     "output_type": "stream",
     "text": [
      "Engineering department details:\n",
      "Engineering Employees:\n",
      "  Jane Smith - $75000 (San Francisco)\n",
      "  Alice Brown - $80000 (San Francisco)\n",
      "--- End ---\n",
      "Engineering Employees:\n",
      "  Jane Smith - $75000 (San Francisco)\n",
      "  Alice Brown - $80000 (San Francisco)\n",
      "--- End ---\n"
     ]
    }
   ],
   "source": [
    "echo \"Engineering department details:\"\n",
    "awk -F',' '\n",
    "BEGIN { print \"Engineering Employees:\" }\n",
    "$2 == \"Engineering\" { print \"  \" $1 \" - $\" $3 \" (\" $4 \")\" }\n",
    "END { print \"--- End ---\" }\n",
    "' /tmp/employees.txt"
   ]
  },
  {
   "cell_type": "markdown",
   "id": "8987c858",
   "metadata": {},
   "source": [
    "### awk Built-in Variables"
   ]
  },
  {
   "cell_type": "code",
   "execution_count": 13,
   "id": "d136d342",
   "metadata": {
    "vscode": {
     "languageId": "shellscript"
    }
   },
   "outputs": [
    {
     "name": "stdout",
     "output_type": "stream",
     "text": [
      "Line numbers and field counts:\n",
      "Line 1: 4 fields\n",
      "Line 2: 4 fields\n",
      "Line 3: 4 fields\n",
      "Line 4: 4 fields\n",
      "Line 5: 4 fields\n",
      "Line 6: 4 fields\n",
      "Line 1: 4 fields\n",
      "Line 2: 4 fields\n",
      "Line 3: 4 fields\n",
      "Line 4: 4 fields\n",
      "Line 5: 4 fields\n",
      "Line 6: 4 fields\n",
      "\n",
      "\n",
      "Name lengths:\n",
      "Name lengths:\n",
      "John Doe (length: 8)\n",
      "Jane Smith (length: 10)\n",
      "Bob Johnson (length: 11)\n",
      "Alice Brown (length: 11)\n",
      "Charlie Wilson (length: 14)\n",
      "Diana Davis (length: 11)\n",
      "John Doe (length: 8)\n",
      "Jane Smith (length: 10)\n",
      "Bob Johnson (length: 11)\n",
      "Alice Brown (length: 11)\n",
      "Charlie Wilson (length: 14)\n",
      "Diana Davis (length: 11)\n"
     ]
    }
   ],
   "source": [
    "echo \"Line numbers and field counts:\"\n",
    "awk -F',' '{print \"Line \" NR \": \" NF \" fields\"}' /tmp/employees.txt\n",
    "\n",
    "echo\n",
    "echo \"Name lengths:\"\n",
    "awk -F',' '{print $1 \" (length: \" length($1) \")\"}' /tmp/employees.txt"
   ]
  },
  {
   "cell_type": "markdown",
   "id": "f30f916e",
   "metadata": {},
   "source": [
    "## sort - Sorting Text\n",
    "\n",
    "### Basic Sorting"
   ]
  },
  {
   "cell_type": "code",
   "execution_count": 14,
   "id": "b20bf0ca",
   "metadata": {
    "vscode": {
     "languageId": "shellscript"
    }
   },
   "outputs": [
    {
     "name": "stdout",
     "output_type": "stream",
     "text": [
      "Alphabetical sort:\n",
      "Alice Brown,Engineering,80000,San Francisco\n",
      "Bob Johnson,Marketing,45000,Chicago\n",
      "Charlie Wilson,Sales,52000,New York\n",
      "Alice Brown,Engineering,80000,San Francisco\n",
      "Bob Johnson,Marketing,45000,Chicago\n",
      "Charlie Wilson,Sales,52000,New York\n",
      "\n",
      "\n",
      "Reverse alphabetical:\n",
      "Reverse alphabetical:\n",
      "John Doe,Sales,50000,New York\n",
      "Jane Smith,Engineering,75000,San Francisco\n",
      "Diana Davis,HR,48000,Boston\n",
      "John Doe,Sales,50000,New York\n",
      "Jane Smith,Engineering,75000,San Francisco\n",
      "Diana Davis,HR,48000,Boston\n"
     ]
    }
   ],
   "source": [
    "echo \"Alphabetical sort:\"\n",
    "sort /tmp/employees.txt | head -3\n",
    "\n",
    "echo\n",
    "echo \"Reverse alphabetical:\"\n",
    "sort -r /tmp/employees.txt | head -3"
   ]
  },
  {
   "cell_type": "code",
   "execution_count": 15,
   "id": "0abe36af",
   "metadata": {
    "vscode": {
     "languageId": "shellscript"
    }
   },
   "outputs": [
    {
     "name": "stdout",
     "output_type": "stream",
     "text": [
      "Sort by salary (numeric):\n",
      "Bob Johnson,Marketing,45000,Chicago\n",
      "Diana Davis,HR,48000,Boston\n",
      "John Doe,Sales,50000,New York\n",
      "Charlie Wilson,Sales,52000,New York\n",
      "Jane Smith,Engineering,75000,San Francisco\n",
      "Alice Brown,Engineering,80000,San Francisco\n",
      "Bob Johnson,Marketing,45000,Chicago\n",
      "Diana Davis,HR,48000,Boston\n",
      "John Doe,Sales,50000,New York\n",
      "Charlie Wilson,Sales,52000,New York\n",
      "Jane Smith,Engineering,75000,San Francisco\n",
      "Alice Brown,Engineering,80000,San Francisco\n",
      "\n",
      "\n",
      "Sort by department, then by salary:\n",
      "Sort by department, then by salary:\n",
      "Jane Smith,Engineering,75000,San Francisco\n",
      "Alice Brown,Engineering,80000,San Francisco\n",
      "Diana Davis,HR,48000,Boston\n",
      "Bob Johnson,Marketing,45000,Chicago\n",
      "John Doe,Sales,50000,New York\n",
      "Charlie Wilson,Sales,52000,New York\n",
      "Jane Smith,Engineering,75000,San Francisco\n",
      "Alice Brown,Engineering,80000,San Francisco\n",
      "Diana Davis,HR,48000,Boston\n",
      "Bob Johnson,Marketing,45000,Chicago\n",
      "John Doe,Sales,50000,New York\n",
      "Charlie Wilson,Sales,52000,New York\n"
     ]
    }
   ],
   "source": [
    "echo \"Sort by salary (numeric):\"\n",
    "sort -t',' -k3 -n /tmp/employees.txt\n",
    "\n",
    "echo\n",
    "echo \"Sort by department, then by salary:\"\n",
    "sort -t',' -k2,2 -k3,3n /tmp/employees.txt"
   ]
  },
  {
   "cell_type": "markdown",
   "id": "1ab1726a",
   "metadata": {},
   "source": [
    "### Advanced Sorting"
   ]
  },
  {
   "cell_type": "code",
   "execution_count": 16,
   "id": "015f32a0",
   "metadata": {
    "vscode": {
     "languageId": "shellscript"
    }
   },
   "outputs": [
    {
     "name": "stdout",
     "output_type": "stream",
     "text": [
      "Sort by salary (highest first):\n",
      "Alice Brown,Engineering,80000,San Francisco\n",
      "Jane Smith,Engineering,75000,San Francisco\n",
      "Charlie Wilson,Sales,52000,New York\n",
      "John Doe,Sales,50000,New York\n",
      "Diana Davis,HR,48000,Boston\n",
      "Bob Johnson,Marketing,45000,Chicago\n",
      "Alice Brown,Engineering,80000,San Francisco\n",
      "Jane Smith,Engineering,75000,San Francisco\n",
      "Charlie Wilson,Sales,52000,New York\n",
      "John Doe,Sales,50000,New York\n",
      "Diana Davis,HR,48000,Boston\n",
      "Bob Johnson,Marketing,45000,Chicago\n",
      "\n",
      "\n",
      "Unique departments:\n",
      "Unique departments:\n",
      "Engineering\n",
      "HR\n",
      "Marketing\n",
      "Sales\n",
      "Engineering\n",
      "HR\n",
      "Marketing\n",
      "Sales\n"
     ]
    }
   ],
   "source": [
    "echo \"Sort by salary (highest first):\"\n",
    "sort -t',' -k3 -nr /tmp/employees.txt\n",
    "\n",
    "echo\n",
    "echo \"Unique departments:\"\n",
    "sort -t',' -k2 /tmp/employees.txt | cut -d',' -f2 | sort -u"
   ]
  },
  {
   "cell_type": "markdown",
   "id": "e109b297",
   "metadata": {},
   "source": [
    "## Combining Commands\n",
    "\n",
    "### Complex Data Processing Pipeline"
   ]
  },
  {
   "cell_type": "code",
   "execution_count": 17,
   "id": "4805d7b0",
   "metadata": {
    "vscode": {
     "languageId": "shellscript"
    }
   },
   "outputs": [
    {
     "name": "stdout",
     "output_type": "stream",
     "text": [
      "Top earning employees by department:\n",
      "Engineering,Alice Brown,80000\n",
      "Sales,Charlie Wilson,52000\n",
      "HR,Diana Davis,48000\n",
      "Marketing,Bob Johnson,45000\n",
      "Engineering,Alice Brown,80000\n",
      "Sales,Charlie Wilson,52000\n",
      "HR,Diana Davis,48000\n",
      "Marketing,Bob Johnson,45000\n"
     ]
    }
   ],
   "source": [
    "echo \"Top earning employees by department:\"\n",
    "awk -F',' 'NR>1{dept[$2]++; if($3>max[$2] || max[$2]==\"\") {max[$2]=$3; top[$2]=$1}} END{for(d in dept) print d\",\"top[d]\",\"max[d]}' /tmp/employees.txt | sort -t',' -k3 -nr"
   ]
  },
  {
   "cell_type": "code",
   "execution_count": 18,
   "id": "7318178f",
   "metadata": {
    "vscode": {
     "languageId": "shellscript"
    }
   },
   "outputs": [
    {
     "name": "stdout",
     "output_type": "stream",
     "text": [
      "Employee count by location (sorted):\n",
      "      2 San Francisco\n",
      "      2 New York\n",
      "      1 Chicago\n",
      "      1 Boston\n",
      "      2 San Francisco\n",
      "      2 New York\n",
      "      1 Chicago\n",
      "      1 Boston\n"
     ]
    }
   ],
   "source": [
    "echo \"Employee count by location (sorted):\"\n",
    "grep -v \"^$\" /tmp/employees.txt | cut -d',' -f4 | sort | uniq -c | sort -nr"
   ]
  },
  {
   "cell_type": "markdown",
   "id": "fd6b1680",
   "metadata": {},
   "source": [
    "### Log Analysis Example"
   ]
  },
  {
   "cell_type": "code",
   "execution_count": 19,
   "id": "0ece4bcb",
   "metadata": {
    "vscode": {
     "languageId": "shellscript"
    }
   },
   "outputs": [
    {
     "name": "stdout",
     "output_type": "stream",
     "text": [
      "Top IP addresses by request count:\n",
      "      2 192.168.1.101\n",
      "      2 192.168.1.100\n",
      "      1 192.168.1.102\n",
      "      2 192.168.1.101\n",
      "      2 192.168.1.100\n",
      "      1 192.168.1.102\n",
      "\n",
      "\n",
      "HTTP status code distribution:\n",
      "HTTP status code distribution:\n",
      "      5 \n",
      "      5 \n",
      "\n",
      "\n",
      "Most requested pages:\n",
      "Most requested pages:\n",
      "      3 200\n",
      "      1 404\n",
      "      1 401\n",
      "      3 200\n",
      "      1 404\n",
      "      1 401\n"
     ]
    }
   ],
   "source": [
    "# Create sample log\n",
    "cat << 'EOF' > /tmp/access.log\n",
    "192.168.1.100 - - [26/Oct/2023:14:32:10] \"GET /index.html\" 200 1024\n",
    "192.168.1.101 - - [26/Oct/2023:14:32:15] \"GET /about.html\" 200 2048\n",
    "192.168.1.100 - - [26/Oct/2023:14:32:20] \"POST /login\" 401 512\n",
    "192.168.1.102 - - [26/Oct/2023:14:32:25] \"GET /index.html\" 200 1024\n",
    "192.168.1.101 - - [26/Oct/2023:14:32:30] \"GET /products\" 404 256\n",
    "EOF\n",
    "\n",
    "echo \"Top IP addresses by request count:\"\n",
    "awk '{print $1}' /tmp/access.log | sort | uniq -c | sort -nr\n",
    "\n",
    "echo\n",
    "echo \"HTTP status code distribution:\"\n",
    "awk '{print $9}' /tmp/access.log | sort | uniq -c | sort -nr\n",
    "\n",
    "echo\n",
    "echo \"Most requested pages:\"\n",
    "awk '{print $7}' /tmp/access.log | sort | uniq -c | sort -nr"
   ]
  },
  {
   "cell_type": "markdown",
   "id": "36e16b5d",
   "metadata": {},
   "source": [
    "### Data Cleaning and Formatting"
   ]
  },
  {
   "cell_type": "code",
   "execution_count": 20,
   "id": "aff05319",
   "metadata": {
    "vscode": {
     "languageId": "shellscript"
    }
   },
   "outputs": [
    {
     "name": "stdout",
     "output_type": "stream",
     "text": [
      "Cleaned and formatted data:\n",
      "John  Doe            Sales              50000 New York       \n",
      "Jane Smith           Engineering        75000 San Francisco  \n",
      "Bob Johnson          Marketing          45000 Chicago        \n",
      "Alice Brown          Engineering        80000 San Francisco  \n",
      "John  Doe            Sales              50000 New York       \n",
      "Jane Smith           Engineering        75000 San Francisco  \n",
      "Bob Johnson          Marketing          45000 Chicago        \n",
      "Alice Brown          Engineering        80000 San Francisco  \n"
     ]
    }
   ],
   "source": [
    "# Create messy data\n",
    "cat << 'EOF' > /tmp/messy_data.txt\n",
    "John  Doe  ,Sales, 50000,  New York\n",
    "Jane Smith,Engineering,75000,San Francisco\n",
    "   Bob Johnson,Marketing,45000,Chicago\n",
    "\n",
    "Alice Brown,Engineering,80000,San Francisco\n",
    "EOF\n",
    "\n",
    "echo \"Cleaned and formatted data:\"\n",
    "sed '/^$/d' /tmp/messy_data.txt | \\\n",
    "sed 's/^[ \\t]*//;s/[ \\t]*$//' | \\\n",
    "sed 's/[ \\t]*,[ \\t]*/,/g' | \\\n",
    "awk -F',' '{printf \"%-20s %-15s %8s %-15s\\n\", $1, $2, $3, $4}'"
   ]
  },
  {
   "cell_type": "markdown",
   "id": "d9e5f9b0",
   "metadata": {},
   "source": [
    "## Practical Example: Generate Summary Report"
   ]
  },
  {
   "cell_type": "code",
   "execution_count": 21,
   "id": "73f30300",
   "metadata": {
    "vscode": {
     "languageId": "shellscript"
    }
   },
   "outputs": [
    {
     "name": "stdout",
     "output_type": "stream",
     "text": [
      "=== Employee Summary Report ===\n",
      "\n",
      "\n",
      "Department Summary\n",
      "==================\n",
      "\n",
      "Department: Marketing\n",
      "  Employees: 1\n",
      "  Total Salary: $45000\n",
      "  Average Salary: $45000\n",
      "  Highest Paid: Bob Johnson ($45000)\n",
      "\n",
      "Department: Engineering\n",
      "  Employees: 2\n",
      "  Total Salary: $155000\n",
      "  Average Salary: $77500\n",
      "  Highest Paid: Alice Brown ($80000)\n",
      "\n",
      "Department: Sales\n",
      "  Employees: 2\n",
      "  Total Salary: $102000\n",
      "  Average Salary: $51000\n",
      "  Highest Paid: Charlie Wilson ($52000)\n",
      "\n",
      "Department: HR\n",
      "  Employees: 1\n",
      "  Total Salary: $48000\n",
      "  Average Salary: $48000\n",
      "  Highest Paid: Diana Davis ($48000)\n",
      "Department Summary\n",
      "==================\n",
      "\n",
      "Department: Marketing\n",
      "  Employees: 1\n",
      "  Total Salary: $45000\n",
      "  Average Salary: $45000\n",
      "  Highest Paid: Bob Johnson ($45000)\n",
      "\n",
      "Department: Engineering\n",
      "  Employees: 2\n",
      "  Total Salary: $155000\n",
      "  Average Salary: $77500\n",
      "  Highest Paid: Alice Brown ($80000)\n",
      "\n",
      "Department: Sales\n",
      "  Employees: 2\n",
      "  Total Salary: $102000\n",
      "  Average Salary: $51000\n",
      "  Highest Paid: Charlie Wilson ($52000)\n",
      "\n",
      "Department: HR\n",
      "  Employees: 1\n",
      "  Total Salary: $48000\n",
      "  Average Salary: $48000\n",
      "  Highest Paid: Diana Davis ($48000)\n"
     ]
    }
   ],
   "source": [
    "echo \"=== Employee Summary Report ===\"\n",
    "echo\n",
    "\n",
    "awk -F',' '\n",
    "BEGIN {\n",
    "    print \"Department Summary\"\n",
    "    print \"==================\"\n",
    "}\n",
    "{\n",
    "    dept[$2]++\n",
    "    total_salary[$2] += $3\n",
    "    if ($3 > max_salary[$2]) {\n",
    "        max_salary[$2] = $3\n",
    "        highest_paid[$2] = $1\n",
    "    }\n",
    "}\n",
    "END {\n",
    "    for (d in dept) {\n",
    "        avg = total_salary[d] / dept[d]\n",
    "        printf \"\\nDepartment: %s\\n\", d\n",
    "        printf \"  Employees: %d\\n\", dept[d]\n",
    "        printf \"  Total Salary: $%d\\n\", total_salary[d]\n",
    "        printf \"  Average Salary: $%.0f\\n\", avg\n",
    "        printf \"  Highest Paid: %s ($%d)\\n\", highest_paid[d], max_salary[d]\n",
    "    }\n",
    "}' /tmp/employees.txt"
   ]
  },
  {
   "cell_type": "markdown",
   "id": "2e87f89a",
   "metadata": {},
   "source": [
    "## Exercise\n",
    "\n",
    "Create a script called `log_analyzer.sh` that processes web server log files and generates a comprehensive report. The script should:\n",
    "\n",
    "1. Extract the top 10 IP addresses by request count\n",
    "2. Identify the most popular pages (excluding .css, .js, .png)\n",
    "3. Generate an hourly request distribution\n",
    "4. Find error rates by status code\n",
    "5. Format the output as a readable report\n",
    "\n",
    "Use combinations of `grep`, `sed`, `awk`, and `sort` to achieve this analysis."
   ]
  },
  {
   "cell_type": "code",
   "execution_count": 22,
   "id": "fccfbc63",
   "metadata": {
    "vscode": {
     "languageId": "shellscript"
    }
   },
   "outputs": [
    {
     "name": "stdout",
     "output_type": "stream",
     "text": [
      "Sample log analysis:\n",
      "Top 3 IPs:\n",
      "Top 3 IPs:\n",
      "      2 192.168.1.101\n",
      "      2 192.168.1.100\n",
      "      1 192.168.1.102\n",
      "      2 192.168.1.101\n",
      "      2 192.168.1.100\n",
      "      1 192.168.1.102\n",
      "\n",
      "\n",
      "Status codes:\n",
      "Status codes:\n",
      "      5 \n",
      "      5 \n"
     ]
    }
   ],
   "source": [
    "# Your solution here\n",
    "# Hint: Start by examining the log structure\n",
    "echo \"Sample log analysis:\"\n",
    "echo \"Top 3 IPs:\"\n",
    "awk '{print $1}' /tmp/access.log | sort | uniq -c | sort -nr | head -3\n",
    "\n",
    "echo\n",
    "echo \"Status codes:\"\n",
    "awk '{print $9}' /tmp/access.log | sort | uniq -c"
   ]
  },
  {
   "cell_type": "markdown",
   "id": "8560a549",
   "metadata": {},
   "source": [
    "## Cleanup"
   ]
  },
  {
   "cell_type": "code",
   "execution_count": 23,
   "id": "665a7c48",
   "metadata": {
    "vscode": {
     "languageId": "shellscript"
    }
   },
   "outputs": [
    {
     "name": "stdout",
     "output_type": "stream",
     "text": [
      "Temporary files cleaned up\n"
     ]
    }
   ],
   "source": [
    "# Remove temporary files\n",
    "rm -f /tmp/employees.txt /tmp/access.log /tmp/messy_data.txt\n",
    "echo \"Temporary files cleaned up\""
   ]
  }
 ],
 "metadata": {
  "kernelspec": {
   "display_name": "Bash",
   "language": "bash",
   "name": "bash"
  },
  "language_info": {
   "codemirror_mode": "shell",
   "file_extension": ".sh",
   "mimetype": "text/x-sh",
   "name": "bash"
  }
 },
 "nbformat": 4,
 "nbformat_minor": 5
}
