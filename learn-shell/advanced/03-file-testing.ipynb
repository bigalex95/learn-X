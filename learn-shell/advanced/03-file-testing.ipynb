{
 "cells": [
  {
   "cell_type": "markdown",
   "id": "ab07b839",
   "metadata": {},
   "source": [
    "# File Testing\n",
    "\n",
    "---\n",
    "\n",
    "Often you will want to do some file tests on the file system you are running. In this case, shell will provide you with several useful commands to achieve it.\n",
    "\n",
    "The command looks like the following:\n",
    "\n",
    "- `-<command> [filename]`\n",
    "- `[filename1] -<command> [filename2]`\n",
    "\n",
    "We will briefly introduce some common commands you might encounter in your daily life."
   ]
  },
  {
   "cell_type": "markdown",
   "id": "4384a958",
   "metadata": {},
   "source": [
    "## Common File Test Operators\n",
    "\n",
    "- `-e` : Test if file exists\n",
    "- `-f` : Test if file is a regular file\n",
    "- `-d` : Test if directory exists\n",
    "- `-r` : Test if file has read permission\n",
    "- `-w` : Test if file has write permission\n",
    "- `-x` : Test if file has execute permission\n",
    "- `-s` : Test if file has size greater than 0\n",
    "- `-nt` : Test if file1 is newer than file2\n",
    "- `-ot` : Test if file1 is older than file2"
   ]
  },
  {
   "cell_type": "markdown",
   "id": "3993d103",
   "metadata": {},
   "source": [
    "## Example 1: Test if file exists"
   ]
  },
  {
   "cell_type": "code",
   "execution_count": 1,
   "id": "31fb4a71",
   "metadata": {
    "vscode": {
     "languageId": "shellscript"
    }
   },
   "outputs": [
    {
     "name": "stdout",
     "output_type": "stream",
     "text": [
      "/tmp/sample.md exists as a file\n"
     ]
    }
   ],
   "source": [
    "# Create a test file\n",
    "touch /tmp/sample.md\n",
    "\n",
    "filename=\"/tmp/sample.md\"\n",
    "if [ -e \"$filename\" ]; then\n",
    "    echo \"$filename exists as a file\"\n",
    "fi"
   ]
  },
  {
   "cell_type": "markdown",
   "id": "780a9009",
   "metadata": {},
   "source": [
    "## Example 2: Test if directory exists"
   ]
  },
  {
   "cell_type": "code",
   "execution_count": 2,
   "id": "00b91b9f",
   "metadata": {
    "vscode": {
     "languageId": "shellscript"
    }
   },
   "outputs": [
    {
     "name": "stdout",
     "output_type": "stream",
     "text": [
      "/tmp/test_directory exists as a directory\n"
     ]
    }
   ],
   "source": [
    "# Create a test directory\n",
    "mkdir -p /tmp/test_directory\n",
    "\n",
    "directory_name=\"/tmp/test_directory\"\n",
    "if [ -d \"$directory_name\" ]; then\n",
    "    echo \"$directory_name exists as a directory\"\n",
    "fi"
   ]
  },
  {
   "cell_type": "markdown",
   "id": "5c66b074",
   "metadata": {},
   "source": [
    "## Example 3: Test file permissions"
   ]
  },
  {
   "cell_type": "code",
   "execution_count": 3,
   "id": "ac35b96c",
   "metadata": {
    "vscode": {
     "languageId": "shellscript"
    }
   },
   "outputs": [
    {
     "name": "stdout",
     "output_type": "stream",
     "text": [
      "you are allowed to read /tmp/sample.md\n"
     ]
    }
   ],
   "source": [
    "filename=\"/tmp/sample.md\"\n",
    "if [ ! -f \"$filename\" ]; then\n",
    "    touch \"$filename\"\n",
    "fi\n",
    "if [ -r \"$filename\" ]; then\n",
    "    echo \"you are allowed to read $filename\"\n",
    "else\n",
    "    echo \"you are not allowed to read $filename\"\n",
    "fi"
   ]
  },
  {
   "cell_type": "markdown",
   "id": "377ddc3e",
   "metadata": {},
   "source": [
    "## Exercise 1: File Existence\n",
    "\n",
    "Check if files exist and what type they are:"
   ]
  },
  {
   "cell_type": "code",
   "execution_count": 4,
   "id": "f9db0972",
   "metadata": {
    "vscode": {
     "languageId": "shellscript"
    }
   },
   "outputs": [
    {
     "name": "stdout",
     "output_type": "stream",
     "text": [
      "/tmp/testfile.txt is a regular file\n",
      "/tmp/testdir is a directory\n",
      "/tmp/nonexistent does not exist\n",
      "/tmp/testdir is a directory\n",
      "/tmp/nonexistent does not exist\n"
     ]
    }
   ],
   "source": [
    "# Create test files and directories\n",
    "touch /tmp/testfile.txt\n",
    "mkdir -p /tmp/testdir\n",
    "\n",
    "for file in /tmp/testfile.txt /tmp/testdir /tmp/nonexistent; do\n",
    "    if [ -e \"$file\" ]; then\n",
    "        if [ -f \"$file\" ]; then\n",
    "            echo \"$file is a regular file\"\n",
    "        elif [ -d \"$file\" ]; then\n",
    "            echo \"$file is a directory\"\n",
    "        fi\n",
    "    else\n",
    "        echo \"$file does not exist\"\n",
    "    fi\n",
    "done"
   ]
  },
  {
   "cell_type": "markdown",
   "id": "99d4f52d",
   "metadata": {},
   "source": [
    "## Exercise 2: Permissions Check\n",
    "\n",
    "Test file permissions:"
   ]
  },
  {
   "cell_type": "code",
   "execution_count": 5,
   "id": "13d64865",
   "metadata": {
    "vscode": {
     "languageId": "shellscript"
    }
   },
   "outputs": [
    {
     "name": "stdout",
     "output_type": "stream",
     "text": [
      "Testing permissions for /tmp/testfile.txt:\n",
      "Readable\n",
      "Readable\n",
      "Writable\n",
      "Writable\n",
      "Not executable\n",
      "Not executable\n"
     ]
    }
   ],
   "source": [
    "file=\"/tmp/testfile.txt\"\n",
    "touch \"$file\"\n",
    "chmod 644 \"$file\"\n",
    "\n",
    "echo \"Testing permissions for $file:\"\n",
    "[ -r \"$file\" ] && echo \"Readable\" || echo \"Not readable\"\n",
    "[ -w \"$file\" ] && echo \"Writable\" || echo \"Not writable\"\n",
    "[ -x \"$file\" ] && echo \"Executable\" || echo \"Not executable\""
   ]
  },
  {
   "cell_type": "markdown",
   "id": "cdaa6007",
   "metadata": {},
   "source": [
    "## Exercise 3: File Size\n",
    "\n",
    "Check if files are empty or have content:"
   ]
  },
  {
   "cell_type": "code",
   "execution_count": 6,
   "id": "12a97313",
   "metadata": {
    "vscode": {
     "languageId": "shellscript"
    }
   },
   "outputs": [
    {
     "name": "stdout",
     "output_type": "stream",
     "text": [
      "/tmp/empty.txt is empty\n",
      "/tmp/nonempty.txt has content\n",
      "/tmp/nonempty.txt has content\n"
     ]
    }
   ],
   "source": [
    "# Create test files\n",
    "touch /tmp/empty.txt\n",
    "echo \"content\" > /tmp/nonempty.txt\n",
    "\n",
    "for file in /tmp/empty.txt /tmp/nonempty.txt; do\n",
    "    if [ -f \"$file\" ]; then\n",
    "        if [ -s \"$file\" ]; then\n",
    "            echo \"$file has content\"\n",
    "        else\n",
    "            echo \"$file is empty\"\n",
    "        fi\n",
    "    fi\n",
    "done"
   ]
  },
  {
   "cell_type": "markdown",
   "id": "0eb2b163",
   "metadata": {},
   "source": [
    "## Exercise 4: Backup Check\n",
    "\n",
    "Compare file modification times:"
   ]
  },
  {
   "cell_type": "code",
   "execution_count": 7,
   "id": "5ca4fa2f",
   "metadata": {
    "vscode": {
     "languageId": "shellscript"
    }
   },
   "outputs": [
    {
     "name": "stdout",
     "output_type": "stream",
     "text": [
      "Source is newer than backup\n"
     ]
    }
   ],
   "source": [
    "# Create source and backup files\n",
    "echo \"old\" > /tmp/backup.txt\n",
    "sleep 1\n",
    "echo \"new\" > /tmp/source.txt\n",
    "\n",
    "source=\"/tmp/source.txt\"\n",
    "backup=\"/tmp/backup.txt\"\n",
    "\n",
    "if [ \"$source\" -nt \"$backup\" ]; then\n",
    "    echo \"Source is newer than backup\"\n",
    "elif [ \"$source\" -ot \"$backup\" ]; then\n",
    "    echo \"Backup is newer than source\"\n",
    "else\n",
    "    echo \"Files have same modification time\"\n",
    "fi"
   ]
  },
  {
   "cell_type": "markdown",
   "id": "0af183fa",
   "metadata": {},
   "source": [
    "## Practical Example: File Validation Script"
   ]
  },
  {
   "cell_type": "code",
   "execution_count": 8,
   "id": "bce68c7f",
   "metadata": {
    "vscode": {
     "languageId": "shellscript"
    }
   },
   "outputs": [
    {
     "name": "stdout",
     "output_type": "stream",
     "text": [
      "Validating: /tmp/test1.txt\n",
      "  ✓ File exists\n",
      "  ✓ Regular file\n",
      "  ✓ Readable\n",
      "  ✓ Writable\n",
      "  ✗ Not executable\n",
      "  ⚠ File is empty\n",
      "\n",
      "Validating: /tmp/test2.txt\n",
      "  ✓ File exists\n",
      "  ✓ Regular file\n",
      "  ✓ Readable\n",
      "  ✓ Writable\n",
      "  ✗ Not executable\n",
      "  ✓ File has content\n",
      "\n",
      "Validating: /tmp/testdir\n",
      "  ✓ File exists\n",
      "  ✓ Directory\n",
      "  ✓ Readable\n",
      "  ✓ Writable\n",
      "  ✓ Executable\n",
      "\n",
      "Validating: /tmp/nonexistent\n",
      "  ✗ File does not exist\n",
      "  ✓ File exists\n",
      "  ✓ Regular file\n",
      "  ✓ Readable\n",
      "  ✓ Writable\n",
      "  ✗ Not executable\n",
      "  ⚠ File is empty\n",
      "\n",
      "Validating: /tmp/test2.txt\n",
      "  ✓ File exists\n",
      "  ✓ Regular file\n",
      "  ✓ Readable\n",
      "  ✓ Writable\n",
      "  ✗ Not executable\n",
      "  ✓ File has content\n",
      "\n",
      "Validating: /tmp/testdir\n",
      "  ✓ File exists\n",
      "  ✓ Directory\n",
      "  ✓ Readable\n",
      "  ✓ Writable\n",
      "  ✓ Executable\n",
      "\n",
      "Validating: /tmp/nonexistent\n",
      "  ✗ File does not exist\n"
     ]
    },
    {
     "ename": "",
     "evalue": "1",
     "output_type": "error",
     "traceback": []
    }
   ],
   "source": [
    "cat > /tmp/validate_file.sh << 'EOF'\n",
    "#!/bin/bash\n",
    "\n",
    "validate_file() {\n",
    "    local file=\"$1\"\n",
    "    \n",
    "    echo \"Validating: $file\"\n",
    "    \n",
    "    # Check existence\n",
    "    if [ ! -e \"$file\" ]; then\n",
    "        echo \"  ✗ File does not exist\"\n",
    "        return 1\n",
    "    fi\n",
    "    echo \"  ✓ File exists\"\n",
    "    \n",
    "    # Check type\n",
    "    if [ -f \"$file\" ]; then\n",
    "        echo \"  ✓ Regular file\"\n",
    "    elif [ -d \"$file\" ]; then\n",
    "        echo \"  ✓ Directory\"\n",
    "    elif [ -L \"$file\" ]; then\n",
    "        echo \"  ✓ Symbolic link\"\n",
    "    fi\n",
    "    \n",
    "    # Check permissions\n",
    "    [ -r \"$file\" ] && echo \"  ✓ Readable\" || echo \"  ✗ Not readable\"\n",
    "    [ -w \"$file\" ] && echo \"  ✓ Writable\" || echo \"  ✗ Not writable\"\n",
    "    [ -x \"$file\" ] && echo \"  ✓ Executable\" || echo \"  ✗ Not executable\"\n",
    "    \n",
    "    # Check size\n",
    "    if [ -f \"$file\" ]; then\n",
    "        if [ -s \"$file\" ]; then\n",
    "            echo \"  ✓ File has content\"\n",
    "        else\n",
    "            echo \"  ⚠ File is empty\"\n",
    "        fi\n",
    "    fi\n",
    "    \n",
    "    echo\n",
    "}\n",
    "\n",
    "# Test files\n",
    "touch /tmp/test1.txt\n",
    "echo \"data\" > /tmp/test2.txt\n",
    "mkdir -p /tmp/testdir\n",
    "\n",
    "validate_file \"/tmp/test1.txt\"\n",
    "validate_file \"/tmp/test2.txt\"\n",
    "validate_file \"/tmp/testdir\"\n",
    "validate_file \"/tmp/nonexistent\"\n",
    "EOF\n",
    "\n",
    "bash /tmp/validate_file.sh"
   ]
  }
 ],
 "metadata": {
  "kernelspec": {
   "display_name": "Bash",
   "language": "bash",
   "name": "bash"
  },
  "language_info": {
   "codemirror_mode": "shell",
   "file_extension": ".sh",
   "mimetype": "text/x-sh",
   "name": "bash"
  }
 },
 "nbformat": 4,
 "nbformat_minor": 5
}
