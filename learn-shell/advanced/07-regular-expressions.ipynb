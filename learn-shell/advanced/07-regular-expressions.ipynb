{
 "cells": [
  {
   "cell_type": "markdown",
   "id": "0f68cfd0",
   "metadata": {},
   "source": [
    "# Regular Expressions\n",
    "\n",
    "---\n",
    "\n",
    "Regular expressions (regex) are powerful pattern-matching tools used extensively in shell scripting for text processing, validation, and data extraction.\n",
    "\n",
    "This notebook covers:\n",
    "- Basic regex patterns\n",
    "- Character classes and quantifiers\n",
    "- Anchors and groups\n",
    "- Practical validation examples"
   ]
  },
  {
   "cell_type": "markdown",
   "id": "49aef536",
   "metadata": {},
   "source": [
    "## Basic Regular Expression Concepts\n",
    "\n",
    "### Literal Characters"
   ]
  },
  {
   "cell_type": "code",
   "execution_count": 1,
   "id": "d377d18c",
   "metadata": {
    "vscode": {
     "languageId": "shellscript"
    }
   },
   "outputs": [
    {
     "name": "stdout",
     "output_type": "stream",
     "text": [
      "Found 'Hello' in the text\n",
      "Did not find 'hello' (case-sensitive)\n"
     ]
    }
   ],
   "source": [
    "# Simple string matching\n",
    "text=\"Hello World\"\n",
    "\n",
    "if [[ $text =~ Hello ]]; then\n",
    "    echo \"Found 'Hello' in the text\"\n",
    "fi\n",
    "\n",
    "# Case-sensitive matching\n",
    "if [[ $text =~ hello ]]; then\n",
    "    echo \"Found 'hello'\"\n",
    "else\n",
    "    echo \"Did not find 'hello' (case-sensitive)\"\n",
    "fi"
   ]
  },
  {
   "cell_type": "markdown",
   "id": "1ac5b6aa",
   "metadata": {},
   "source": [
    "### Character Classes"
   ]
  },
  {
   "cell_type": "code",
   "execution_count": 2,
   "id": "2374437d",
   "metadata": {
    "vscode": {
     "languageId": "shellscript"
    }
   },
   "outputs": [
    {
     "name": "stdout",
     "output_type": "stream",
     "text": [
      "Contains digits\n",
      "Contains letters\n",
      "Contains vowels\n",
      "Contains non-digit characters\n"
     ]
    }
   ],
   "source": [
    "text=\"abc123XYZ\"\n",
    "\n",
    "# Match any digit\n",
    "if [[ $text =~ [0-9] ]]; then\n",
    "    echo \"Contains digits\"\n",
    "fi\n",
    "\n",
    "# Match any letter\n",
    "if [[ $text =~ [a-zA-Z] ]]; then\n",
    "    echo \"Contains letters\"\n",
    "fi\n",
    "\n",
    "# Match specific characters\n",
    "if [[ $text =~ [aeiou] ]]; then\n",
    "    echo \"Contains vowels\"\n",
    "fi\n",
    "\n",
    "# Negated character class\n",
    "if [[ $text =~ [^0-9] ]]; then\n",
    "    echo \"Contains non-digit characters\"\n",
    "fi"
   ]
  },
  {
   "cell_type": "markdown",
   "id": "0863c97e",
   "metadata": {},
   "source": [
    "### POSIX Character Classes"
   ]
  },
  {
   "cell_type": "code",
   "execution_count": 3,
   "id": "0862038d",
   "metadata": {
    "vscode": {
     "languageId": "shellscript"
    }
   },
   "outputs": [
    {
     "name": "stdout",
     "output_type": "stream",
     "text": [
      "Contains digits\n",
      "Contains letters\n",
      "Contains whitespace\n",
      "Contains punctuation\n"
     ]
    }
   ],
   "source": [
    "text=\"Hello123 World!\"\n",
    "\n",
    "# POSIX character classes\n",
    "if [[ $text =~ [[:digit:]] ]]; then\n",
    "    echo \"Contains digits\"\n",
    "fi\n",
    "\n",
    "if [[ $text =~ [[:alpha:]] ]]; then\n",
    "    echo \"Contains letters\"\n",
    "fi\n",
    "\n",
    "if [[ $text =~ [[:space:]] ]]; then\n",
    "    echo \"Contains whitespace\"\n",
    "fi\n",
    "\n",
    "if [[ $text =~ [[:punct:]] ]]; then\n",
    "    echo \"Contains punctuation\"\n",
    "fi"
   ]
  },
  {
   "cell_type": "markdown",
   "id": "03153be1",
   "metadata": {},
   "source": [
    "## Quantifiers\n",
    "\n",
    "### Zero or More (*), One or More (+), Zero or One (?)"
   ]
  },
  {
   "cell_type": "code",
   "execution_count": 4,
   "id": "26b2a1a2",
   "metadata": {
    "vscode": {
     "languageId": "shellscript"
    }
   },
   "outputs": [
    {
     "name": "stdout",
     "output_type": "stream",
     "text": [
      "'abc' matches pattern 'ab*c'\n",
      "'abbbbc' matches pattern 'ab*c'\n",
      "'ac' matches pattern 'ab*c'\n"
     ]
    }
   ],
   "source": [
    "# Zero or more (*)\n",
    "texts=(\"abc\" \"abbbbc\" \"ac\")\n",
    "pattern=\"ab*c\"\n",
    "\n",
    "for text in \"${texts[@]}\"; do\n",
    "    if [[ $text =~ $pattern ]]; then\n",
    "        echo \"'$text' matches pattern '$pattern'\"\n",
    "    fi\n",
    "done"
   ]
  },
  {
   "cell_type": "code",
   "execution_count": 5,
   "id": "0bd73d17",
   "metadata": {
    "vscode": {
     "languageId": "shellscript"
    }
   },
   "outputs": [
    {
     "name": "stdout",
     "output_type": "stream",
     "text": [
      "'color' matches exactly\n",
      "'colour' matches exactly\n",
      "'colors' contains the pattern\n",
      "'colours' contains the pattern\n"
     ]
    }
   ],
   "source": [
    "# Optional character (?)\n",
    "texts=(\"color\" \"colour\" \"colors\" \"colours\")\n",
    "pattern=\"colou?r\"\n",
    "\n",
    "for text in \"${texts[@]}\"; do\n",
    "    if [[ $text =~ ^$pattern$ ]]; then\n",
    "        echo \"'$text' matches exactly\"\n",
    "    elif [[ $text =~ $pattern ]]; then\n",
    "        echo \"'$text' contains the pattern\"\n",
    "    fi\n",
    "done"
   ]
  },
  {
   "cell_type": "markdown",
   "id": "282956d6",
   "metadata": {},
   "source": [
    "### Specific Quantities {n}, {n,m}, {n,}"
   ]
  },
  {
   "cell_type": "code",
   "execution_count": 6,
   "id": "bdaf8786",
   "metadata": {
    "vscode": {
     "languageId": "shellscript"
    }
   },
   "outputs": [
    {
     "name": "stdout",
     "output_type": "stream",
     "text": [
      "Valid phone: 123-456-7890\n",
      "Invalid phone: 12-34-567\n",
      "Invalid phone: 1234567890\n",
      "Invalid phone: 123-45-67890\n"
     ]
    }
   ],
   "source": [
    "# Phone number validation\n",
    "phone_numbers=(\"123-456-7890\" \"12-34-567\" \"1234567890\" \"123-45-67890\")\n",
    "phone_pattern=\"[0-9]{3}-[0-9]{3}-[0-9]{4}\"\n",
    "\n",
    "for phone in \"${phone_numbers[@]}\"; do\n",
    "    if [[ $phone =~ ^$phone_pattern$ ]]; then\n",
    "        echo \"Valid phone: $phone\"\n",
    "    else\n",
    "        echo \"Invalid phone: $phone\"\n",
    "    fi\n",
    "done"
   ]
  },
  {
   "cell_type": "markdown",
   "id": "ce57116b",
   "metadata": {},
   "source": [
    "## Anchors and Boundaries\n",
    "\n",
    "### Start (^) and End ($) Anchors"
   ]
  },
  {
   "cell_type": "code",
   "execution_count": 7,
   "id": "f963e858",
   "metadata": {
    "vscode": {
     "languageId": "shellscript"
    }
   },
   "outputs": [
    {
     "name": "stdout",
     "output_type": "stream",
     "text": [
      "Starts with 'The'\n",
      "Ends with 'fox'\n",
      "Starts with 'The' and ends with 'fox'\n"
     ]
    }
   ],
   "source": [
    "text=\"The quick brown fox\"\n",
    "\n",
    "# Start of string (^)\n",
    "if [[ $text =~ ^The ]]; then\n",
    "    echo \"Starts with 'The'\"\n",
    "fi\n",
    "\n",
    "# End of string ($)\n",
    "if [[ $text =~ fox$ ]]; then\n",
    "    echo \"Ends with 'fox'\"\n",
    "fi\n",
    "\n",
    "# Exact match\n",
    "if [[ $text =~ ^The.*fox$ ]]; then\n",
    "    echo \"Starts with 'The' and ends with 'fox'\"\n",
    "fi"
   ]
  },
  {
   "cell_type": "markdown",
   "id": "daa6bce5",
   "metadata": {},
   "source": [
    "## Groups and Capturing\n",
    "\n",
    "### Basic Grouping with BASH_REMATCH"
   ]
  },
  {
   "cell_type": "code",
   "execution_count": 8,
   "id": "ca336e4e",
   "metadata": {
    "vscode": {
     "languageId": "shellscript"
    }
   },
   "outputs": [
    {
     "name": "stdout",
     "output_type": "stream",
     "text": [
      "ISO date: 2023-12-25\n",
      "  Year: 2023\n",
      "  Month: 12\n",
      "  Day: 25\n"
     ]
    }
   ],
   "source": [
    "# Extract date components\n",
    "dates=(\"2023-12-25\" \"12/25/2023\" \"2023/12/25\")\n",
    "\n",
    "# ISO date format\n",
    "iso_pattern=\"([0-9]{4})-([0-9]{2})-([0-9]{2})\"\n",
    "\n",
    "for date in \"${dates[@]}\"; do\n",
    "    if [[ $date =~ $iso_pattern ]]; then\n",
    "        echo \"ISO date: $date\"\n",
    "        echo \"  Year: ${BASH_REMATCH[1]}\"\n",
    "        echo \"  Month: ${BASH_REMATCH[2]}\"\n",
    "        echo \"  Day: ${BASH_REMATCH[3]}\"\n",
    "    fi\n",
    "done"
   ]
  },
  {
   "cell_type": "markdown",
   "id": "1305aaaa",
   "metadata": {},
   "source": [
    "### Extracting Data from Log Entries"
   ]
  },
  {
   "cell_type": "code",
   "execution_count": 9,
   "id": "381991c6",
   "metadata": {
    "vscode": {
     "languageId": "shellscript"
    }
   },
   "outputs": [
    {
     "name": "stdout",
     "output_type": "stream",
     "text": [
      "Log entry parsed:\n",
      "  Date: 2023-10-26\n",
      "  Time: 14:30:22\n",
      "  Level: ERROR\n",
      "  Message: Failed to connect to database\n",
      "\n",
      "Log entry parsed:\n",
      "  Date: 2023-10-26\n",
      "  Time: 14:31:15\n",
      "  Level: INFO\n",
      "  Message: User login successful\n",
      "\n",
      "Log entry parsed:\n",
      "  Date: 2023-10-26\n",
      "  Time: 14:32:01\n",
      "  Level: WARN\n",
      "  Message: Memory usage high\n",
      "\n"
     ]
    }
   ],
   "source": [
    "# Parse log entries\n",
    "log_entries=(\n",
    "    \"2023-10-26 14:30:22 ERROR Failed to connect to database\"\n",
    "    \"2023-10-26 14:31:15 INFO User login successful\"\n",
    "    \"2023-10-26 14:32:01 WARN Memory usage high\"\n",
    ")\n",
    "\n",
    "log_pattern=\"([0-9-]+) ([0-9:]+) ([A-Z]+) (.*)\"\n",
    "\n",
    "for entry in \"${log_entries[@]}\"; do\n",
    "    if [[ $entry =~ $log_pattern ]]; then\n",
    "        echo \"Log entry parsed:\"\n",
    "        echo \"  Date: ${BASH_REMATCH[1]}\"\n",
    "        echo \"  Time: ${BASH_REMATCH[2]}\"\n",
    "        echo \"  Level: ${BASH_REMATCH[3]}\"\n",
    "        echo \"  Message: ${BASH_REMATCH[4]}\"\n",
    "        echo\n",
    "    fi\n",
    "done"
   ]
  },
  {
   "cell_type": "markdown",
   "id": "a890e855",
   "metadata": {},
   "source": [
    "## Practical Examples\n",
    "\n",
    "### Email Validation"
   ]
  },
  {
   "cell_type": "code",
   "execution_count": 10,
   "id": "01aff37c",
   "metadata": {
    "vscode": {
     "languageId": "shellscript"
    }
   },
   "outputs": [
    {
     "name": "stdout",
     "output_type": "stream",
     "text": [
      "✓ Valid: user@example.com\n",
      "✗ Invalid: invalid.email\n",
      "✗ Invalid: test@domain\n",
      "✓ Valid: valid.user+tag@example.org\n"
     ]
    }
   ],
   "source": [
    "validate_email() {\n",
    "    local email=$1\n",
    "    local pattern=\"^[a-zA-Z0-9._%+-]+@[a-zA-Z0-9.-]+\\.[a-zA-Z]{2,}$\"\n",
    "    \n",
    "    if [[ $email =~ $pattern ]]; then\n",
    "        return 0\n",
    "    else\n",
    "        return 1\n",
    "    fi\n",
    "}\n",
    "\n",
    "emails=(\"user@example.com\" \"invalid.email\" \"test@domain\" \"valid.user+tag@example.org\")\n",
    "\n",
    "for email in \"${emails[@]}\"; do\n",
    "    if validate_email \"$email\"; then\n",
    "        echo \"✓ Valid: $email\"\n",
    "    else\n",
    "        echo \"✗ Invalid: $email\"\n",
    "    fi\n",
    "done"
   ]
  },
  {
   "cell_type": "markdown",
   "id": "bd17e39f",
   "metadata": {},
   "source": [
    "### URL Parsing"
   ]
  },
  {
   "cell_type": "code",
   "execution_count": 11,
   "id": "535399d5",
   "metadata": {
    "vscode": {
     "languageId": "shellscript"
    }
   },
   "outputs": [
    {
     "name": "stdout",
     "output_type": "stream",
     "text": [
      "URL: https://www.example.com/path/to/resource\n",
      "  Protocol: https\n",
      "  Host: www.example.com\n",
      "  Path: /path/to/resource\n",
      "\n",
      "URL: http://localhost:8080/\n",
      "  Protocol: http\n",
      "  Host: localhost:8080\n",
      "  Path: /\n",
      "\n"
     ]
    }
   ],
   "source": [
    "parse_url() {\n",
    "    local url=$1\n",
    "    local pattern=\"^(https?)://([^/]+)(/.*)?\"\n",
    "    \n",
    "    if [[ $url =~ $pattern ]]; then\n",
    "        echo \"URL: $url\"\n",
    "        echo \"  Protocol: ${BASH_REMATCH[1]}\"\n",
    "        echo \"  Host: ${BASH_REMATCH[2]}\"\n",
    "        echo \"  Path: ${BASH_REMATCH[3]:-/}\"\n",
    "    else\n",
    "        echo \"Invalid URL: $url\"\n",
    "    fi\n",
    "}\n",
    "\n",
    "urls=(\n",
    "    \"https://www.example.com/path/to/resource\"\n",
    "    \"http://localhost:8080/\"\n",
    ")\n",
    "\n",
    "for url in \"${urls[@]}\"; do\n",
    "    parse_url \"$url\"\n",
    "    echo\n",
    "done"
   ]
  },
  {
   "cell_type": "markdown",
   "id": "6fe9156e",
   "metadata": {},
   "source": [
    "### Phone Number Formatting"
   ]
  },
  {
   "cell_type": "code",
   "execution_count": 12,
   "id": "3df1c987",
   "metadata": {
    "vscode": {
     "languageId": "shellscript"
    }
   },
   "outputs": [
    {
     "name": "stdout",
     "output_type": "stream",
     "text": [
      "1234567890 -> (123) 456-7890\n",
      "123-456-7890 -> (123) 456-7890\n",
      "(123) 456-7890 -> (123) 456-7890\n",
      "1-123-456-7890 -> (123) 456-7890\n",
      "12345 -> Invalid phone number: 12345\n"
     ]
    }
   ],
   "source": [
    "format_phone() {\n",
    "    local phone=$1\n",
    "    # Remove all non-digits\n",
    "    local digits_only=$(echo \"$phone\" | sed 's/[^0-9]//g')\n",
    "    \n",
    "    # Check if it's a valid US phone number\n",
    "    if [[ $digits_only =~ ^1?([0-9]{3})([0-9]{3})([0-9]{4})$ ]]; then\n",
    "        local area_code=${BASH_REMATCH[1]}\n",
    "        local exchange=${BASH_REMATCH[2]}\n",
    "        local number=${BASH_REMATCH[3]}\n",
    "        \n",
    "        echo \"($area_code) $exchange-$number\"\n",
    "    else\n",
    "        echo \"Invalid phone number: $phone\"\n",
    "    fi\n",
    "}\n",
    "\n",
    "phones=(\n",
    "    \"1234567890\"\n",
    "    \"123-456-7890\"\n",
    "    \"(123) 456-7890\"\n",
    "    \"1-123-456-7890\"\n",
    "    \"12345\"\n",
    ")\n",
    "\n",
    "for phone in \"${phones[@]}\"; do\n",
    "    formatted=$(format_phone \"$phone\")\n",
    "    echo \"$phone -> $formatted\"\n",
    "done"
   ]
  },
  {
   "cell_type": "markdown",
   "id": "07b516e0",
   "metadata": {},
   "source": [
    "## Using grep with Regular Expressions"
   ]
  },
  {
   "cell_type": "code",
   "execution_count": 13,
   "id": "28057457",
   "metadata": {
    "vscode": {
     "languageId": "shellscript"
    }
   },
   "outputs": [
    {
     "name": "stdout",
     "output_type": "stream",
     "text": [
      "All email addresses:\n",
      "\u001b[01;31m\u001b[Kjohn@example.com\u001b[m\u001b[K\n",
      "\u001b[01;31m\u001b[Kjane.smith@company.org\u001b[m\u001b[K\n",
      "\u001b[01;31m\u001b[Kalice.brown@university.edu\u001b[m\u001b[K\n",
      "\n",
      "Phone numbers:\n",
      "\u001b[01;31m\u001b[K555-123-4567\u001b[m\u001b[K\n",
      "\u001b[01;31m\u001b[K555-987-6543\u001b[m\u001b[K\n",
      "\u001b[01;31m\u001b[K555-111-2222\u001b[m\u001b[K\n",
      "\n",
      "Lines with .com domains:\n",
      "John Doe, john@example\u001b[01;31m\u001b[K.com\u001b[m\u001b[K, 555-123-4567\n"
     ]
    }
   ],
   "source": [
    "# Create sample data\n",
    "cat << 'EOF' > /tmp/sample.txt\n",
    "John Doe, john@example.com, 555-123-4567\n",
    "Jane Smith, jane.smith@company.org, 555-987-6543\n",
    "Bob Johnson, bob@invalid, 123-456\n",
    "Alice Brown, alice.brown@university.edu, 555-111-2222\n",
    "EOF\n",
    "\n",
    "echo \"All email addresses:\"\n",
    "grep -oE '[a-zA-Z0-9._%+-]+@[a-zA-Z0-9.-]+\\.[a-zA-Z]{2,}' /tmp/sample.txt\n",
    "\n",
    "echo\n",
    "echo \"Phone numbers:\"\n",
    "grep -oE '[0-9]{3}-[0-9]{3}-[0-9]{4}' /tmp/sample.txt\n",
    "\n",
    "echo\n",
    "echo \"Lines with .com domains:\"\n",
    "grep '\\.com' /tmp/sample.txt\n",
    "\n",
    "# Clean up\n",
    "rm /tmp/sample.txt"
   ]
  },
  {
   "cell_type": "markdown",
   "id": "75b9be77",
   "metadata": {},
   "source": [
    "## Exercise\n",
    "\n",
    "Create validation functions for the following data formats:\n",
    "\n",
    "1. **Email addresses** - Extract valid email addresses from text\n",
    "2. **Phone numbers** - Format US phone numbers consistently  \n",
    "3. **URLs** - Parse and validate URLs\n",
    "4. **Credit card numbers** - Validate format (16 digits, groups of 4)"
   ]
  },
  {
   "cell_type": "code",
   "execution_count": 14,
   "id": "00e4e323",
   "metadata": {
    "vscode": {
     "languageId": "shellscript"
    }
   },
   "outputs": [
    {
     "name": "stdout",
     "output_type": "stream",
     "text": [
      "Extracting emails:\n",
      "\u001b[01;31m\u001b[Kjohn.doe@example.com\u001b[m\u001b[K\n",
      "\n",
      "Extracting credit card numbers:\n",
      "\u001b[01;31m\u001b[K4532-1234-5678-9012\u001b[m\u001b[K\n"
     ]
    }
   ],
   "source": [
    "# Test data\n",
    "cat > /tmp/test_data.txt << 'EOF'\n",
    "Contact: john.doe@example.com, phone: (555) 123-4567\n",
    "Website: https://www.example.com/path?query=value\n",
    "Payment: 4532-1234-5678-9012\n",
    "Invalid email: notanemail.com\n",
    "Invalid phone: 12345\n",
    "EOF\n",
    "\n",
    "echo \"Extracting emails:\"\n",
    "grep -oE '[a-zA-Z0-9._%+-]+@[a-zA-Z0-9.-]+\\.[a-zA-Z]{2,}' /tmp/test_data.txt\n",
    "\n",
    "echo\n",
    "echo \"Extracting credit card numbers:\"\n",
    "grep -oE '[0-9]{4}-[0-9]{4}-[0-9]{4}-[0-9]{4}' /tmp/test_data.txt\n",
    "\n",
    "rm /tmp/test_data.txt"
   ]
  }
 ],
 "metadata": {
  "kernelspec": {
   "display_name": "Bash",
   "language": "bash",
   "name": "bash"
  },
  "language_info": {
   "codemirror_mode": "shell",
   "file_extension": ".sh",
   "mimetype": "text/x-sh",
   "name": "bash"
  }
 },
 "nbformat": 4,
 "nbformat_minor": 5
}
