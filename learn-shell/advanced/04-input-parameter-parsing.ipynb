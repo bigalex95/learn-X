{
 "cells": [
  {
   "cell_type": "markdown",
   "id": "54c484a7",
   "metadata": {},
   "source": [
    "# Input Parameter Parsing\n",
    "\n",
    "---\n",
    "\n",
    "This tutorial covers various methods for parsing command-line arguments and handling user input in shell scripts, from basic parameter handling to advanced option parsing with validation.\n",
    "\n",
    "Topics covered:\n",
    "- Positional parameters\n",
    "- getopts for option parsing\n",
    "- Interactive input\n",
    "- Input validation"
   ]
  },
  {
   "cell_type": "markdown",
   "id": "7f6d6e28",
   "metadata": {},
   "source": [
    "## Basic Parameter Handling\n",
    "\n",
    "### Positional Parameters"
   ]
  },
  {
   "cell_type": "code",
   "execution_count": 1,
   "id": "5f816f93",
   "metadata": {
    "vscode": {
     "languageId": "shellscript"
    }
   },
   "outputs": [
    {
     "name": "stdout",
     "output_type": "stream",
     "text": [
      "Script name: /tmp/demo_params.sh\n",
      "First parameter: hello\n",
      "Second parameter: world\n",
      "Third parameter: 123\n",
      "Number of parameters: 3\n",
      "All parameters: hello world 123\n",
      "All parameters as single string: hello world 123\n",
      "Last parameter: 123\n",
      "First parameter: hello\n",
      "Second parameter: world\n",
      "Third parameter: 123\n",
      "Number of parameters: 3\n",
      "All parameters: hello world 123\n",
      "All parameters as single string: hello world 123\n",
      "Last parameter: 123\n"
     ]
    }
   ],
   "source": [
    "cat > /tmp/demo_params.sh << 'EOF'\n",
    "#!/bin/bash\n",
    "echo \"Script name: $0\"\n",
    "echo \"First parameter: $1\"\n",
    "echo \"Second parameter: $2\"\n",
    "echo \"Third parameter: $3\"\n",
    "echo \"Number of parameters: $#\"\n",
    "echo \"All parameters: $@\"\n",
    "echo \"All parameters as single string: $*\"\n",
    "echo \"Last parameter: ${!#}\"\n",
    "EOF\n",
    "\n",
    "bash /tmp/demo_params.sh hello world 123"
   ]
  },
  {
   "cell_type": "markdown",
   "id": "341c7525",
   "metadata": {},
   "source": [
    "### Parameter Validation"
   ]
  },
  {
   "cell_type": "code",
   "execution_count": 2,
   "id": "44bb7102",
   "metadata": {
    "vscode": {
     "languageId": "shellscript"
    }
   },
   "outputs": [
    {
     "name": "stdout",
     "output_type": "stream",
     "text": [
      "Name: John Doe\n",
      "Age: 30\n",
      "Email: john@example.com\n",
      "Age: 30\n",
      "Email: john@example.com\n"
     ]
    }
   ],
   "source": [
    "cat > /tmp/validate_params.sh << 'EOF'\n",
    "#!/bin/bash\n",
    "# Check if minimum number of parameters provided\n",
    "if [ $# -lt 2 ]; then\n",
    "    echo \"Error: Insufficient parameters\"\n",
    "    echo \"Usage: $0 <name> <age> [email]\"\n",
    "    exit 1\n",
    "fi\n",
    "\n",
    "name=\"$1\"\n",
    "age=\"$2\"\n",
    "email=\"${3:-not-provided}\"\n",
    "\n",
    "# Validate age is numeric\n",
    "if ! [[ \"$age\" =~ ^[0-9]+$ ]]; then\n",
    "    echo \"Error: Age must be a number\"\n",
    "    exit 1\n",
    "fi\n",
    "\n",
    "# Validate age range\n",
    "if [ \"$age\" -lt 0 ] || [ \"$age\" -gt 150 ]; then\n",
    "    echo \"Error: Age must be between 0 and 150\"\n",
    "    exit 1\n",
    "fi\n",
    "\n",
    "echo \"Name: $name\"\n",
    "echo \"Age: $age\"\n",
    "echo \"Email: $email\"\n",
    "EOF\n",
    "\n",
    "bash /tmp/validate_params.sh \"John Doe\" 30 john@example.com"
   ]
  },
  {
   "cell_type": "markdown",
   "id": "4f86b4ce",
   "metadata": {},
   "source": [
    "### Shifting Parameters"
   ]
  },
  {
   "cell_type": "code",
   "execution_count": 3,
   "id": "766fbc8c",
   "metadata": {
    "vscode": {
     "languageId": "shellscript"
    }
   },
   "outputs": [
    {
     "name": "stdout",
     "output_type": "stream",
     "text": [
      "Processing all parameters:\n",
      "Processing: arg1\n",
      "Processing: arg2\n",
      "Processing: arg3\n",
      "All parameters processed\n",
      "Processing: arg1\n",
      "Processing: arg2\n",
      "Processing: arg3\n",
      "All parameters processed\n"
     ]
    }
   ],
   "source": [
    "cat > /tmp/shift_demo.sh << 'EOF'\n",
    "#!/bin/bash\n",
    "echo \"Processing all parameters:\"\n",
    "while [ $# -gt 0 ]; do\n",
    "    echo \"Processing: $1\"\n",
    "    shift  # Move to next parameter\n",
    "done\n",
    "echo \"All parameters processed\"\n",
    "EOF\n",
    "\n",
    "bash /tmp/shift_demo.sh arg1 arg2 arg3"
   ]
  },
  {
   "cell_type": "markdown",
   "id": "f226ccb2",
   "metadata": {},
   "source": [
    "## getopts - Standard Option Parsing\n",
    "\n",
    "### Basic getopts Usage"
   ]
  },
  {
   "cell_type": "code",
   "execution_count": 4,
   "id": "8f24f5b0",
   "metadata": {
    "vscode": {
     "languageId": "shellscript"
    }
   },
   "outputs": [
    {
     "name": "stdout",
     "output_type": "stream",
     "text": [
      "Example 1: Verbose mode\n",
      "Verbose mode enabled\n",
      "Output file: result.txt\n",
      "Remaining arguments: file1.txt file2.txt\n",
      "Verbose mode enabled\n",
      "Output file: result.txt\n",
      "Remaining arguments: file1.txt file2.txt\n",
      "\n",
      "\n",
      "Example 2: Help\n",
      "Example 2: Help\n",
      "Usage: /tmp/getopts_basic.sh [-v] [-o output_file] [-h] [files...]\n",
      "  -v: Verbose mode\n",
      "  -o: Output file\n",
      "  -h: Show this help\n",
      "Usage: /tmp/getopts_basic.sh [-v] [-o output_file] [-h] [files...]\n",
      "  -v: Verbose mode\n",
      "  -o: Output file\n",
      "  -h: Show this help\n"
     ]
    }
   ],
   "source": [
    "cat > /tmp/getopts_basic.sh << 'EOF'\n",
    "#!/bin/bash\n",
    "# Initialize variables\n",
    "verbose=false\n",
    "output=\"\"\n",
    "help=false\n",
    "\n",
    "# Parse options\n",
    "while getopts \"vo:h\" opt; do\n",
    "    case $opt in\n",
    "        v)\n",
    "            verbose=true\n",
    "            ;;\n",
    "        o)\n",
    "            output=\"$OPTARG\"\n",
    "            ;;\n",
    "        h)\n",
    "            help=true\n",
    "            ;;\n",
    "        \\?)\n",
    "            echo \"Invalid option: -$OPTARG\" >&2\n",
    "            exit 1\n",
    "            ;;\n",
    "        :)\n",
    "            echo \"Option -$OPTARG requires an argument\" >&2\n",
    "            exit 1\n",
    "            ;;\n",
    "    esac\n",
    "done\n",
    "\n",
    "# Shift processed options\n",
    "shift $((OPTIND-1))\n",
    "\n",
    "# Show help if requested\n",
    "if [ \"$help\" = true ]; then\n",
    "    echo \"Usage: $0 [-v] [-o output_file] [-h] [files...]\"\n",
    "    echo \"  -v: Verbose mode\"\n",
    "    echo \"  -o: Output file\"\n",
    "    echo \"  -h: Show this help\"\n",
    "    exit 0\n",
    "fi\n",
    "\n",
    "# Process remaining arguments\n",
    "if [ \"$verbose\" = true ]; then\n",
    "    echo \"Verbose mode enabled\"\n",
    "    [ -n \"$output\" ] && echo \"Output file: $output\"\n",
    "    echo \"Remaining arguments: $@\"\n",
    "fi\n",
    "EOF\n",
    "\n",
    "echo \"Example 1: Verbose mode\"\n",
    "bash /tmp/getopts_basic.sh -v -o result.txt file1.txt file2.txt\n",
    "\n",
    "echo\n",
    "echo \"Example 2: Help\"\n",
    "bash /tmp/getopts_basic.sh -h"
   ]
  },
  {
   "cell_type": "markdown",
   "id": "4a4e6ef1",
   "metadata": {},
   "source": [
    "### Advanced getopts with Validation"
   ]
  },
  {
   "cell_type": "code",
   "execution_count": 5,
   "id": "02726055",
   "metadata": {
    "vscode": {
     "languageId": "shellscript"
    }
   },
   "outputs": [
    {
     "name": "stdout",
     "output_type": "stream",
     "text": [
      "Mode: copy\n",
      "Destination: /tmp/backup\n",
      "Verbose: true\n",
      "Destination: /tmp/backup\n",
      "Verbose: true\n"
     ]
    }
   ],
   "source": [
    "cat > /tmp/file_processor.sh << 'EOF'\n",
    "#!/bin/bash\n",
    "# Default values\n",
    "mode=\"copy\"\n",
    "destination=\"\"\n",
    "verbose=false\n",
    "\n",
    "usage() {\n",
    "    cat << USAGE\n",
    "Usage: $0 [OPTIONS]\n",
    "\n",
    "File processing utility\n",
    "\n",
    "OPTIONS:\n",
    "    -m MODE     Processing mode: copy, move, link (default: copy)\n",
    "    -d DEST     Destination directory\n",
    "    -v          Verbose output\n",
    "    -h          Show this help\n",
    "USAGE\n",
    "}\n",
    "\n",
    "# Parse options\n",
    "while getopts \"m:d:vh\" opt; do\n",
    "    case $opt in\n",
    "        m)\n",
    "            mode=\"$OPTARG\"\n",
    "            # Validate mode\n",
    "            if [[ ! \"$mode\" =~ ^(copy|move|link)$ ]]; then\n",
    "                echo \"Error: Invalid mode '$mode'. Must be copy, move, or link.\" >&2\n",
    "                exit 1\n",
    "            fi\n",
    "            ;;\n",
    "        d)\n",
    "            destination=\"$OPTARG\"\n",
    "            ;;\n",
    "        v)\n",
    "            verbose=true\n",
    "            ;;\n",
    "        h)\n",
    "            usage\n",
    "            exit 0\n",
    "            ;;\n",
    "    esac\n",
    "done\n",
    "\n",
    "shift $((OPTIND-1))\n",
    "\n",
    "# Validation\n",
    "if [ -z \"$destination\" ]; then\n",
    "    echo \"Error: Destination directory required (-d option)\" >&2\n",
    "    exit 1\n",
    "fi\n",
    "\n",
    "# Display configuration\n",
    "echo \"Mode: $mode\"\n",
    "echo \"Destination: $destination\"\n",
    "echo \"Verbose: $verbose\"\n",
    "EOF\n",
    "\n",
    "bash /tmp/file_processor.sh -m copy -d /tmp/backup -v"
   ]
  },
  {
   "cell_type": "markdown",
   "id": "3d151e4b",
   "metadata": {},
   "source": [
    "## Interactive Input\n",
    "\n",
    "### Basic User Input"
   ]
  },
  {
   "cell_type": "code",
   "execution_count": 6,
   "id": "02c0ab43",
   "metadata": {
    "vscode": {
     "languageId": "shellscript"
    }
   },
   "outputs": [
    {
     "name": "stdout",
     "output_type": "stream",
     "text": [
      "Name (simulated): TestUser\n",
      "Country (default): USA\n",
      "Read with timeout would wait 5 seconds...\n",
      "(Skipped in notebook environment)\n",
      "Country (default): USA\n",
      "Read with timeout would wait 5 seconds...\n",
      "(Skipped in notebook environment)\n"
     ]
    }
   ],
   "source": [
    "cat > /tmp/interactive_input.sh << 'EOF'\n",
    "#!/bin/bash\n",
    "# Simple input (simulated for notebook)\n",
    "name=\"TestUser\"\n",
    "echo \"Name (simulated): $name\"\n",
    "\n",
    "# Input with default value\n",
    "country=\"USA\"\n",
    "echo \"Country (default): $country\"\n",
    "\n",
    "# Demonstrate timeout concept\n",
    "echo \"Read with timeout would wait 5 seconds...\"\n",
    "echo \"(Skipped in notebook environment)\"\n",
    "EOF\n",
    "\n",
    "bash /tmp/interactive_input.sh"
   ]
  },
  {
   "cell_type": "markdown",
   "id": "53aac0aa",
   "metadata": {},
   "source": [
    "### Input Validation Functions"
   ]
  },
  {
   "cell_type": "code",
   "execution_count": 7,
   "id": "b1daf263",
   "metadata": {
    "vscode": {
     "languageId": "shellscript"
    }
   },
   "outputs": [
    {
     "name": "stdout",
     "output_type": "stream",
     "text": [
      "✓ Valid email: user@example.com\n",
      "✗ Invalid email: invalid.email\n",
      "✓ Valid email: test@domain.co.uk\n",
      "\n",
      "✓ Valid phone: 555-123-4567\n",
      "✗ Invalid phone: 12345\n",
      "✓ Valid phone: (555) 123-4567\n",
      "✗ Invalid email: invalid.email\n",
      "✓ Valid email: test@domain.co.uk\n",
      "\n",
      "✓ Valid phone: 555-123-4567\n",
      "✗ Invalid phone: 12345\n",
      "✓ Valid phone: (555) 123-4567\n"
     ]
    }
   ],
   "source": [
    "cat > /tmp/input_validation.sh << 'EOF'\n",
    "#!/bin/bash\n",
    "\n",
    "# Validate email address\n",
    "validate_email() {\n",
    "    local email=\"$1\"\n",
    "    local email_regex=\"^[a-zA-Z0-9._%+-]+@[a-zA-Z0-9.-]+\\.[a-zA-Z]{2,}$\"\n",
    "    \n",
    "    if [[ \"$email\" =~ $email_regex ]]; then\n",
    "        return 0\n",
    "    else\n",
    "        return 1\n",
    "    fi\n",
    "}\n",
    "\n",
    "# Validate phone number\n",
    "validate_phone() {\n",
    "    local phone=\"$1\"\n",
    "    # Remove all non-digits\n",
    "    local digits_only=\"${phone//[^0-9]/}\"\n",
    "    \n",
    "    # Check if it has 10 digits\n",
    "    if [ ${#digits_only} -eq 10 ]; then\n",
    "        return 0\n",
    "    else\n",
    "        return 1\n",
    "    fi\n",
    "}\n",
    "\n",
    "# Test email validation\n",
    "emails=(\"user@example.com\" \"invalid.email\" \"test@domain.co.uk\")\n",
    "for email in \"${emails[@]}\"; do\n",
    "    if validate_email \"$email\"; then\n",
    "        echo \"✓ Valid email: $email\"\n",
    "    else\n",
    "        echo \"✗ Invalid email: $email\"\n",
    "    fi\n",
    "done\n",
    "\n",
    "echo\n",
    "\n",
    "# Test phone validation\n",
    "phones=(\"555-123-4567\" \"12345\" \"(555) 123-4567\")\n",
    "for phone in \"${phones[@]}\"; do\n",
    "    if validate_phone \"$phone\"; then\n",
    "        echo \"✓ Valid phone: $phone\"\n",
    "    else\n",
    "        echo \"✗ Invalid phone: $phone\"\n",
    "    fi\n",
    "done\n",
    "EOF\n",
    "\n",
    "bash /tmp/input_validation.sh"
   ]
  },
  {
   "cell_type": "markdown",
   "id": "60a2d69f",
   "metadata": {},
   "source": [
    "### Menu Selection"
   ]
  },
  {
   "cell_type": "code",
   "execution_count": 8,
   "id": "a34bdbf1",
   "metadata": {
    "vscode": {
     "languageId": "shellscript"
    }
   },
   "outputs": [
    {
     "name": "stdout",
     "output_type": "stream",
     "text": [
      "Please select an option:\n",
      "1) Create new user\n",
      "2) Update existing user\n",
      "3) Delete user\n",
      "4) List all users\n",
      "5) Exit\n",
      "\n",
      "Selected (simulated): 1\n",
      "Action: Create new user\n",
      "1) Create new user\n",
      "2) Update existing user\n",
      "3) Delete user\n",
      "4) List all users\n",
      "5) Exit\n",
      "\n",
      "Selected (simulated): 1\n",
      "Action: Create new user\n"
     ]
    }
   ],
   "source": [
    "cat > /tmp/menu_demo.sh << 'EOF'\n",
    "#!/bin/bash\n",
    "\n",
    "show_menu() {\n",
    "    echo \"Please select an option:\"\n",
    "    echo \"1) Create new user\"\n",
    "    echo \"2) Update existing user\"\n",
    "    echo \"3) Delete user\"\n",
    "    echo \"4) List all users\"\n",
    "    echo \"5) Exit\"\n",
    "    echo\n",
    "}\n",
    "\n",
    "# Simulate menu (for notebook)\n",
    "show_menu\n",
    "choice=1\n",
    "echo \"Selected (simulated): $choice\"\n",
    "\n",
    "case $choice in\n",
    "    1) echo \"Action: Create new user\" ;;\n",
    "    2) echo \"Action: Update existing user\" ;;\n",
    "    3) echo \"Action: Delete user\" ;;\n",
    "    4) echo \"Action: List all users\" ;;\n",
    "    5) echo \"Action: Exit\" ;;\n",
    "    *) echo \"Invalid choice\" ;;\n",
    "esac\n",
    "EOF\n",
    "\n",
    "bash /tmp/menu_demo.sh"
   ]
  },
  {
   "cell_type": "markdown",
   "id": "0157dd2e",
   "metadata": {},
   "source": [
    "## Configuration File Parsing"
   ]
  },
  {
   "cell_type": "code",
   "execution_count": 9,
   "id": "bc26566f",
   "metadata": {
    "vscode": {
     "languageId": "shellscript"
    }
   },
   "outputs": [
    {
     "name": "stdout",
     "output_type": "stream",
     "text": [
      "Parsing configuration...\n",
      "Loaded: database_host = localhost\n",
      "Loaded: database_port = 5432\n",
      "Loaded: database_name = myapp\n",
      "Loaded: log_level = info\n",
      "Loaded: debug = false\n",
      "Loaded: max_connections = 100\n",
      "\n",
      "Current configuration:\n",
      "  max_connections      = 100\n",
      "  debug                = false\n",
      "  log_level            = info\n",
      "  database_name        = myapp\n",
      "  database_port        = 5432\n",
      "  database_host        = localhost\n",
      "Loaded: database_host = localhost\n",
      "Loaded: database_port = 5432\n",
      "Loaded: database_name = myapp\n",
      "Loaded: log_level = info\n",
      "Loaded: debug = false\n",
      "Loaded: max_connections = 100\n",
      "\n",
      "Current configuration:\n",
      "  max_connections      = 100\n",
      "  debug                = false\n",
      "  log_level            = info\n",
      "  database_name        = myapp\n",
      "  database_port        = 5432\n",
      "  database_host        = localhost\n"
     ]
    }
   ],
   "source": [
    "# Create sample configuration file\n",
    "cat << 'EOF' > /tmp/app.conf\n",
    "# Application Configuration\n",
    "database_host = localhost\n",
    "database_port = 5432\n",
    "database_name = myapp\n",
    "\n",
    "# Logging\n",
    "log_level = info\n",
    "debug = false\n",
    "\n",
    "# Connection settings\n",
    "max_connections = 100\n",
    "EOF\n",
    "\n",
    "cat > /tmp/config_parser.sh << 'EOF'\n",
    "#!/bin/bash\n",
    "\n",
    "# Default configuration\n",
    "declare -A config=(\n",
    "    [\"database_host\"]=\"localhost\"\n",
    "    [\"database_port\"]=\"5432\"\n",
    "    [\"log_level\"]=\"info\"\n",
    "    [\"debug\"]=\"false\"\n",
    "    [\"max_connections\"]=\"100\"\n",
    ")\n",
    "\n",
    "# Parse configuration file\n",
    "parse_config() {\n",
    "    local config_file=\"$1\"\n",
    "    \n",
    "    while IFS= read -r line || [ -n \"$line\" ]; do\n",
    "        # Skip empty lines and comments\n",
    "        [[ \"$line\" =~ ^[[:space:]]*$ ]] && continue\n",
    "        [[ \"$line\" =~ ^[[:space:]]*# ]] && continue\n",
    "        \n",
    "        # Parse key=value pairs\n",
    "        if [[ \"$line\" =~ ^[[:space:]]*([a-zA-Z_][a-zA-Z0-9_]*)[[:space:]]*=[[:space:]]*(.*)[[:space:]]*$ ]]; then\n",
    "            local key=\"${BASH_REMATCH[1]}\"\n",
    "            local value=\"${BASH_REMATCH[2]}\"\n",
    "            \n",
    "            config[\"$key\"]=\"$value\"\n",
    "            echo \"Loaded: $key = $value\"\n",
    "        fi\n",
    "    done < \"$config_file\"\n",
    "}\n",
    "\n",
    "echo \"Parsing configuration...\"\n",
    "parse_config \"/tmp/app.conf\"\n",
    "\n",
    "echo\n",
    "echo \"Current configuration:\"\n",
    "for key in \"${!config[@]}\"; do\n",
    "    printf \"  %-20s = %s\\n\" \"$key\" \"${config[$key]}\"\n",
    "done\n",
    "EOF\n",
    "\n",
    "bash /tmp/config_parser.sh"
   ]
  },
  {
   "cell_type": "markdown",
   "id": "e7aa5bd7",
   "metadata": {},
   "source": [
    "## Real-world Example: Backup Utility"
   ]
  },
  {
   "cell_type": "code",
   "execution_count": 10,
   "id": "eb29b7b5",
   "metadata": {
    "vscode": {
     "languageId": "shellscript"
    }
   },
   "outputs": [
    {
     "name": "stdout",
     "output_type": "stream",
     "text": [
      "Example 1:\n",
      "Backup Configuration:\n",
      "  Source: /home/user\n",
      "  Destination: /backup\n",
      "  Compression: bzip2\n",
      "  Dry-run: false\n",
      "  Verbose: true\n",
      "Backup Configuration:\n",
      "  Source: /home/user\n",
      "  Destination: /backup\n",
      "  Compression: bzip2\n",
      "  Dry-run: false\n",
      "  Verbose: true\n",
      "\n",
      "\n",
      "Example 2:\n",
      "Example 2:\n",
      "Backup Configuration:\n",
      "  Source: /var/www\n",
      "  Destination: /backup\n",
      "  Compression: gzip\n",
      "  Dry-run: true\n",
      "  Verbose: false\n",
      "DRY RUN MODE - No actual backup performed\n",
      "Backup Configuration:\n",
      "  Source: /var/www\n",
      "  Destination: /backup\n",
      "  Compression: gzip\n",
      "  Dry-run: true\n",
      "  Verbose: false\n",
      "DRY RUN MODE - No actual backup performed\n"
     ]
    }
   ],
   "source": [
    "cat > /tmp/backup_tool.sh << 'EOF'\n",
    "#!/bin/bash\n",
    "\n",
    "# Default configuration\n",
    "source=\"\"\n",
    "destination=\"\"\n",
    "compression=\"gzip\"\n",
    "dry_run=false\n",
    "verbose=false\n",
    "\n",
    "usage() {\n",
    "    cat << USAGE\n",
    "BACKUP UTILITY v1.0\n",
    "\n",
    "USAGE:\n",
    "    $0 [OPTIONS] source destination\n",
    "\n",
    "OPTIONS:\n",
    "    -c TYPE     Compression: gzip, bzip2, xz, none (default: gzip)\n",
    "    -n          Dry-run mode\n",
    "    -v          Verbose output\n",
    "    -h          Show this help\n",
    "\n",
    "EXAMPLES:\n",
    "    $0 -v /home/user /backup\n",
    "    $0 -c bzip2 -n /var/www /backup\n",
    "USAGE\n",
    "}\n",
    "\n",
    "# Parse options\n",
    "while getopts \"c:nvh\" opt; do\n",
    "    case $opt in\n",
    "        c) compression=\"$OPTARG\" ;;\n",
    "        n) dry_run=true ;;\n",
    "        v) verbose=true ;;\n",
    "        h) usage; exit 0 ;;\n",
    "        *) usage >&2; exit 1 ;;\n",
    "    esac\n",
    "done\n",
    "\n",
    "shift $((OPTIND-1))\n",
    "\n",
    "# Get positional arguments\n",
    "source=\"$1\"\n",
    "destination=\"$2\"\n",
    "\n",
    "# Validation\n",
    "if [ -z \"$source\" ] || [ -z \"$destination\" ]; then\n",
    "    echo \"Error: Source and destination required\" >&2\n",
    "    usage >&2\n",
    "    exit 1\n",
    "fi\n",
    "\n",
    "# Display configuration\n",
    "echo \"Backup Configuration:\"\n",
    "echo \"  Source: $source\"\n",
    "echo \"  Destination: $destination\"\n",
    "echo \"  Compression: $compression\"\n",
    "echo \"  Dry-run: $dry_run\"\n",
    "echo \"  Verbose: $verbose\"\n",
    "\n",
    "if [ \"$dry_run\" = true ]; then\n",
    "    echo \"DRY RUN MODE - No actual backup performed\"\n",
    "fi\n",
    "EOF\n",
    "\n",
    "echo \"Example 1:\"\n",
    "bash /tmp/backup_tool.sh -v -c bzip2 /home/user /backup\n",
    "\n",
    "echo\n",
    "echo \"Example 2:\"\n",
    "bash /tmp/backup_tool.sh -n /var/www /backup"
   ]
  },
  {
   "cell_type": "markdown",
   "id": "50d921b7",
   "metadata": {},
   "source": [
    "## Exercise\n",
    "\n",
    "Create a script called `system_monitor.sh` that accepts various input parameters:\n",
    "\n",
    "**Command-line options:**\n",
    "- `-i SECONDS`: Monitoring interval (default: 5)\n",
    "- `-d MINUTES`: Duration (default: 60)\n",
    "- `-o FILE`: Output file\n",
    "- `-v`: Verbose mode\n",
    "- `-h`: Help\n",
    "\n",
    "The script should:\n",
    "1. Parse command-line options\n",
    "2. Validate numeric inputs\n",
    "3. Support a configuration file (optional)\n",
    "4. Provide helpful error messages"
   ]
  },
  {
   "cell_type": "markdown",
   "id": "82b8fc68",
   "metadata": {},
   "source": [
    "## Cleanup"
   ]
  },
  {
   "cell_type": "code",
   "execution_count": 11,
   "id": "0fdbc0f9",
   "metadata": {
    "vscode": {
     "languageId": "shellscript"
    }
   },
   "outputs": [
    {
     "name": "stdout",
     "output_type": "stream",
     "text": [
      "Temporary files cleaned up\n"
     ]
    }
   ],
   "source": [
    "# Clean up temporary files\n",
    "rm -f /tmp/*.sh /tmp/app.conf\n",
    "echo \"Temporary files cleaned up\""
   ]
  }
 ],
 "metadata": {
  "kernelspec": {
   "display_name": "Bash",
   "language": "bash",
   "name": "bash"
  },
  "language_info": {
   "codemirror_mode": "shell",
   "file_extension": ".sh",
   "mimetype": "text/x-sh",
   "name": "bash"
  }
 },
 "nbformat": 4,
 "nbformat_minor": 5
}
