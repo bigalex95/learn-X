{
 "cells": [
  {
   "cell_type": "markdown",
   "id": "293c8ab1",
   "metadata": {},
   "source": [
    "# Process Substitution\n",
    "\n",
    "---\n",
    "\n",
    "In the previous section we've seen how to chain output of one command to the next one. But what if you want to chain the output of two or more commands to another one? What if you have a command that takes a file as argument but you would like to process whatever is sent to that file?\n",
    "\n",
    "Process substitution allows a process's input or output to be referred to using a filename. It has two forms:\n",
    "\n",
    "- Output: `<(cmd)`\n",
    "- Input: `>(cmd)`"
   ]
  },
  {
   "cell_type": "markdown",
   "id": "86a83891",
   "metadata": {},
   "source": [
    "## Output Process Substitution: `<(cmd)`\n",
    "\n",
    "Imagine you've two files for which you want to compare the content. Using `diff file1 file2` could generate false positives in the case lines are not ordered. So if you want to compare those files you could create two new files, ordered, and compare those. It would look like:\n",
    "\n",
    "```bash\n",
    "sort file1 > sorted_file1\n",
    "sort file2 > sorted_file2\n",
    "diff sorted_file1 sorted_file2\n",
    "```\n",
    "\n",
    "With process substitution you can do it in one line:\n",
    "\n",
    "```bash\n",
    "diff <(sort file1) <(sort file2)\n",
    "```"
   ]
  },
  {
   "cell_type": "markdown",
   "id": "3f50cda2",
   "metadata": {},
   "source": [
    "### Example 1: Comparing sorted files"
   ]
  },
  {
   "cell_type": "code",
   "execution_count": 1,
   "id": "256caa72",
   "metadata": {
    "vscode": {
     "languageId": "shellscript"
    }
   },
   "outputs": [
    {
     "name": "stdout",
     "output_type": "stream",
     "text": [
      "Files are identical when sorted:\n",
      "No differences!\n",
      "No differences!\n"
     ]
    }
   ],
   "source": [
    "# Create two test files with unsorted content\n",
    "cat > /tmp/file1.txt << EOF\n",
    "banana\n",
    "apple\n",
    "cherry\n",
    "EOF\n",
    "\n",
    "cat > /tmp/file2.txt << EOF\n",
    "cherry\n",
    "banana\n",
    "apple\n",
    "EOF\n",
    "\n",
    "echo \"Files are identical when sorted:\"\n",
    "diff <(sort /tmp/file1.txt) <(sort /tmp/file2.txt) && echo \"No differences!\" || echo \"Files differ\""
   ]
  },
  {
   "cell_type": "markdown",
   "id": "753305d2",
   "metadata": {},
   "source": [
    "### Example 2: Comparing command outputs"
   ]
  },
  {
   "cell_type": "code",
   "execution_count": 2,
   "id": "c8bc7d6e",
   "metadata": {
    "vscode": {
     "languageId": "shellscript"
    }
   },
   "outputs": [
    {
     "name": "stdout",
     "output_type": "stream",
     "text": [
      "Files only in dir1 or dir2:\n",
      "1d0\n",
      "< a.txt\n",
      "3a3\n",
      "> d.txt\n",
      "1d0\n",
      "< a.txt\n",
      "3a3\n",
      "> d.txt\n"
     ]
    },
    {
     "ename": "",
     "evalue": "1",
     "output_type": "error",
     "traceback": []
    }
   ],
   "source": [
    "# Compare list of files in two directories\n",
    "mkdir -p /tmp/dir1 /tmp/dir2\n",
    "touch /tmp/dir1/{a,b,c}.txt\n",
    "touch /tmp/dir2/{b,c,d}.txt\n",
    "\n",
    "echo \"Files only in dir1 or dir2:\"\n",
    "diff <(ls /tmp/dir1) <(ls /tmp/dir2)"
   ]
  },
  {
   "cell_type": "markdown",
   "id": "610431d1",
   "metadata": {},
   "source": [
    "### Example 3: Join command with process substitution"
   ]
  },
  {
   "cell_type": "code",
   "execution_count": 3,
   "id": "3fca881a",
   "metadata": {
    "vscode": {
     "languageId": "shellscript"
    }
   },
   "outputs": [
    {
     "name": "stdout",
     "output_type": "stream",
     "text": [
      "Joined data:\n",
      "1 Alice 25\n",
      "2 Bob 30\n",
      "3 Charlie 35\n",
      "1 Alice 25\n",
      "2 Bob 30\n",
      "3 Charlie 35\n"
     ]
    }
   ],
   "source": [
    "# Join two sorted command outputs\n",
    "cat > /tmp/names.txt << EOF\n",
    "1 Alice\n",
    "2 Bob\n",
    "3 Charlie\n",
    "EOF\n",
    "\n",
    "cat > /tmp/ages.txt << EOF\n",
    "1 25\n",
    "2 30\n",
    "3 35\n",
    "EOF\n",
    "\n",
    "echo \"Joined data:\"\n",
    "join <(sort /tmp/names.txt) <(sort /tmp/ages.txt)"
   ]
  },
  {
   "cell_type": "markdown",
   "id": "1f0e333c",
   "metadata": {},
   "source": [
    "## Input Process Substitution: `>(cmd)`\n",
    "\n",
    "Imagine you want to store logs of an application into a file and at the same time print it on the console. A very handy command for that is `tee`.\n",
    "\n",
    "```bash\n",
    "echo \"Hello, world!\" | tee /tmp/hello.txt\n",
    "```\n",
    "\n",
    "Now let say you want to have only lower case characters in the file but keep the regular case on the output. You could use process substitution that way:\n",
    "\n",
    "```bash\n",
    "echo \"Hello, world!\" | tee >(tr '[:upper:]' '[:lower:]' > /tmp/hello.txt)\n",
    "```"
   ]
  },
  {
   "cell_type": "markdown",
   "id": "5784646d",
   "metadata": {},
   "source": [
    "### Example 4: Transform output before saving"
   ]
  },
  {
   "cell_type": "code",
   "execution_count": 4,
   "id": "abea4e71",
   "metadata": {
    "vscode": {
     "languageId": "shellscript"
    }
   },
   "outputs": [
    {
     "name": "stdout",
     "output_type": "stream",
     "text": [
      "Hello, World!\n",
      "Original output shown above\n",
      "Original output shown above\n",
      "File contains:\n",
      "File contains:\n",
      "hello, world!\n",
      "hello, world!\n"
     ]
    }
   ],
   "source": [
    "echo \"Hello, World!\" | tee >(tr '[:upper:]' '[:lower:]' > /tmp/hello.txt)\n",
    "echo \"Original output shown above\"\n",
    "echo \"File contains:\"\n",
    "cat /tmp/hello.txt"
   ]
  },
  {
   "cell_type": "markdown",
   "id": "041b40ce",
   "metadata": {},
   "source": [
    "### Example 5: Send output to multiple processes"
   ]
  },
  {
   "cell_type": "code",
   "execution_count": 5,
   "id": "c33e2dba",
   "metadata": {
    "vscode": {
     "languageId": "shellscript"
    }
   },
   "outputs": [
    {
     "name": "stdout",
     "output_type": "stream",
     "text": [
      "Original:\n",
      "Testing Multiple Outputs\n",
      "Testing Multiple Outputs\n",
      "Lowercase:\n",
      "Lowercase:\n",
      "testing multiple outputs\n",
      "testing multiple outputs\n",
      "Uppercase:\n",
      "Uppercase:\n",
      "TESTING MULTIPLE OUTPUTS\n",
      "TESTING MULTIPLE OUTPUTS\n"
     ]
    }
   ],
   "source": [
    "# Send output to multiple files with different transformations\n",
    "echo \"Testing Multiple Outputs\" | tee \\\n",
    "    >(tr '[:upper:]' '[:lower:]' > /tmp/lower.txt) \\\n",
    "    >(tr '[:lower:]' '[:upper:]' > /tmp/upper.txt) \\\n",
    "    > /tmp/original.txt\n",
    "\n",
    "sleep 0.1  # Give time for background processes\n",
    "\n",
    "echo \"Original:\"\n",
    "cat /tmp/original.txt\n",
    "echo \"Lowercase:\"\n",
    "cat /tmp/lower.txt\n",
    "echo \"Uppercase:\"\n",
    "cat /tmp/upper.txt"
   ]
  },
  {
   "cell_type": "markdown",
   "id": "4ecb2a10",
   "metadata": {},
   "source": [
    "## Practical Examples"
   ]
  },
  {
   "cell_type": "markdown",
   "id": "85d334aa",
   "metadata": {},
   "source": [
    "### Example 6: Comparing filtered logs"
   ]
  },
  {
   "cell_type": "code",
   "execution_count": 6,
   "id": "65aa17d4",
   "metadata": {
    "vscode": {
     "languageId": "shellscript"
    }
   },
   "outputs": [
    {
     "name": "stdout",
     "output_type": "stream",
     "text": [
      "Comparing ERROR messages:\n",
      "1d0\n",
      "< Connection failed\n",
      "2a2\n",
      "> Connection failed\n",
      "1d0\n",
      "< Connection failed\n",
      "2a2\n",
      "> Connection failed\n"
     ]
    },
    {
     "ename": "",
     "evalue": "1",
     "output_type": "error",
     "traceback": []
    }
   ],
   "source": [
    "# Create sample log files\n",
    "cat > /tmp/log1.txt << EOF\n",
    "2023-10-26 ERROR: Connection failed\n",
    "2023-10-26 INFO: Starting service\n",
    "2023-10-26 ERROR: Database timeout\n",
    "2023-10-26 INFO: Service running\n",
    "EOF\n",
    "\n",
    "cat > /tmp/log2.txt << EOF\n",
    "2023-10-26 ERROR: Database timeout\n",
    "2023-10-26 INFO: Service running\n",
    "2023-10-26 ERROR: Connection failed\n",
    "2023-10-26 WARN: High memory usage\n",
    "EOF\n",
    "\n",
    "echo \"Comparing ERROR messages:\"\n",
    "diff <(grep ERROR /tmp/log1.txt | cut -d' ' -f3-) <(grep ERROR /tmp/log2.txt | cut -d' ' -f3-)"
   ]
  },
  {
   "cell_type": "markdown",
   "id": "b15277dc",
   "metadata": {},
   "source": [
    "### Example 7: Creating archive with processed content"
   ]
  },
  {
   "cell_type": "code",
   "execution_count": 7,
   "id": "8abc8602",
   "metadata": {
    "vscode": {
     "languageId": "shellscript"
    }
   },
   "outputs": [
    {
     "name": "stdout",
     "output_type": "stream",
     "text": [
      "Creating processed archive\n",
      "tar: Removing leading `/' from member names\n",
      "tar: Removing leading `/' from hard link targets\n",
      "tar: Removing leading `/' from member names\n",
      "tar: Removing leading `/' from hard link targets\n",
      "Archive created:\n",
      "Archive created:\n",
      "-rw-rw-r-- 1 bigalex95 bigalex95 214 Eki 26 01:06 \u001b[0m\u001b[01;31m/tmp/files.tar.gz\u001b[0m\n",
      "-rw-rw-r-- 1 bigalex95 bigalex95 214 Eki 26 01:06 \u001b[0m\u001b[01;31m/tmp/files.tar.gz\u001b[0m\n"
     ]
    }
   ],
   "source": [
    "# Compress output of a command directly\n",
    "echo \"Creating processed archive\"\n",
    "find /tmp -name \"*.txt\" -type f 2>/dev/null | head -5 | tar czf /tmp/files.tar.gz -T -\n",
    "echo \"Archive created:\"\n",
    "ls -lh /tmp/files.tar.gz"
   ]
  },
  {
   "cell_type": "markdown",
   "id": "a906ebda",
   "metadata": {},
   "source": [
    "### Example 8: Multiple input sources"
   ]
  },
  {
   "cell_type": "code",
   "execution_count": 8,
   "id": "b4acd836",
   "metadata": {
    "vscode": {
     "languageId": "shellscript"
    }
   },
   "outputs": [
    {
     "name": "stdout",
     "output_type": "stream",
     "text": [
      "Combining and sorting multiple files:\n",
      "apple\n",
      "banana\n",
      "cherry\n",
      "date\n",
      "elderberry\n",
      "apple\n",
      "banana\n",
      "cherry\n",
      "date\n",
      "elderberry\n"
     ]
    }
   ],
   "source": [
    "# Combine output from multiple sources\n",
    "cat > /tmp/data1.txt << EOF\n",
    "apple\n",
    "banana\n",
    "EOF\n",
    "\n",
    "cat > /tmp/data2.txt << EOF\n",
    "cherry\n",
    "date\n",
    "EOF\n",
    "\n",
    "echo \"Combining and sorting multiple files:\"\n",
    "sort <(cat /tmp/data1.txt) <(cat /tmp/data2.txt) <(echo \"elderberry\")"
   ]
  },
  {
   "cell_type": "markdown",
   "id": "069d5003",
   "metadata": {},
   "source": [
    "## Advanced Use Cases"
   ]
  },
  {
   "cell_type": "code",
   "execution_count": 9,
   "id": "cad6aac0",
   "metadata": {
    "vscode": {
     "languageId": "shellscript"
    }
   },
   "outputs": [
    {
     "name": "stdout",
     "output_type": "stream",
     "text": [
      "1\t10\t20\n",
      "2\t11\t21\n",
      "3\t12\t22\n",
      "4\t13\t23\n",
      "5\t14\t24\n",
      "2\t11\t21\n",
      "3\t12\t22\n",
      "4\t13\t23\n",
      "5\t14\t24\n"
     ]
    }
   ],
   "source": [
    "# Parallel processing with process substitution\n",
    "paste <(seq 1 5) <(seq 10 14) <(seq 20 24)"
   ]
  },
  {
   "cell_type": "code",
   "execution_count": 10,
   "id": "57dd4e37",
   "metadata": {
    "vscode": {
     "languageId": "shellscript"
    }
   },
   "outputs": [
    {
     "name": "stdout",
     "output_type": "stream",
     "text": [
      "1,2d0\n",
      "< 38969\n",
      "< 205949\n",
      "4d1\n",
      "< 207034\n",
      "6d2\n",
      "< 212147\n",
      "8d3\n",
      "< 212559\n",
      "10d4\n",
      "< 213431\n",
      "12d5\n",
      "< 213797\n",
      "14d6\n",
      "< 214472\n",
      "16d7\n",
      "< 217375\n",
      "19c10\n",
      "< 217718\n",
      "---\n",
      "> 217715\n",
      "PIDs don't match perfectly\n",
      "< 38969\n",
      "< 205949\n",
      "4d1\n",
      "< 207034\n",
      "6d2\n",
      "< 212147\n",
      "8d3\n",
      "< 212559\n",
      "10d4\n",
      "< 213431\n",
      "12d5\n",
      "< 213797\n",
      "14d6\n",
      "< 214472\n",
      "16d7\n",
      "< 217375\n",
      "19c10\n",
      "< 217718\n",
      "---\n",
      "> 217715\n",
      "PIDs don't match perfectly\n"
     ]
    }
   ],
   "source": [
    "# Compare output of two different commands\n",
    "diff <(ps aux | grep bash | awk '{print $2}') <(pgrep bash) || echo \"PIDs don't match perfectly\""
   ]
  },
  {
   "cell_type": "markdown",
   "id": "7bf4c4ff",
   "metadata": {},
   "source": [
    "## Note\n",
    "\n",
    "There is no exercise for this section. Process substitution is an advanced feature that's useful in specific scenarios. Practice using it when you need to:\n",
    "\n",
    "- Compare outputs of commands\n",
    "- Feed command output to programs expecting files\n",
    "- Process data in parallel\n",
    "- Avoid creating temporary files"
   ]
  }
 ],
 "metadata": {
  "kernelspec": {
   "display_name": "Bash",
   "language": "bash",
   "name": "bash"
  },
  "language_info": {
   "codemirror_mode": "shell",
   "file_extension": ".sh",
   "mimetype": "text/x-sh",
   "name": "bash"
  }
 },
 "nbformat": 4,
 "nbformat_minor": 5
}
