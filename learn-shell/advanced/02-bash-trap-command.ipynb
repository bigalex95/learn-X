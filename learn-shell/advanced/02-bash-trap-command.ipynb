{
 "cells": [
  {
   "cell_type": "markdown",
   "id": "4fab67e3",
   "metadata": {},
   "source": [
    "# Bash trap command\n",
    "\n",
    "---\n",
    "\n",
    "It often comes the situations that you want to catch a special signal/interruption/user input in your script to prevent the unpredictables.\n",
    "\n",
    "Trap is your command to try:\n",
    "\n",
    "- `trap <arg/function> <signal>`\n",
    "\n",
    "Some of the common signal types you can trap:\n",
    "\n",
    "- `SIGINT`: user sends an interrupt signal (Ctrl + C)\n",
    "- `SIGQUIT`: user sends a quit signal (Ctrl + D)\n",
    "- `SIGFPE`: attempted an illegal mathematical operation\n",
    "\n",
    "You can check out all signal types by entering the following command:"
   ]
  },
  {
   "cell_type": "code",
   "execution_count": 1,
   "id": "20f21219",
   "metadata": {
    "vscode": {
     "languageId": "shellscript"
    }
   },
   "outputs": [
    {
     "name": "stdout",
     "output_type": "stream",
     "text": [
      " 1) SIGHUP\t 2) SIGINT\t 3) SIGQUIT\t 4) SIGILL\t 5) SIGTRAP\n",
      " 6) SIGABRT\t 7) SIGBUS\t 8) SIGFPE\t 9) SIGKILL\t10) SIGUSR1\n",
      "11) SIGSEGV\t12) SIGUSR2\t13) SIGPIPE\t14) SIGALRM\t15) SIGTERM\n",
      "16) SIGSTKFLT\t17) SIGCHLD\t18) SIGCONT\t19) SIGSTOP\t20) SIGTSTP\n",
      "21) SIGTTIN\t22) SIGTTOU\t23) SIGURG\t24) SIGXCPU\t25) SIGXFSZ\n",
      "26) SIGVTALRM\t27) SIGPROF\t28) SIGWINCH\t29) SIGIO\t30) SIGPWR\n",
      "31) SIGSYS\t34) SIGRTMIN\t35) SIGRTMIN+1\t36) SIGRTMIN+2\t37) SIGRTMIN+3\n",
      "38) SIGRTMIN+4\t39) SIGRTMIN+5\t40) SIGRTMIN+6\t41) SIGRTMIN+7\t42) SIGRTMIN+8\n",
      "43) SIGRTMIN+9\t44) SIGRTMIN+10\t45) SIGRTMIN+11\t46) SIGRTMIN+12\t47) SIGRTMIN+13\n",
      "48) SIGRTMIN+14\t49) SIGRTMIN+15\t50) SIGRTMAX-14\t51) SIGRTMAX-13\t52) SIGRTMAX-12\n",
      "53) SIGRTMAX-11\t54) SIGRTMAX-10\t55) SIGRTMAX-9\t56) SIGRTMAX-8\t57) SIGRTMAX-7\n",
      "58) SIGRTMAX-6\t59) SIGRTMAX-5\t60) SIGRTMAX-4\t61) SIGRTMAX-3\t62) SIGRTMAX-2\n",
      "63) SIGRTMAX-1\t64) SIGRTMAX\t\n",
      " 6) SIGABRT\t 7) SIGBUS\t 8) SIGFPE\t 9) SIGKILL\t10) SIGUSR1\n",
      "11) SIGSEGV\t12) SIGUSR2\t13) SIGPIPE\t14) SIGALRM\t15) SIGTERM\n",
      "16) SIGSTKFLT\t17) SIGCHLD\t18) SIGCONT\t19) SIGSTOP\t20) SIGTSTP\n",
      "21) SIGTTIN\t22) SIGTTOU\t23) SIGURG\t24) SIGXCPU\t25) SIGXFSZ\n",
      "26) SIGVTALRM\t27) SIGPROF\t28) SIGWINCH\t29) SIGIO\t30) SIGPWR\n",
      "31) SIGSYS\t34) SIGRTMIN\t35) SIGRTMIN+1\t36) SIGRTMIN+2\t37) SIGRTMIN+3\n",
      "38) SIGRTMIN+4\t39) SIGRTMIN+5\t40) SIGRTMIN+6\t41) SIGRTMIN+7\t42) SIGRTMIN+8\n",
      "43) SIGRTMIN+9\t44) SIGRTMIN+10\t45) SIGRTMIN+11\t46) SIGRTMIN+12\t47) SIGRTMIN+13\n",
      "48) SIGRTMIN+14\t49) SIGRTMIN+15\t50) SIGRTMAX-14\t51) SIGRTMAX-13\t52) SIGRTMAX-12\n",
      "53) SIGRTMAX-11\t54) SIGRTMAX-10\t55) SIGRTMAX-9\t56) SIGRTMAX-8\t57) SIGRTMAX-7\n",
      "58) SIGRTMAX-6\t59) SIGRTMAX-5\t60) SIGRTMAX-4\t61) SIGRTMAX-3\t62) SIGRTMAX-2\n",
      "63) SIGRTMAX-1\t64) SIGRTMAX\t\n"
     ]
    }
   ],
   "source": [
    "kill -l"
   ]
  },
  {
   "cell_type": "markdown",
   "id": "a8662011",
   "metadata": {},
   "source": [
    "Notice the numbers before each signal name, you can use that number to avoid typing long strings in trap:\n",
    "\n",
    "```bash\n",
    "#2 corresponds to SIGINT and 15 corresponds to SIGTERM\n",
    "trap booh 2 15\n",
    "```\n",
    "\n",
    "One of the common usage of trap is to do cleanup temporary files:\n",
    "\n",
    "```bash\n",
    "trap \"rm -f folder; exit\" 2\n",
    "```"
   ]
  },
  {
   "cell_type": "markdown",
   "id": "5aadb521",
   "metadata": {},
   "source": [
    "## Exercise 1: Basic Cleanup\n",
    "\n",
    "Create a script with cleanup on exit:"
   ]
  },
  {
   "cell_type": "code",
   "execution_count": 2,
   "id": "a28de008",
   "metadata": {
    "vscode": {
     "languageId": "shellscript"
    }
   },
   "outputs": [
    {
     "name": "stdout",
     "output_type": "stream",
     "text": [
      "Working...\n",
      "Done\n",
      "Cleaning up...\n",
      "Done\n",
      "Cleaning up...\n"
     ]
    }
   ],
   "source": [
    "cat > /tmp/cleanup_demo.sh << 'EOF'\n",
    "#!/bin/bash\n",
    "cleanup() {\n",
    "    echo \"Cleaning up...\"\n",
    "    rm -f /tmp/test$$\n",
    "}\n",
    "trap cleanup EXIT\n",
    "\n",
    "echo \"Working...\" > /tmp/test$$\n",
    "cat /tmp/test$$\n",
    "echo \"Done\"\n",
    "EOF\n",
    "\n",
    "bash /tmp/cleanup_demo.sh"
   ]
  },
  {
   "cell_type": "markdown",
   "id": "946c4eba",
   "metadata": {},
   "source": [
    "## Exercise 2: Handle Interrupts\n",
    "\n",
    "Create a script that handles Ctrl+C gracefully (Note: Ctrl+C won't work in notebooks, but shows the concept):"
   ]
  },
  {
   "cell_type": "code",
   "execution_count": 3,
   "id": "947867df",
   "metadata": {
    "vscode": {
     "languageId": "shellscript"
    }
   },
   "outputs": [
    {
     "name": "stdout",
     "output_type": "stream",
     "text": [
      "Running... iteration 1\n",
      "Running... iteration 2\n",
      "Running... iteration 2\n",
      "Running... iteration 3\n",
      "Running... iteration 3\n",
      "Completed successfully\n",
      "Completed successfully\n"
     ]
    }
   ],
   "source": [
    "cat > /tmp/interrupt_handler.sh << 'EOF'\n",
    "#!/bin/bash\n",
    "interrupted() {\n",
    "    echo \"Script interrupted!\"\n",
    "    exit 1\n",
    "}\n",
    "trap interrupted SIGINT\n",
    "\n",
    "# Simulate some work\n",
    "for i in {1..3}; do\n",
    "    echo \"Running... iteration $i\"\n",
    "    sleep 1\n",
    "done\n",
    "echo \"Completed successfully\"\n",
    "EOF\n",
    "\n",
    "bash /tmp/interrupt_handler.sh"
   ]
  },
  {
   "cell_type": "markdown",
   "id": "cb9b9f3c",
   "metadata": {},
   "source": [
    "## Exercise 3: Multiple Signals\n",
    "\n",
    "Handle different signals with different actions:"
   ]
  },
  {
   "cell_type": "code",
   "execution_count": 4,
   "id": "be74561d",
   "metadata": {
    "vscode": {
     "languageId": "shellscript"
    }
   },
   "outputs": [
    {
     "name": "stdout",
     "output_type": "stream",
     "text": [
      "Script running with PID: 212749\n",
      "Send signals using: kill -SIGINT 212749 or kill -SIGTERM 212749\n",
      "Working... 1\n",
      "Send signals using: kill -SIGINT 212749 or kill -SIGTERM 212749\n",
      "Working... 1\n",
      "Working... 2\n",
      "Working... 2\n",
      "Working... 3\n",
      "Working... 3\n"
     ]
    }
   ],
   "source": [
    "cat > /tmp/multi_signal.sh << 'EOF'\n",
    "#!/bin/bash\n",
    "handle_int() { echo \"Got SIGINT\"; }\n",
    "handle_term() { echo \"Got SIGTERM\"; exit; }\n",
    "\n",
    "trap handle_int SIGINT\n",
    "trap handle_term SIGTERM\n",
    "\n",
    "echo \"Script running with PID: $$\"\n",
    "echo \"Send signals using: kill -SIGINT $$ or kill -SIGTERM $$\"\n",
    "\n",
    "# Simulate work\n",
    "for i in {1..3}; do\n",
    "    echo \"Working... $i\"\n",
    "    sleep 1\n",
    "done\n",
    "EOF\n",
    "\n",
    "bash /tmp/multi_signal.sh"
   ]
  },
  {
   "cell_type": "markdown",
   "id": "82986222",
   "metadata": {},
   "source": [
    "## Exercise 4: Temp File Cleanup\n",
    "\n",
    "Create a script that always cleans up temporary files:"
   ]
  },
  {
   "cell_type": "code",
   "execution_count": 5,
   "id": "e4ddc190",
   "metadata": {
    "vscode": {
     "languageId": "shellscript"
    }
   },
   "outputs": [
    {
     "name": "stdout",
     "output_type": "stream",
     "text": [
      "Using temp file: /tmp/demo.xdfqJw\n",
      "data\n",
      "Work completed\n",
      "Removing /tmp/demo.xdfqJw\n",
      "data\n",
      "Work completed\n",
      "Removing /tmp/demo.xdfqJw\n"
     ]
    }
   ],
   "source": [
    "cat > /tmp/temp_cleanup.sh << 'EOF'\n",
    "#!/bin/bash\n",
    "TMPFILE=$(mktemp /tmp/demo.XXXXXX)\n",
    "cleanup() {\n",
    "    echo \"Removing $TMPFILE\"\n",
    "    rm -f \"$TMPFILE\"\n",
    "}\n",
    "trap cleanup EXIT SIGINT SIGTERM\n",
    "\n",
    "echo \"Using temp file: $TMPFILE\"\n",
    "echo \"data\" > \"$TMPFILE\"\n",
    "cat \"$TMPFILE\"\n",
    "echo \"Work completed\"\n",
    "EOF\n",
    "\n",
    "bash /tmp/temp_cleanup.sh"
   ]
  },
  {
   "cell_type": "markdown",
   "id": "2a3781e4",
   "metadata": {},
   "source": [
    "## Practical Example: Database Backup Script\n",
    "\n",
    "Here's a practical example showing trap usage in a backup scenario:"
   ]
  },
  {
   "cell_type": "code",
   "execution_count": 6,
   "id": "8ed2a634",
   "metadata": {
    "vscode": {
     "languageId": "shellscript"
    }
   },
   "outputs": [
    {
     "name": "stdout",
     "output_type": "stream",
     "text": [
      "Starting backup to /tmp/backup_212803\n",
      "Backup complete\n",
      "Cleaning up...\n",
      "Cleanup complete\n",
      "Backup complete\n",
      "Cleaning up...\n",
      "Cleanup complete\n"
     ]
    }
   ],
   "source": [
    "cat > /tmp/backup_script.sh << 'EOF'\n",
    "#!/bin/bash\n",
    "\n",
    "BACKUP_DIR=\"/tmp/backup_$$\"\n",
    "LOCK_FILE=\"/tmp/backup.lock\"\n",
    "\n",
    "cleanup() {\n",
    "    echo \"Cleaning up...\"\n",
    "    rm -f \"$LOCK_FILE\"\n",
    "    rm -rf \"$BACKUP_DIR\"\n",
    "    echo \"Cleanup complete\"\n",
    "}\n",
    "\n",
    "# Set trap for various exit scenarios\n",
    "trap cleanup EXIT\n",
    "trap \"echo 'Interrupted!'; exit 1\" INT TERM\n",
    "\n",
    "# Create lock file\n",
    "if [ -f \"$LOCK_FILE\" ]; then\n",
    "    echo \"Backup already running!\"\n",
    "    exit 1\n",
    "fi\n",
    "\n",
    "touch \"$LOCK_FILE\"\n",
    "mkdir -p \"$BACKUP_DIR\"\n",
    "\n",
    "echo \"Starting backup to $BACKUP_DIR\"\n",
    "echo \"This is a simulated backup\" > \"$BACKUP_DIR/data.txt\"\n",
    "sleep 1\n",
    "echo \"Backup complete\"\n",
    "EOF\n",
    "\n",
    "bash /tmp/backup_script.sh"
   ]
  }
 ],
 "metadata": {
  "kernelspec": {
   "display_name": "Bash",
   "language": "bash",
   "name": "bash"
  },
  "language_info": {
   "codemirror_mode": "shell",
   "file_extension": ".sh",
   "mimetype": "text/x-sh",
   "name": "bash"
  }
 },
 "nbformat": 4,
 "nbformat_minor": 5
}
