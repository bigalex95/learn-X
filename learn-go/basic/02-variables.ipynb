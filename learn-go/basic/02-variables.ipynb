{
 "cells": [
  {
   "cell_type": "markdown",
   "id": "c800c632",
   "metadata": {},
   "source": [
    "# Variables\n",
    "\n",
    "Learn about variable declaration and types in Go."
   ]
  },
  {
   "cell_type": "markdown",
   "id": "568f2913",
   "metadata": {},
   "source": [
    "## Variable Declaration with `var`"
   ]
  },
  {
   "cell_type": "code",
   "execution_count": null,
   "id": "a8a717e1",
   "metadata": {},
   "outputs": [],
   "source": [
    "import \"fmt\"\n",
    "\n",
    "var name string = \"Go\"\n",
    "var age int = 13\n",
    "var isAwesome bool = true\n",
    "\n",
    "fmt.Println(\"Name:\", name)\n",
    "fmt.Println(\"Age:\", age)\n",
    "fmt.Println(\"Is Awesome:\", isAwesome)"
   ]
  },
  {
   "cell_type": "markdown",
   "id": "87637efe",
   "metadata": {},
   "source": [
    "## Type Inference"
   ]
  },
  {
   "cell_type": "code",
   "execution_count": null,
   "id": "9e129c81",
   "metadata": {},
   "outputs": [],
   "source": [
    "var city = \"San Francisco\"  // Type inferred as string\n",
    "var year = 2025            // Type inferred as int\n",
    "\n",
    "fmt.Println(\"City:\", city)\n",
    "fmt.Println(\"Year:\", year)"
   ]
  },
  {
   "cell_type": "markdown",
   "id": "8c88d769",
   "metadata": {},
   "source": [
    "## Short Variable Declaration (`:=`)"
   ]
  },
  {
   "cell_type": "code",
   "execution_count": null,
   "id": "f331548c",
   "metadata": {},
   "outputs": [],
   "source": [
    "language := \"Go\"\n",
    "version := 1.21\n",
    "\n",
    "fmt.Println(\"Language:\", language)\n",
    "fmt.Println(\"Version:\", version)"
   ]
  },
  {
   "cell_type": "markdown",
   "id": "41dabcb2",
   "metadata": {},
   "source": [
    "## Multiple Variable Declaration"
   ]
  },
  {
   "cell_type": "code",
   "execution_count": null,
   "id": "e1ad4205",
   "metadata": {},
   "outputs": [],
   "source": [
    "var x, y, z int = 1, 2, 3\n",
    "a, b, c := \"Hello\", 42, true\n",
    "\n",
    "fmt.Println(\"x, y, z:\", x, y, z)\n",
    "fmt.Println(\"a, b, c:\", a, b, c)"
   ]
  },
  {
   "cell_type": "markdown",
   "id": "03780a89",
   "metadata": {},
   "source": [
    "## Constants"
   ]
  },
  {
   "cell_type": "code",
   "execution_count": null,
   "id": "aa016480",
   "metadata": {},
   "outputs": [],
   "source": [
    "const Pi = 3.14159\n",
    "const Greeting = \"Hello, Go!\"\n",
    "\n",
    "fmt.Println(\"Pi:\", Pi)\n",
    "fmt.Println(\"Greeting:\", Greeting)"
   ]
  }
 ],
 "metadata": {
  "language_info": {
   "name": "python"
  }
 },
 "nbformat": 4,
 "nbformat_minor": 5
}
