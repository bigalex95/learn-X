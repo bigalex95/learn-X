{
 "cells": [
  {
   "cell_type": "markdown",
   "id": "c800c632",
   "metadata": {},
   "source": [
    "# Variables\n",
    "\n",
    "Learn about variable declaration and types in Go."
   ]
  },
  {
   "cell_type": "markdown",
   "id": "568f2913",
   "metadata": {},
   "source": [
    "## Variable Declaration with `var`"
   ]
  },
  {
   "cell_type": "code",
   "execution_count": 2,
   "id": "a8a717e1",
   "metadata": {},
   "outputs": [
    {
     "name": "stdout",
     "output_type": "stream",
     "text": [
      "Name: Go\n",
      "Age: 13\n",
      "Is Awesome: true\n"
     ]
    },
    {
     "data": {
      "text/plain": [
       "17 <nil>"
      ]
     },
     "execution_count": 2,
     "metadata": {},
     "output_type": "execute_result"
    }
   ],
   "source": [
    "import \"fmt\"\n",
    "\n",
    "var name string = \"Go\"\n",
    "var age int = 13\n",
    "var isAwesome bool = true\n",
    "\n",
    "fmt.Println(\"Name:\", name)\n",
    "fmt.Println(\"Age:\", age)\n",
    "fmt.Println(\"Is Awesome:\", isAwesome)"
   ]
  },
  {
   "cell_type": "markdown",
   "id": "87637efe",
   "metadata": {},
   "source": [
    "## Type Inference"
   ]
  },
  {
   "cell_type": "code",
   "execution_count": 3,
   "id": "9e129c81",
   "metadata": {},
   "outputs": [
    {
     "name": "stdout",
     "output_type": "stream",
     "text": [
      "City: San Francisco\n",
      "Year: 2025\n"
     ]
    },
    {
     "data": {
      "text/plain": [
       "11 <nil>"
      ]
     },
     "execution_count": 3,
     "metadata": {},
     "output_type": "execute_result"
    }
   ],
   "source": [
    "var city = \"San Francisco\"  // Type inferred as string\n",
    "var year = 2025            // Type inferred as int\n",
    "\n",
    "fmt.Println(\"City:\", city)\n",
    "fmt.Println(\"Year:\", year)"
   ]
  },
  {
   "cell_type": "markdown",
   "id": "8c88d769",
   "metadata": {},
   "source": [
    "## Short Variable Declaration (`:=`)"
   ]
  },
  {
   "cell_type": "code",
   "execution_count": 4,
   "id": "f331548c",
   "metadata": {},
   "outputs": [
    {
     "name": "stdout",
     "output_type": "stream",
     "text": [
      "Language: Go\n",
      "Version: 1.21\n",
      "Version: 1.21\n"
     ]
    },
    {
     "data": {
      "text/plain": [
       "14 <nil>"
      ]
     },
     "execution_count": 4,
     "metadata": {},
     "output_type": "execute_result"
    }
   ],
   "source": [
    "language := \"Go\"\n",
    "version := 1.21\n",
    "\n",
    "fmt.Println(\"Language:\", language)\n",
    "fmt.Println(\"Version:\", version)"
   ]
  },
  {
   "cell_type": "markdown",
   "id": "41dabcb2",
   "metadata": {},
   "source": [
    "## Multiple Variable Declaration"
   ]
  },
  {
   "cell_type": "code",
   "execution_count": 5,
   "id": "e1ad4205",
   "metadata": {},
   "outputs": [
    {
     "name": "stdout",
     "output_type": "stream",
     "text": [
      "x, y, z: 1 2 3\n",
      "a, b, c: Hello 42 true\n"
     ]
    },
    {
     "data": {
      "text/plain": [
       "23 <nil>"
      ]
     },
     "execution_count": 5,
     "metadata": {},
     "output_type": "execute_result"
    }
   ],
   "source": [
    "var x, y, z int = 1, 2, 3\n",
    "a, b, c := \"Hello\", 42, true\n",
    "\n",
    "fmt.Println(\"x, y, z:\", x, y, z)\n",
    "fmt.Println(\"a, b, c:\", a, b, c)"
   ]
  },
  {
   "cell_type": "markdown",
   "id": "03780a89",
   "metadata": {},
   "source": [
    "## Constants"
   ]
  },
  {
   "cell_type": "code",
   "execution_count": 6,
   "id": "aa016480",
   "metadata": {},
   "outputs": [
    {
     "name": "stdout",
     "output_type": "stream",
     "text": [
      "Pi: 3.14159\n",
      "Greeting: Hello, Go!\n"
     ]
    },
    {
     "data": {
      "text/plain": [
       "21 <nil>"
      ]
     },
     "execution_count": 6,
     "metadata": {},
     "output_type": "execute_result"
    }
   ],
   "source": [
    "const Pi = 3.14159\n",
    "const Greeting = \"Hello, Go!\"\n",
    "\n",
    "fmt.Println(\"Pi:\", Pi)\n",
    "fmt.Println(\"Greeting:\", Greeting)"
   ]
  }
 ],
 "metadata": {
  "kernelspec": {
   "display_name": "Go",
   "language": "go",
   "name": "gophernotes"
  },
  "language_info": {
   "codemirror_mode": "",
   "file_extension": ".go",
   "mimetype": "",
   "name": "go",
   "nbconvert_exporter": "",
   "pygments_lexer": "",
   "version": "go1.21.5"
  }
 },
 "nbformat": 4,
 "nbformat_minor": 5
}
