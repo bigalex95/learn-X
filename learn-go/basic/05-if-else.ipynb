{
 "cells": [
  {
   "cell_type": "markdown",
   "id": "bdf0165c",
   "metadata": {},
   "source": [
    "# If-Else\n",
    "\n",
    "Learn about conditional statements in Go."
   ]
  },
  {
   "cell_type": "markdown",
   "id": "776f047c",
   "metadata": {},
   "source": [
    "## Basic If Statement"
   ]
  },
  {
   "cell_type": "code",
   "execution_count": 1,
   "id": "c236b89c",
   "metadata": {},
   "outputs": [
    {
     "name": "stdout",
     "output_type": "stream",
     "text": [
      "You are an adult\n"
     ]
    }
   ],
   "source": [
    "import \"fmt\"\n",
    "\n",
    "age := 18\n",
    "\n",
    "if age >= 18 {\n",
    "    fmt.Println(\"You are an adult\")\n",
    "}"
   ]
  },
  {
   "cell_type": "markdown",
   "id": "ae8ba0ca",
   "metadata": {},
   "source": [
    "## If-Else Statement"
   ]
  },
  {
   "cell_type": "code",
   "execution_count": 2,
   "id": "306f54ad",
   "metadata": {},
   "outputs": [
    {
     "name": "stdout",
     "output_type": "stream",
     "text": [
      "It's comfortable\n"
     ]
    }
   ],
   "source": [
    "temperature := 25\n",
    "\n",
    "if temperature > 30 {\n",
    "    fmt.Println(\"It's hot!\")\n",
    "} else {\n",
    "    fmt.Println(\"It's comfortable\")\n",
    "}"
   ]
  },
  {
   "cell_type": "markdown",
   "id": "707f9ce6",
   "metadata": {},
   "source": [
    "## If-Else If-Else Statement"
   ]
  },
  {
   "cell_type": "code",
   "execution_count": 3,
   "id": "2fbcd2d2",
   "metadata": {},
   "outputs": [
    {
     "name": "stdout",
     "output_type": "stream",
     "text": [
      "Grade: B\n"
     ]
    }
   ],
   "source": [
    "score := 85\n",
    "\n",
    "if score >= 90 {\n",
    "    fmt.Println(\"Grade: A\")\n",
    "} else if score >= 80 {\n",
    "    fmt.Println(\"Grade: B\")\n",
    "} else if score >= 70 {\n",
    "    fmt.Println(\"Grade: C\")\n",
    "} else if score >= 60 {\n",
    "    fmt.Println(\"Grade: D\")\n",
    "} else {\n",
    "    fmt.Println(\"Grade: F\")\n",
    "}"
   ]
  },
  {
   "cell_type": "markdown",
   "id": "a01d371a",
   "metadata": {},
   "source": [
    "## If with Short Statement"
   ]
  },
  {
   "cell_type": "code",
   "execution_count": 4,
   "id": "2f05fc9f",
   "metadata": {},
   "outputs": [
    {
     "name": "stdout",
     "output_type": "stream",
     "text": [
      "10 is even\n"
     ]
    }
   ],
   "source": [
    "// Variable declared in if statement is only available inside the if block\n",
    "if num := 10; num%2 == 0 {\n",
    "    fmt.Printf(\"%d is even\\n\", num)\n",
    "} else {\n",
    "    fmt.Printf(\"%d is odd\\n\", num)\n",
    "}"
   ]
  },
  {
   "cell_type": "markdown",
   "id": "0e131f02",
   "metadata": {},
   "source": [
    "## Logical Operators"
   ]
  },
  {
   "cell_type": "code",
   "execution_count": 5,
   "id": "63ef99f1",
   "metadata": {},
   "outputs": [
    {
     "name": "stdout",
     "output_type": "stream",
     "text": [
      "You can drive\n",
      "Time to relax!\n",
      "Let's go for a walk!\n"
     ]
    }
   ],
   "source": [
    "age := 25\n",
    "hasLicense := true\n",
    "\n",
    "// AND operator (&&)\n",
    "if age >= 18 && hasLicense {\n",
    "    fmt.Println(\"You can drive\")\n",
    "}\n",
    "\n",
    "// OR operator (||)\n",
    "isWeekend := true\n",
    "isHoliday := false\n",
    "\n",
    "if isWeekend || isHoliday {\n",
    "    fmt.Println(\"Time to relax!\")\n",
    "}\n",
    "\n",
    "// NOT operator (!)\n",
    "isRaining := false\n",
    "\n",
    "if !isRaining {\n",
    "    fmt.Println(\"Let's go for a walk!\")\n",
    "}"
   ]
  },
  {
   "cell_type": "markdown",
   "id": "bb239229",
   "metadata": {},
   "source": [
    "## Switch Statement (Alternative to If-Else)"
   ]
  },
  {
   "cell_type": "code",
   "execution_count": 6,
   "id": "f666f19d",
   "metadata": {},
   "outputs": [
    {
     "name": "stdout",
     "output_type": "stream",
     "text": [
      "Start of the work week\n"
     ]
    }
   ],
   "source": [
    "day := \"Monday\"\n",
    "\n",
    "switch day {\n",
    "case \"Monday\":\n",
    "    fmt.Println(\"Start of the work week\")\n",
    "case \"Friday\":\n",
    "    fmt.Println(\"Almost weekend!\")\n",
    "case \"Saturday\", \"Sunday\":\n",
    "    fmt.Println(\"Weekend!\")\n",
    "default:\n",
    "    fmt.Println(\"Middle of the week\")\n",
    "}"
   ]
  },
  {
   "cell_type": "markdown",
   "id": "b635f430",
   "metadata": {},
   "source": [
    "## Switch Without Expression"
   ]
  },
  {
   "cell_type": "code",
   "execution_count": 7,
   "id": "2d479d36",
   "metadata": {},
   "outputs": [
    {
     "name": "stdout",
     "output_type": "stream",
     "text": [
      "Good afternoon!\n"
     ]
    }
   ],
   "source": [
    "hour := 14\n",
    "\n",
    "switch {\n",
    "case hour < 12:\n",
    "    fmt.Println(\"Good morning!\")\n",
    "case hour < 18:\n",
    "    fmt.Println(\"Good afternoon!\")\n",
    "default:\n",
    "    fmt.Println(\"Good evening!\")\n",
    "}"
   ]
  }
 ],
 "metadata": {
  "kernelspec": {
   "display_name": "Go",
   "language": "go",
   "name": "gophernotes"
  },
  "language_info": {
   "codemirror_mode": "",
   "file_extension": ".go",
   "mimetype": "",
   "name": "go",
   "nbconvert_exporter": "",
   "pygments_lexer": "",
   "version": "go1.21.5"
  }
 },
 "nbformat": 4,
 "nbformat_minor": 5
}
