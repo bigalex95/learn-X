{
 "cells": [
  {
   "cell_type": "markdown",
   "id": "a9f8777f",
   "metadata": {},
   "source": [
    "# Loops\n",
    "\n",
    "Learn about loops in Go. Go has only one looping construct: the `for` loop."
   ]
  },
  {
   "cell_type": "markdown",
   "id": "2e457972",
   "metadata": {},
   "source": [
    "## Basic For Loop"
   ]
  },
  {
   "cell_type": "code",
   "execution_count": null,
   "id": "27b328d8",
   "metadata": {},
   "outputs": [],
   "source": [
    "import \"fmt\"\n",
    "\n",
    "// Classic for loop with init, condition, and post\n",
    "for i := 0; i < 5; i++ {\n",
    "    fmt.Printf(\"Iteration %d\\n\", i)\n",
    "}"
   ]
  },
  {
   "cell_type": "markdown",
   "id": "34d8cc13",
   "metadata": {},
   "source": [
    "## For Loop as While"
   ]
  },
  {
   "cell_type": "code",
   "execution_count": null,
   "id": "a8fcd973",
   "metadata": {},
   "outputs": [],
   "source": [
    "// Go's for loop can act like a while loop\n",
    "counter := 0\n",
    "\n",
    "for counter < 5 {\n",
    "    fmt.Printf(\"Counter: %d\\n\", counter)\n",
    "    counter++\n",
    "}"
   ]
  },
  {
   "cell_type": "markdown",
   "id": "4574a10e",
   "metadata": {},
   "source": [
    "## Infinite Loop"
   ]
  },
  {
   "cell_type": "code",
   "execution_count": null,
   "id": "aa8d1a11",
   "metadata": {},
   "outputs": [],
   "source": [
    "// Infinite loop with break\n",
    "n := 0\n",
    "\n",
    "for {\n",
    "    fmt.Printf(\"Number: %d\\n\", n)\n",
    "    n++\n",
    "    \n",
    "    if n >= 3 {\n",
    "        break  // Exit the loop\n",
    "    }\n",
    "}\n",
    "\n",
    "fmt.Println(\"Loop ended\")"
   ]
  },
  {
   "cell_type": "markdown",
   "id": "6fae77ba",
   "metadata": {},
   "source": [
    "## Range-based For Loop"
   ]
  },
  {
   "cell_type": "code",
   "execution_count": null,
   "id": "f1c30393",
   "metadata": {},
   "outputs": [],
   "source": [
    "// Iterate over a slice\n",
    "fruits := []string{\"Apple\", \"Banana\", \"Cherry\"}\n",
    "\n",
    "for index, fruit := range fruits {\n",
    "    fmt.Printf(\"Index %d: %s\\n\", index, fruit)\n",
    "}\n",
    "\n",
    "fmt.Println()\n",
    "\n",
    "// Iterate over values only (ignore index with _)\n",
    "for _, fruit := range fruits {\n",
    "    fmt.Println(\"Fruit:\", fruit)\n",
    "}"
   ]
  },
  {
   "cell_type": "markdown",
   "id": "76a41312",
   "metadata": {},
   "source": [
    "## Range Over Map"
   ]
  },
  {
   "cell_type": "code",
   "execution_count": null,
   "id": "3088abdd",
   "metadata": {},
   "outputs": [],
   "source": [
    "// Create a map\n",
    "ages := map[string]int{\n",
    "    \"Alice\": 25,\n",
    "    \"Bob\":   30,\n",
    "    \"Carol\": 28,\n",
    "}\n",
    "\n",
    "// Iterate over map\n",
    "for name, age := range ages {\n",
    "    fmt.Printf(\"%s is %d years old\\n\", name, age)\n",
    "}"
   ]
  },
  {
   "cell_type": "markdown",
   "id": "6808aefe",
   "metadata": {},
   "source": [
    "## Continue Statement"
   ]
  },
  {
   "cell_type": "code",
   "execution_count": null,
   "id": "f7e5dcf8",
   "metadata": {},
   "outputs": [],
   "source": [
    "// Skip even numbers\n",
    "for i := 0; i < 10; i++ {\n",
    "    if i%2 == 0 {\n",
    "        continue  // Skip to next iteration\n",
    "    }\n",
    "    fmt.Printf(\"Odd number: %d\\n\", i)\n",
    "}"
   ]
  },
  {
   "cell_type": "markdown",
   "id": "8e4ac495",
   "metadata": {},
   "source": [
    "## Nested Loops"
   ]
  },
  {
   "cell_type": "code",
   "execution_count": null,
   "id": "b578c27d",
   "metadata": {},
   "outputs": [],
   "source": [
    "// Print a multiplication table\n",
    "for i := 1; i <= 3; i++ {\n",
    "    for j := 1; j <= 3; j++ {\n",
    "        fmt.Printf(\"%d x %d = %d\\t\", i, j, i*j)\n",
    "    }\n",
    "    fmt.Println()\n",
    "}"
   ]
  },
  {
   "cell_type": "markdown",
   "id": "ef18733c",
   "metadata": {},
   "source": [
    "## Range Over String"
   ]
  },
  {
   "cell_type": "code",
   "execution_count": null,
   "id": "02906e62",
   "metadata": {},
   "outputs": [],
   "source": [
    "// Iterate over characters in a string\n",
    "text := \"Hello\"\n",
    "\n",
    "for index, char := range text {\n",
    "    fmt.Printf(\"Index %d: %c (Unicode: %U)\\n\", index, char, char)\n",
    "}"
   ]
  }
 ],
 "metadata": {
  "language_info": {
   "name": "python"
  }
 },
 "nbformat": 4,
 "nbformat_minor": 5
}
