{
 "cells": [
  {
   "cell_type": "markdown",
   "id": "a9f8777f",
   "metadata": {},
   "source": [
    "# Loops\n",
    "\n",
    "Learn about loops in Go. Go has only one looping construct: the `for` loop."
   ]
  },
  {
   "cell_type": "markdown",
   "id": "2e457972",
   "metadata": {},
   "source": [
    "## Basic For Loop"
   ]
  },
  {
   "cell_type": "code",
   "execution_count": 1,
   "id": "27b328d8",
   "metadata": {},
   "outputs": [
    {
     "name": "stdout",
     "output_type": "stream",
     "text": [
      "Iteration 0\n",
      "Iteration 1\n",
      "Iteration 2\n",
      "Iteration 3\n",
      "Iteration 4\n",
      "Iteration 2\n",
      "Iteration 3\n",
      "Iteration 4\n"
     ]
    }
   ],
   "source": [
    "import \"fmt\"\n",
    "\n",
    "// Classic for loop with init, condition, and post\n",
    "for i := 0; i < 5; i++ {\n",
    "    fmt.Printf(\"Iteration %d\\n\", i)\n",
    "}"
   ]
  },
  {
   "cell_type": "markdown",
   "id": "34d8cc13",
   "metadata": {},
   "source": [
    "## For Loop as While"
   ]
  },
  {
   "cell_type": "code",
   "execution_count": 2,
   "id": "a8fcd973",
   "metadata": {},
   "outputs": [
    {
     "name": "stdout",
     "output_type": "stream",
     "text": [
      "Counter: 0\n",
      "Counter: 1\n",
      "Counter: 2\n",
      "Counter: 3\n",
      "Counter: 4\n",
      "Counter: 1\n",
      "Counter: 2\n",
      "Counter: 3\n",
      "Counter: 4\n"
     ]
    }
   ],
   "source": [
    "// Go's for loop can act like a while loop\n",
    "counter := 0\n",
    "\n",
    "for counter < 5 {\n",
    "    fmt.Printf(\"Counter: %d\\n\", counter)\n",
    "    counter++\n",
    "}"
   ]
  },
  {
   "cell_type": "markdown",
   "id": "4574a10e",
   "metadata": {},
   "source": [
    "## Infinite Loop"
   ]
  },
  {
   "cell_type": "code",
   "execution_count": 3,
   "id": "aa8d1a11",
   "metadata": {},
   "outputs": [
    {
     "name": "stdout",
     "output_type": "stream",
     "text": [
      "Number: 0\n",
      "Number: 1\n",
      "Number: 2\n",
      "Loop ended\n",
      "Loop ended\n"
     ]
    },
    {
     "data": {
      "text/plain": [
       "11 <nil>"
      ]
     },
     "execution_count": 3,
     "metadata": {},
     "output_type": "execute_result"
    }
   ],
   "source": [
    "// Infinite loop with break\n",
    "n := 0\n",
    "\n",
    "for {\n",
    "    fmt.Printf(\"Number: %d\\n\", n)\n",
    "    n++\n",
    "    \n",
    "    if n >= 3 {\n",
    "        break  // Exit the loop\n",
    "    }\n",
    "}\n",
    "\n",
    "fmt.Println(\"Loop ended\")"
   ]
  },
  {
   "cell_type": "markdown",
   "id": "6fae77ba",
   "metadata": {},
   "source": [
    "## Range-based For Loop"
   ]
  },
  {
   "cell_type": "code",
   "execution_count": 4,
   "id": "f1c30393",
   "metadata": {},
   "outputs": [
    {
     "name": "stdout",
     "output_type": "stream",
     "text": [
      "Index 0: Apple\n",
      "Index 1: Banana\n",
      "Index 2: Cherry\n",
      "\n",
      "Fruit: Apple\n",
      "Fruit: Banana\n",
      "Fruit: Cherry\n",
      "Index 1: Banana\n",
      "Index 2: Cherry\n",
      "\n",
      "Fruit: Apple\n",
      "Fruit: Banana\n",
      "Fruit: Cherry\n"
     ]
    }
   ],
   "source": [
    "// Iterate over a slice\n",
    "fruits := []string{\"Apple\", \"Banana\", \"Cherry\"}\n",
    "\n",
    "for index, fruit := range fruits {\n",
    "    fmt.Printf(\"Index %d: %s\\n\", index, fruit)\n",
    "}\n",
    "\n",
    "fmt.Println()\n",
    "\n",
    "// Iterate over values only (ignore index with _)\n",
    "for _, fruit := range fruits {\n",
    "    fmt.Println(\"Fruit:\", fruit)\n",
    "}"
   ]
  },
  {
   "cell_type": "markdown",
   "id": "76a41312",
   "metadata": {},
   "source": [
    "## Range Over Map"
   ]
  },
  {
   "cell_type": "code",
   "execution_count": 5,
   "id": "3088abdd",
   "metadata": {},
   "outputs": [
    {
     "name": "stdout",
     "output_type": "stream",
     "text": [
      "Alice is 25 years old\n",
      "Bob is 30 years old\n",
      "Carol is 28 years old\n"
     ]
    }
   ],
   "source": [
    "// Create a map\n",
    "ages := map[string]int{\n",
    "    \"Alice\": 25,\n",
    "    \"Bob\":   30,\n",
    "    \"Carol\": 28,\n",
    "}\n",
    "\n",
    "// Iterate over map\n",
    "for name, age := range ages {\n",
    "    fmt.Printf(\"%s is %d years old\\n\", name, age)\n",
    "}"
   ]
  },
  {
   "cell_type": "markdown",
   "id": "6808aefe",
   "metadata": {},
   "source": [
    "## Continue Statement"
   ]
  },
  {
   "cell_type": "code",
   "execution_count": 6,
   "id": "f7e5dcf8",
   "metadata": {},
   "outputs": [
    {
     "name": "stdout",
     "output_type": "stream",
     "text": [
      "Odd number: 1\n",
      "Odd number: 3\n",
      "Odd number: 5\n",
      "Odd number: 7\n",
      "Odd number: 9\n"
     ]
    }
   ],
   "source": [
    "// Skip even numbers\n",
    "for i := 0; i < 10; i++ {\n",
    "    if i%2 == 0 {\n",
    "        continue  // Skip to next iteration\n",
    "    }\n",
    "    fmt.Printf(\"Odd number: %d\\n\", i)\n",
    "}"
   ]
  },
  {
   "cell_type": "markdown",
   "id": "8e4ac495",
   "metadata": {},
   "source": [
    "## Nested Loops"
   ]
  },
  {
   "cell_type": "code",
   "execution_count": 7,
   "id": "b578c27d",
   "metadata": {},
   "outputs": [
    {
     "name": "stdout",
     "output_type": "stream",
     "text": [
      "1 x 1 = 1\t1 x 2 = 2\t1 x 3 = 3\t\n",
      "2 x 1 = 2\t2 x 2 = 4\t2 x 3 = 6\t\n",
      "3 x 1 = 3\t3 x 2 = 6\t3 x 3 = 9\t\n",
      "1 x 2 = 2\t1 x 3 = 3\t\n",
      "2 x 1 = 2\t2 x 2 = 4\t2 x 3 = 6\t\n",
      "3 x 1 = 3\t3 x 2 = 6\t3 x 3 = 9\t\n"
     ]
    }
   ],
   "source": [
    "// Print a multiplication table\n",
    "for i := 1; i <= 3; i++ {\n",
    "    for j := 1; j <= 3; j++ {\n",
    "        fmt.Printf(\"%d x %d = %d\\t\", i, j, i*j)\n",
    "    }\n",
    "    fmt.Println()\n",
    "}"
   ]
  },
  {
   "cell_type": "markdown",
   "id": "ef18733c",
   "metadata": {},
   "source": [
    "## Range Over String"
   ]
  },
  {
   "cell_type": "code",
   "execution_count": 8,
   "id": "02906e62",
   "metadata": {},
   "outputs": [
    {
     "name": "stdout",
     "output_type": "stream",
     "text": [
      "Index 0: H (Unicode: U+0048)\n",
      "Index 1: e (Unicode: U+0065)\n",
      "Index 2: l (Unicode: U+006C)\n",
      "Index 3: l (Unicode: U+006C)\n",
      "Index 4: o (Unicode: U+006F)\n",
      "Index 3: l (Unicode: U+006C)\n",
      "Index 4: o (Unicode: U+006F)\n"
     ]
    }
   ],
   "source": [
    "// Iterate over characters in a string\n",
    "text := \"Hello\"\n",
    "\n",
    "for index, char := range text {\n",
    "    fmt.Printf(\"Index %d: %c (Unicode: %U)\\n\", index, char, char)\n",
    "}"
   ]
  }
 ],
 "metadata": {
  "kernelspec": {
   "display_name": "Go",
   "language": "go",
   "name": "gophernotes"
  },
  "language_info": {
   "codemirror_mode": "",
   "file_extension": ".go",
   "mimetype": "",
   "name": "go",
   "nbconvert_exporter": "",
   "pygments_lexer": "",
   "version": "go1.21.5"
  }
 },
 "nbformat": 4,
 "nbformat_minor": 5
}
