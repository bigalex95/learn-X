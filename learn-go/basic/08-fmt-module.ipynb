{
 "cells": [
  {
   "cell_type": "markdown",
   "id": "64dda7f1",
   "metadata": {},
   "source": [
    "# The fmt Module\n",
    "\n",
    "Learn about the `fmt` package - Go's formatted I/O library for printing and scanning."
   ]
  },
  {
   "cell_type": "markdown",
   "id": "004abf40",
   "metadata": {},
   "source": [
    "## Basic Printing Functions"
   ]
  },
  {
   "cell_type": "code",
   "execution_count": 1,
   "id": "a1cfa825",
   "metadata": {},
   "outputs": [
    {
     "name": "stdout",
     "output_type": "stream",
     "text": [
      "Hello World\n",
      "Hello, World!\n",
      "Name: Alice, Age: 25\n",
      "Hello, World!\n",
      "Name: Alice, Age: 25\n"
     ]
    },
    {
     "data": {
      "text/plain": [
       "21 <nil>"
      ]
     },
     "execution_count": 1,
     "metadata": {},
     "output_type": "execute_result"
    }
   ],
   "source": [
    "import \"fmt\"\n",
    "\n",
    "// Print - prints without newline\n",
    "fmt.Print(\"Hello \")\n",
    "fmt.Print(\"World\")\n",
    "fmt.Println()  // Add newline\n",
    "\n",
    "// Println - prints with newline\n",
    "fmt.Println(\"Hello, World!\")\n",
    "\n",
    "// Printf - formatted print\n",
    "name := \"Alice\"\n",
    "age := 25\n",
    "fmt.Printf(\"Name: %s, Age: %d\\n\", name, age)"
   ]
  },
  {
   "cell_type": "markdown",
   "id": "2eaa76c2",
   "metadata": {},
   "source": [
    "## Common Format Verbs"
   ]
  },
  {
   "cell_type": "code",
   "execution_count": null,
   "id": "a9d495e3",
   "metadata": {},
   "outputs": [],
   "source": [
    "// %v - default format\n",
    "fmt.Printf(\"Value: %v\\n\", 42)\n",
    "\n",
    "// %T - type\n",
    "fmt.Printf(\"Type: %T\\n\", 42)\n",
    "\n",
    "// %d - integer\n",
    "fmt.Printf(\"Integer: %d\\n\", 100)\n",
    "\n",
    "// %f - floating point\n",
    "fmt.Printf(\"Float: %f\\n\", 3.14159)\n",
    "\n",
    "// %.2f - floating point with precision\n",
    "fmt.Printf(\"Float (2 decimals): %.2f\\n\", 3.14159)\n",
    "\n",
    "// %s - string\n",
    "fmt.Printf(\"String: %s\\n\", \"Hello\")\n",
    "\n",
    "// %t - boolean\n",
    "fmt.Printf(\"Boolean: %t\\n\", true)"
   ]
  },
  {
   "cell_type": "markdown",
   "id": "9a3f719f",
   "metadata": {},
   "source": [
    "## Number Formatting"
   ]
  },
  {
   "cell_type": "code",
   "execution_count": null,
   "id": "ee8f8c99",
   "metadata": {},
   "outputs": [],
   "source": [
    "num := 255\n",
    "\n",
    "// %b - binary\n",
    "fmt.Printf(\"Binary: %b\\n\", num)\n",
    "\n",
    "// %o - octal\n",
    "fmt.Printf(\"Octal: %o\\n\", num)\n",
    "\n",
    "// %x - hexadecimal (lowercase)\n",
    "fmt.Printf(\"Hex (lower): %x\\n\", num)\n",
    "\n",
    "// %X - hexadecimal (uppercase)\n",
    "fmt.Printf(\"Hex (upper): %X\\n\", num)\n",
    "\n",
    "// Scientific notation\n",
    "big := 12345.6789\n",
    "fmt.Printf(\"Scientific: %e\\n\", big)\n",
    "fmt.Printf(\"Scientific (upper): %E\\n\", big)"
   ]
  },
  {
   "cell_type": "markdown",
   "id": "503f7d7d",
   "metadata": {},
   "source": [
    "## String Formatting"
   ]
  },
  {
   "cell_type": "code",
   "execution_count": null,
   "id": "4c153352",
   "metadata": {},
   "outputs": [],
   "source": [
    "text := \"Go\"\n",
    "\n",
    "// %s - simple string\n",
    "fmt.Printf(\"String: %s\\n\", text)\n",
    "\n",
    "// %q - quoted string\n",
    "fmt.Printf(\"Quoted: %q\\n\", text)\n",
    "\n",
    "// %5s - width 5, right aligned\n",
    "fmt.Printf(\"Right aligned: '%5s'\\n\", text)\n",
    "\n",
    "// %-5s - width 5, left aligned\n",
    "fmt.Printf(\"Left aligned: '%-5s'\\n\", text)"
   ]
  },
  {
   "cell_type": "markdown",
   "id": "b9f39451",
   "metadata": {},
   "source": [
    "## Pointer Formatting"
   ]
  },
  {
   "cell_type": "code",
   "execution_count": null,
   "id": "2f5426e6",
   "metadata": {},
   "outputs": [],
   "source": [
    "x := 42\n",
    "ptr := &x\n",
    "\n",
    "// %p - pointer address\n",
    "fmt.Printf(\"Pointer address: %p\\n\", ptr)\n",
    "\n",
    "// %v - pointer value\n",
    "fmt.Printf(\"Pointer: %v\\n\", ptr)\n",
    "\n",
    "// Value at pointer\n",
    "fmt.Printf(\"Value at pointer: %d\\n\", *ptr)"
   ]
  },
  {
   "cell_type": "markdown",
   "id": "14bf4fd7",
   "metadata": {},
   "source": [
    "## Struct Formatting"
   ]
  },
  {
   "cell_type": "code",
   "execution_count": null,
   "id": "48b04757",
   "metadata": {},
   "outputs": [],
   "source": [
    "type Person struct {\n",
    "    Name string\n",
    "    Age  int\n",
    "}\n",
    "\n",
    "person := Person{Name: \"Alice\", Age: 25}\n",
    "\n",
    "// %v - default format\n",
    "fmt.Printf(\"Default: %v\\n\", person)\n",
    "\n",
    "// %+v - includes field names\n",
    "fmt.Printf(\"With fields: %+v\\n\", person)\n",
    "\n",
    "// %#v - Go-syntax representation\n",
    "fmt.Printf(\"Go-syntax: %#v\\n\", person)"
   ]
  },
  {
   "cell_type": "markdown",
   "id": "b3435de0",
   "metadata": {},
   "source": [
    "## Sprintf - Format to String"
   ]
  },
  {
   "cell_type": "code",
   "execution_count": null,
   "id": "ecce066b",
   "metadata": {},
   "outputs": [],
   "source": [
    "// Sprintf returns formatted string without printing\n",
    "name := \"Bob\"\n",
    "age := 30\n",
    "\n",
    "message := fmt.Sprintf(\"%s is %d years old\", name, age)\n",
    "fmt.Println(\"Formatted string:\", message)\n",
    "\n",
    "// Useful for building strings\n",
    "filename := fmt.Sprintf(\"report_%d.txt\", 2025)\n",
    "fmt.Println(\"Filename:\", filename)"
   ]
  },
  {
   "cell_type": "markdown",
   "id": "831e1577",
   "metadata": {},
   "source": [
    "## Error Formatting"
   ]
  },
  {
   "cell_type": "code",
   "execution_count": null,
   "id": "5b1c81c9",
   "metadata": {},
   "outputs": [],
   "source": [
    "// Create formatted errors\n",
    "err := fmt.Errorf(\"error code: %d, message: %s\", 404, \"Not Found\")\n",
    "fmt.Println(\"Error:\", err)\n",
    "\n",
    "// Chain errors\n",
    "originalErr := fmt.Errorf(\"database connection failed\")\n",
    "wrappedErr := fmt.Errorf(\"failed to initialize: %w\", originalErr)\n",
    "fmt.Println(\"Wrapped error:\", wrappedErr)"
   ]
  },
  {
   "cell_type": "markdown",
   "id": "b32a0fa4",
   "metadata": {},
   "source": [
    "## Multiple Values"
   ]
  },
  {
   "cell_type": "code",
   "execution_count": null,
   "id": "fdaaf3a6",
   "metadata": {},
   "outputs": [],
   "source": [
    "// Println can print multiple values\n",
    "fmt.Println(\"Name:\", \"Alice\", \"Age:\", 25, \"Active:\", true)\n",
    "\n",
    "// Printf with multiple verbs\n",
    "fmt.Printf(\"Person: %s, %d years old, active: %t\\n\", \"Bob\", 30, false)"
   ]
  },
  {
   "cell_type": "markdown",
   "id": "3402223d",
   "metadata": {},
   "source": [
    "## Width and Precision"
   ]
  },
  {
   "cell_type": "code",
   "execution_count": null,
   "id": "00906db6",
   "metadata": {},
   "outputs": [],
   "source": [
    "// Width for integers\n",
    "fmt.Printf(\"Number: %5d\\n\", 42)    // \"   42\"\n",
    "fmt.Printf(\"Number: %05d\\n\", 42)   // \"00042\"\n",
    "\n",
    "// Width and precision for floats\n",
    "pi := 3.14159265\n",
    "fmt.Printf(\"Pi: %8.2f\\n\", pi)      // \"    3.14\"\n",
    "fmt.Printf(\"Pi: %08.2f\\n\", pi)     // \"00003.14\"\n",
    "\n",
    "// Width for strings\n",
    "fmt.Printf(\"Name: %10s\\n\", \"Go\")   // \"        Go\"\n",
    "fmt.Printf(\"Name: %-10s\\n\", \"Go\")  // \"Go        \""
   ]
  }
 ],
 "metadata": {
  "kernelspec": {
   "display_name": "Go",
   "language": "go",
   "name": "gophernotes"
  },
  "language_info": {
   "codemirror_mode": "",
   "file_extension": ".go",
   "mimetype": "",
   "name": "go",
   "nbconvert_exporter": "",
   "pygments_lexer": "",
   "version": "go1.21.5"
  }
 },
 "nbformat": 4,
 "nbformat_minor": 5
}
