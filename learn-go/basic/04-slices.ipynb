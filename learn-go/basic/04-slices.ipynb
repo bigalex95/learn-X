{
 "cells": [
  {
   "cell_type": "markdown",
   "id": "90715df1",
   "metadata": {},
   "source": [
    "# Slices\n",
    "\n",
    "Learn about dynamic-size slices in Go - a more flexible alternative to arrays."
   ]
  },
  {
   "cell_type": "markdown",
   "id": "55b36a97",
   "metadata": {},
   "source": [
    "## Creating Slices"
   ]
  },
  {
   "cell_type": "code",
   "execution_count": 1,
   "id": "dc81f611",
   "metadata": {},
   "outputs": [
    {
     "name": "stdout",
     "output_type": "stream",
     "text": [
      "Numbers: [1 2 3 4 5]\n",
      "Length: 5\n",
      "Capacity: 5\n"
     ]
    },
    {
     "data": {
      "text/plain": [
       "12 <nil>"
      ]
     },
     "execution_count": 1,
     "metadata": {},
     "output_type": "execute_result"
    }
   ],
   "source": [
    "import \"fmt\"\n",
    "\n",
    "// Create a slice with literal\n",
    "numbers := []int{1, 2, 3, 4, 5}\n",
    "\n",
    "fmt.Println(\"Numbers:\", numbers)\n",
    "fmt.Println(\"Length:\", len(numbers))\n",
    "fmt.Println(\"Capacity:\", cap(numbers))"
   ]
  },
  {
   "cell_type": "markdown",
   "id": "81032713",
   "metadata": {},
   "source": [
    "## Creating Slices with `make`"
   ]
  },
  {
   "cell_type": "code",
   "execution_count": 2,
   "id": "8b7a24a8",
   "metadata": {},
   "outputs": [
    {
     "name": "stdout",
     "output_type": "stream",
     "text": [
      "Slice1: [0 0 0 0 0] len: 5 cap: 5\n",
      "Slice2: [0 0 0] len: 3 cap: 10\n"
     ]
    },
    {
     "data": {
      "text/plain": [
       "31 <nil>"
      ]
     },
     "execution_count": 2,
     "metadata": {},
     "output_type": "execute_result"
    }
   ],
   "source": [
    "// make([]type, length, capacity)\n",
    "slice1 := make([]int, 5)       // length = 5, capacity = 5\n",
    "slice2 := make([]int, 3, 10)   // length = 3, capacity = 10\n",
    "\n",
    "fmt.Println(\"Slice1:\", slice1, \"len:\", len(slice1), \"cap:\", cap(slice1))\n",
    "fmt.Println(\"Slice2:\", slice2, \"len:\", len(slice2), \"cap:\", cap(slice2))"
   ]
  },
  {
   "cell_type": "markdown",
   "id": "baa56f56",
   "metadata": {},
   "source": [
    "## Appending to Slices"
   ]
  },
  {
   "cell_type": "code",
   "execution_count": 3,
   "id": "4decfe95",
   "metadata": {},
   "outputs": [
    {
     "name": "stdout",
     "output_type": "stream",
     "text": [
      "Initial: [Apple Banana]\n",
      "After append: [Apple Banana Cherry]\n",
      "After multiple append: [Apple Banana Cherry Date Elderberry]\n"
     ]
    },
    {
     "data": {
      "text/plain": [
       "61 <nil>"
      ]
     },
     "execution_count": 3,
     "metadata": {},
     "output_type": "execute_result"
    }
   ],
   "source": [
    "fruits := []string{\"Apple\", \"Banana\"}\n",
    "fmt.Println(\"Initial:\", fruits)\n",
    "\n",
    "// Append single element\n",
    "fruits = append(fruits, \"Cherry\")\n",
    "fmt.Println(\"After append:\", fruits)\n",
    "\n",
    "// Append multiple elements\n",
    "fruits = append(fruits, \"Date\", \"Elderberry\")\n",
    "fmt.Println(\"After multiple append:\", fruits)"
   ]
  },
  {
   "cell_type": "markdown",
   "id": "f0fdbb26",
   "metadata": {},
   "source": [
    "## Slicing Slices"
   ]
  },
  {
   "cell_type": "code",
   "execution_count": 4,
   "id": "bb7a173e",
   "metadata": {},
   "outputs": [
    {
     "name": "stdout",
     "output_type": "stream",
     "text": [
      "Original: [0 1 2 3 4 5 6 7 8 9]\n",
      "numbers[2:5]: [2 3 4]\n",
      "numbers[:4]: [0 1 2 3]\n",
      "numbers[6:]: [6 7 8 9]\n",
      "numbers[:]: [0 1 2 3 4 5 6 7 8 9]\n"
     ]
    },
    {
     "data": {
      "text/plain": [
       "34 <nil>"
      ]
     },
     "execution_count": 4,
     "metadata": {},
     "output_type": "execute_result"
    }
   ],
   "source": [
    "numbers := []int{0, 1, 2, 3, 4, 5, 6, 7, 8, 9}\n",
    "\n",
    "fmt.Println(\"Original:\", numbers)\n",
    "fmt.Println(\"numbers[2:5]:\", numbers[2:5])   // Elements 2, 3, 4\n",
    "fmt.Println(\"numbers[:4]:\", numbers[:4])     // Elements 0, 1, 2, 3\n",
    "fmt.Println(\"numbers[6:]:\", numbers[6:])     // Elements 6, 7, 8, 9\n",
    "fmt.Println(\"numbers[:]:\", numbers[:])       // All elements"
   ]
  },
  {
   "cell_type": "markdown",
   "id": "4ab9a5be",
   "metadata": {},
   "source": [
    "## Copying Slices"
   ]
  },
  {
   "cell_type": "code",
   "execution_count": 6,
   "id": "eea87e14",
   "metadata": {},
   "outputs": [
    {
     "name": "stdout",
     "output_type": "stream",
     "text": [
      "Source: [1 2 3 4 5]\n",
      "Destination: [1 2 3 4 5]\n",
      "Length of destination: 5\n"
     ]
    },
    {
     "data": {
      "text/plain": [
       "25 <nil>"
      ]
     },
     "execution_count": 6,
     "metadata": {},
     "output_type": "execute_result"
    }
   ],
   "source": [
    "source := []int{1, 2, 3, 4, 5}\n",
    "destination := make([]int, len(source))\n",
    "\n",
    "// Copy elements\n",
    "copy(destination, source)\n",
    "\n",
    "fmt.Println(\"Source:\", source)\n",
    "fmt.Println(\"Destination:\", destination)\n",
    "fmt.Println(\"Length of destination:\", len(destination))"
   ]
  },
  {
   "cell_type": "markdown",
   "id": "6beed608",
   "metadata": {},
   "source": [
    "## Iterating Over Slices"
   ]
  },
  {
   "cell_type": "code",
   "execution_count": 7,
   "id": "44c33c18",
   "metadata": {},
   "outputs": [
    {
     "name": "stdout",
     "output_type": "stream",
     "text": [
      "Index 0: Red\n",
      "Index 1: Green\n",
      "Index 2: Blue\n",
      "\n",
      "Color: Red\n",
      "Color: Green\n",
      "Color: Blue\n",
      "Index 1: Green\n",
      "Index 2: Blue\n",
      "\n",
      "Color: Red\n",
      "Color: Green\n",
      "Color: Blue\n"
     ]
    }
   ],
   "source": [
    "colors := []string{\"Red\", \"Green\", \"Blue\"}\n",
    "\n",
    "// Using range\n",
    "for index, color := range colors {\n",
    "    fmt.Printf(\"Index %d: %s\\n\", index, color)\n",
    "}\n",
    "\n",
    "fmt.Println()\n",
    "\n",
    "// If you only need the value\n",
    "for _, color := range colors {\n",
    "    fmt.Println(\"Color:\", color)\n",
    "}"
   ]
  }
 ],
 "metadata": {
  "kernelspec": {
   "display_name": "Go",
   "language": "go",
   "name": "gophernotes"
  },
  "language_info": {
   "codemirror_mode": "",
   "file_extension": ".go",
   "mimetype": "",
   "name": "go",
   "nbconvert_exporter": "",
   "pygments_lexer": "",
   "version": "go1.21.5"
  }
 },
 "nbformat": 4,
 "nbformat_minor": 5
}
