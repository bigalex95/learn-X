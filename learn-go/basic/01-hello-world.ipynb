{
 "cells": [
  {
   "cell_type": "markdown",
   "id": "5949a11e",
   "metadata": {},
   "source": [
    "# Hello, World!\n",
    "\n",
    "Learn how to write your first Go program."
   ]
  },
  {
   "cell_type": "code",
   "execution_count": 1,
   "id": "9803b18b",
   "metadata": {},
   "outputs": [],
   "source": [
    "package main\n",
    "\n",
    "import \"fmt\"\n",
    "\n",
    "func main() {\n",
    "    fmt.Println(\"Hello, World!\")\n",
    "}"
   ]
  },
  {
   "cell_type": "markdown",
   "id": "223e0a8f",
   "metadata": {},
   "source": [
    "## More Examples"
   ]
  },
  {
   "cell_type": "markdown",
   "id": "acd7a15c",
   "metadata": {},
   "source": [
    "## Explanation\n",
    "\n",
    "- `package main`: Every Go program starts with a package declaration. The `main` package is special - it defines a standalone executable program.\n",
    "- `import \"fmt\"`: Imports the `fmt` package for formatted I/O operations.\n",
    "- `func main()`: The entry point of the program. Execution starts here.\n",
    "- `fmt.Println()`: Prints text to the console with a newline."
   ]
  },
  {
   "cell_type": "code",
   "execution_count": 2,
   "id": "9b463c5f",
   "metadata": {},
   "outputs": [
    {
     "name": "stdout",
     "output_type": "stream",
     "text": [
      "Hello, World!\n"
     ]
    }
   ],
   "source": [
    "main()"
   ]
  }
 ],
 "metadata": {
  "kernelspec": {
   "display_name": "Go",
   "language": "go",
   "name": "gophernotes"
  },
  "language_info": {
   "codemirror_mode": "",
   "file_extension": ".go",
   "mimetype": "",
   "name": "go",
   "nbconvert_exporter": "",
   "pygments_lexer": "",
   "version": "go1.21.5"
  }
 },
 "nbformat": 4,
 "nbformat_minor": 5
}
