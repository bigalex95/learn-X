{
 "cells": [
  {
   "cell_type": "markdown",
   "id": "a8456a0e",
   "metadata": {},
   "source": [
    "# Arrays\n",
    "\n",
    "Learn about fixed-size arrays in Go."
   ]
  },
  {
   "cell_type": "markdown",
   "id": "f6bf9ff0",
   "metadata": {},
   "source": [
    "## Array Declaration"
   ]
  },
  {
   "cell_type": "code",
   "execution_count": 8,
   "id": "8e661a94",
   "metadata": {},
   "outputs": [
    {
     "name": "stdout",
     "output_type": "stream",
     "text": [
      "Array: [10 20 30 40 50]\n",
      "First element: 10\n",
      "Length: 5\n",
      "Length: 5\n"
     ]
    },
    {
     "data": {
      "text/plain": [
       "10 <nil>"
      ]
     },
     "execution_count": 8,
     "metadata": {},
     "output_type": "execute_result"
    }
   ],
   "source": [
    "import \"fmt\"\n",
    "\n",
    "// Declare an array of 5 integers\n",
    "var numbers [5]int\n",
    "numbers[0] = 10\n",
    "numbers[1] = 20\n",
    "numbers[2] = 30\n",
    "numbers[3] = 40\n",
    "numbers[4] = 50\n",
    "\n",
    "fmt.Println(\"Array:\", numbers)\n",
    "fmt.Println(\"First element:\", numbers[0])\n",
    "fmt.Println(\"Length:\", len(numbers))"
   ]
  },
  {
   "cell_type": "markdown",
   "id": "f696e1a7",
   "metadata": {},
   "source": [
    "## Array Initialization"
   ]
  },
  {
   "cell_type": "code",
   "execution_count": 9,
   "id": "864e3781",
   "metadata": {},
   "outputs": [
    {
     "name": "stdout",
     "output_type": "stream",
     "text": [
      "Fruits: [Apple Banana Cherry]\n",
      "Colors: [Red Green Blue Yellow]\n",
      "Number of colors: 4\n",
      "Number of colors: 4\n"
     ]
    },
    {
     "data": {
      "text/plain": [
       "20 <nil>"
      ]
     },
     "execution_count": 9,
     "metadata": {},
     "output_type": "execute_result"
    }
   ],
   "source": [
    "// Initialize array with values\n",
    "fruits := [3]string{\"Apple\", \"Banana\", \"Cherry\"}\n",
    "\n",
    "fmt.Println(\"Fruits:\", fruits)\n",
    "\n",
    "// Let Go infer the length\n",
    "colors := [...]string{\"Red\", \"Green\", \"Blue\", \"Yellow\"}\n",
    "\n",
    "fmt.Println(\"Colors:\", colors)\n",
    "fmt.Println(\"Number of colors:\", len(colors))"
   ]
  },
  {
   "cell_type": "markdown",
   "id": "a232e90f",
   "metadata": {},
   "source": [
    "## Iterating Over Arrays"
   ]
  },
  {
   "cell_type": "code",
   "execution_count": 10,
   "id": "976847df",
   "metadata": {},
   "outputs": [
    {
     "name": "stdout",
     "output_type": "stream",
     "text": [
      "Score 1: 85\n",
      "Score 2: 92\n",
      "Score 3: 78\n",
      "Score 4: 95\n",
      "\n",
      "Index 0: 85\n",
      "Index 1: 92\n",
      "Index 2: 78\n",
      "Index 3: 95\n",
      "\n",
      "Index 0: 85\n",
      "Index 1: 92\n",
      "Index 2: 78\n",
      "Index 3: 95\n"
     ]
    }
   ],
   "source": [
    "scores := [4]int{85, 92, 78, 95}\n",
    "\n",
    "// Using index\n",
    "for i := 0; i < len(scores); i++ {\n",
    "    fmt.Printf(\"Score %d: %d\\n\", i+1, scores[i])\n",
    "}\n",
    "\n",
    "fmt.Println()\n",
    "\n",
    "// Using range\n",
    "for index, value := range scores {\n",
    "    fmt.Printf(\"Index %d: %d\\n\", index, value)\n",
    "}"
   ]
  },
  {
   "cell_type": "markdown",
   "id": "5339d4ae",
   "metadata": {},
   "source": [
    "## Multi-dimensional Arrays"
   ]
  },
  {
   "cell_type": "code",
   "execution_count": 11,
   "id": "8566f342",
   "metadata": {},
   "outputs": [
    {
     "name": "stdout",
     "output_type": "stream",
     "text": [
      "Matrix: [[1 2 3] [4 5 6]]\n",
      "Element at [0][1]: 2\n",
      "1 2 3 \n",
      "4 5 6 \n",
      "1 2 3 \n",
      "4 5 6 \n"
     ]
    }
   ],
   "source": [
    "// 2D array (matrix)\n",
    "matrix := [2][3]int{\n",
    "    {1, 2, 3},\n",
    "    {4, 5, 6},\n",
    "}\n",
    "\n",
    "fmt.Println(\"Matrix:\", matrix)\n",
    "fmt.Println(\"Element at [0][1]:\", matrix[0][1])\n",
    "\n",
    "// Iterate over 2D array\n",
    "for i := 0; i < len(matrix); i++ {\n",
    "    for j := 0; j < len(matrix[i]); j++ {\n",
    "        fmt.Printf(\"%d \", matrix[i][j])\n",
    "    }\n",
    "    fmt.Println()\n",
    "}"
   ]
  }
 ],
 "metadata": {
  "kernelspec": {
   "display_name": "Go",
   "language": "go",
   "name": "gophernotes"
  },
  "language_info": {
   "codemirror_mode": "",
   "file_extension": ".go",
   "mimetype": "",
   "name": "go",
   "nbconvert_exporter": "",
   "pygments_lexer": "",
   "version": "go1.21.5"
  }
 },
 "nbformat": 4,
 "nbformat_minor": 5
}
