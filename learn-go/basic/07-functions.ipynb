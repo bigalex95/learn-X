{
 "cells": [
  {
   "cell_type": "markdown",
   "id": "6b5ca73b",
   "metadata": {},
   "source": [
    "# Functions\n",
    "\n",
    "Learn about functions in Go - how to define, call, and work with them."
   ]
  },
  {
   "cell_type": "markdown",
   "id": "b0db03e3",
   "metadata": {},
   "source": [
    "## Basic Function"
   ]
  },
  {
   "cell_type": "code",
   "execution_count": null,
   "id": "3db7229d",
   "metadata": {},
   "outputs": [],
   "source": [
    "import \"fmt\"\n",
    "\n",
    "func greet() {\n",
    "    fmt.Println(\"Hello, World!\")\n",
    "}\n",
    "\n",
    "greet()"
   ]
  },
  {
   "cell_type": "markdown",
   "id": "a0fa05bf",
   "metadata": {},
   "source": [
    "## Function with Parameters"
   ]
  },
  {
   "cell_type": "code",
   "execution_count": null,
   "id": "d1d6a9e8",
   "metadata": {},
   "outputs": [],
   "source": [
    "func greetPerson(name string) {\n",
    "    fmt.Printf(\"Hello, %s!\\n\", name)\n",
    "}\n",
    "\n",
    "greetPerson(\"Alice\")\n",
    "greetPerson(\"Bob\")"
   ]
  },
  {
   "cell_type": "markdown",
   "id": "677987bd",
   "metadata": {},
   "source": [
    "## Function with Return Value"
   ]
  },
  {
   "cell_type": "code",
   "execution_count": null,
   "id": "49b97f32",
   "metadata": {},
   "outputs": [],
   "source": [
    "func add(a int, b int) int {\n",
    "    return a + b\n",
    "}\n",
    "\n",
    "result := add(5, 3)\n",
    "fmt.Printf(\"5 + 3 = %d\\n\", result)"
   ]
  },
  {
   "cell_type": "markdown",
   "id": "970bf296",
   "metadata": {},
   "source": [
    "## Function with Multiple Parameters (Shorthand)"
   ]
  },
  {
   "cell_type": "code",
   "execution_count": null,
   "id": "ad9f3b8d",
   "metadata": {},
   "outputs": [],
   "source": [
    "// When parameters have the same type, you can use shorthand\n",
    "func multiply(x, y int) int {\n",
    "    return x * y\n",
    "}\n",
    "\n",
    "fmt.Printf(\"4 * 7 = %d\\n\", multiply(4, 7))"
   ]
  },
  {
   "cell_type": "markdown",
   "id": "dad4a178",
   "metadata": {},
   "source": [
    "## Multiple Return Values"
   ]
  },
  {
   "cell_type": "code",
   "execution_count": null,
   "id": "3eb85177",
   "metadata": {},
   "outputs": [],
   "source": [
    "func divide(a, b float64) (float64, error) {\n",
    "    if b == 0 {\n",
    "        return 0, fmt.Errorf(\"cannot divide by zero\")\n",
    "    }\n",
    "    return a / b, nil\n",
    "}\n",
    "\n",
    "result, err := divide(10, 2)\n",
    "if err != nil {\n",
    "    fmt.Println(\"Error:\", err)\n",
    "} else {\n",
    "    fmt.Printf(\"Result: %.2f\\n\", result)\n",
    "}\n",
    "\n",
    "result, err = divide(10, 0)\n",
    "if err != nil {\n",
    "    fmt.Println(\"Error:\", err)\n",
    "}"
   ]
  },
  {
   "cell_type": "markdown",
   "id": "a866dd5a",
   "metadata": {},
   "source": [
    "## Named Return Values"
   ]
  },
  {
   "cell_type": "code",
   "execution_count": null,
   "id": "87bebc56",
   "metadata": {},
   "outputs": [],
   "source": [
    "func rectangle(width, height float64) (area, perimeter float64) {\n",
    "    area = width * height\n",
    "    perimeter = 2 * (width + height)\n",
    "    return  // Naked return\n",
    "}\n",
    "\n",
    "a, p := rectangle(5, 3)\n",
    "fmt.Printf(\"Area: %.2f, Perimeter: %.2f\\n\", a, p)"
   ]
  },
  {
   "cell_type": "markdown",
   "id": "4a1ec091",
   "metadata": {},
   "source": [
    "## Variadic Functions"
   ]
  },
  {
   "cell_type": "code",
   "execution_count": null,
   "id": "173b9eb9",
   "metadata": {},
   "outputs": [],
   "source": [
    "// Function that accepts variable number of arguments\n",
    "func sum(numbers ...int) int {\n",
    "    total := 0\n",
    "    for _, num := range numbers {\n",
    "        total += num\n",
    "    }\n",
    "    return total\n",
    "}\n",
    "\n",
    "fmt.Println(\"Sum of 1, 2, 3:\", sum(1, 2, 3))\n",
    "fmt.Println(\"Sum of 10, 20, 30, 40:\", sum(10, 20, 30, 40))\n",
    "fmt.Println(\"Sum of 5:\", sum(5))"
   ]
  },
  {
   "cell_type": "markdown",
   "id": "c24d0d5b",
   "metadata": {},
   "source": [
    "## Anonymous Functions (Closures)"
   ]
  },
  {
   "cell_type": "code",
   "execution_count": null,
   "id": "caf2aa2f",
   "metadata": {},
   "outputs": [],
   "source": [
    "// Define and call an anonymous function\n",
    "func() {\n",
    "    fmt.Println(\"This is an anonymous function\")\n",
    "}()\n",
    "\n",
    "// Assign anonymous function to a variable\n",
    "square := func(n int) int {\n",
    "    return n * n\n",
    "}\n",
    "\n",
    "fmt.Printf(\"Square of 5: %d\\n\", square(5))"
   ]
  },
  {
   "cell_type": "markdown",
   "id": "4d123548",
   "metadata": {},
   "source": [
    "## Function as Parameter"
   ]
  },
  {
   "cell_type": "code",
   "execution_count": null,
   "id": "29d9811e",
   "metadata": {},
   "outputs": [],
   "source": [
    "func applyOperation(a, b int, op func(int, int) int) int {\n",
    "    return op(a, b)\n",
    "}\n",
    "\n",
    "add := func(x, y int) int { return x + y }\n",
    "multiply := func(x, y int) int { return x * y }\n",
    "\n",
    "fmt.Printf(\"5 + 3 = %d\\n\", applyOperation(5, 3, add))\n",
    "fmt.Printf(\"5 * 3 = %d\\n\", applyOperation(5, 3, multiply))"
   ]
  },
  {
   "cell_type": "markdown",
   "id": "854dfe44",
   "metadata": {},
   "source": [
    "## Defer Statement"
   ]
  },
  {
   "cell_type": "code",
   "execution_count": null,
   "id": "726841a0",
   "metadata": {},
   "outputs": [],
   "source": [
    "func deferExample() {\n",
    "    fmt.Println(\"Start\")\n",
    "    \n",
    "    defer fmt.Println(\"This runs last (deferred)\")\n",
    "    \n",
    "    fmt.Println(\"Middle\")\n",
    "    fmt.Println(\"End\")\n",
    "}\n",
    "\n",
    "deferExample()"
   ]
  }
 ],
 "metadata": {
  "language_info": {
   "name": "python"
  }
 },
 "nbformat": 4,
 "nbformat_minor": 5
}
